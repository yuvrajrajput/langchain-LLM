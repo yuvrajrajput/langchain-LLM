{
  "nbformat": 4,
  "nbformat_minor": 0,
  "metadata": {
    "colab": {
      "provenance": []
    },
    "kernelspec": {
      "name": "python3",
      "display_name": "Python 3"
    },
    "language_info": {
      "name": "python"
    }
  },
  "cells": [
    {
      "cell_type": "code",
      "source": [
        "pip install langchain"
      ],
      "metadata": {
        "colab": {
          "base_uri": "https://localhost:8080/"
        },
        "id": "j882j6PzZXMT",
        "outputId": "a52aecca-a929-48be-a6e5-49f71be53958"
      },
      "execution_count": null,
      "outputs": [
        {
          "output_type": "stream",
          "name": "stdout",
          "text": [
            "Requirement already satisfied: langchain in /usr/local/lib/python3.11/dist-packages (0.3.26)\n",
            "Requirement already satisfied: langchain-core<1.0.0,>=0.3.66 in /usr/local/lib/python3.11/dist-packages (from langchain) (0.3.66)\n",
            "Requirement already satisfied: langchain-text-splitters<1.0.0,>=0.3.8 in /usr/local/lib/python3.11/dist-packages (from langchain) (0.3.8)\n",
            "Requirement already satisfied: langsmith>=0.1.17 in /usr/local/lib/python3.11/dist-packages (from langchain) (0.4.1)\n",
            "Requirement already satisfied: pydantic<3.0.0,>=2.7.4 in /usr/local/lib/python3.11/dist-packages (from langchain) (2.11.7)\n",
            "Requirement already satisfied: SQLAlchemy<3,>=1.4 in /usr/local/lib/python3.11/dist-packages (from langchain) (2.0.41)\n",
            "Requirement already satisfied: requests<3,>=2 in /usr/local/lib/python3.11/dist-packages (from langchain) (2.32.3)\n",
            "Requirement already satisfied: PyYAML>=5.3 in /usr/local/lib/python3.11/dist-packages (from langchain) (6.0.2)\n",
            "Requirement already satisfied: tenacity!=8.4.0,<10.0.0,>=8.1.0 in /usr/local/lib/python3.11/dist-packages (from langchain-core<1.0.0,>=0.3.66->langchain) (8.5.0)\n",
            "Requirement already satisfied: jsonpatch<2.0,>=1.33 in /usr/local/lib/python3.11/dist-packages (from langchain-core<1.0.0,>=0.3.66->langchain) (1.33)\n",
            "Requirement already satisfied: packaging<25,>=23.2 in /usr/local/lib/python3.11/dist-packages (from langchain-core<1.0.0,>=0.3.66->langchain) (24.2)\n",
            "Requirement already satisfied: typing-extensions>=4.7 in /usr/local/lib/python3.11/dist-packages (from langchain-core<1.0.0,>=0.3.66->langchain) (4.14.0)\n",
            "Requirement already satisfied: httpx<1,>=0.23.0 in /usr/local/lib/python3.11/dist-packages (from langsmith>=0.1.17->langchain) (0.28.1)\n",
            "Requirement already satisfied: orjson<4.0.0,>=3.9.14 in /usr/local/lib/python3.11/dist-packages (from langsmith>=0.1.17->langchain) (3.10.18)\n",
            "Requirement already satisfied: requests-toolbelt<2.0.0,>=1.0.0 in /usr/local/lib/python3.11/dist-packages (from langsmith>=0.1.17->langchain) (1.0.0)\n",
            "Requirement already satisfied: zstandard<0.24.0,>=0.23.0 in /usr/local/lib/python3.11/dist-packages (from langsmith>=0.1.17->langchain) (0.23.0)\n",
            "Requirement already satisfied: annotated-types>=0.6.0 in /usr/local/lib/python3.11/dist-packages (from pydantic<3.0.0,>=2.7.4->langchain) (0.7.0)\n",
            "Requirement already satisfied: pydantic-core==2.33.2 in /usr/local/lib/python3.11/dist-packages (from pydantic<3.0.0,>=2.7.4->langchain) (2.33.2)\n",
            "Requirement already satisfied: typing-inspection>=0.4.0 in /usr/local/lib/python3.11/dist-packages (from pydantic<3.0.0,>=2.7.4->langchain) (0.4.1)\n",
            "Requirement already satisfied: charset-normalizer<4,>=2 in /usr/local/lib/python3.11/dist-packages (from requests<3,>=2->langchain) (3.4.2)\n",
            "Requirement already satisfied: idna<4,>=2.5 in /usr/local/lib/python3.11/dist-packages (from requests<3,>=2->langchain) (3.10)\n",
            "Requirement already satisfied: urllib3<3,>=1.21.1 in /usr/local/lib/python3.11/dist-packages (from requests<3,>=2->langchain) (2.4.0)\n",
            "Requirement already satisfied: certifi>=2017.4.17 in /usr/local/lib/python3.11/dist-packages (from requests<3,>=2->langchain) (2025.6.15)\n",
            "Requirement already satisfied: greenlet>=1 in /usr/local/lib/python3.11/dist-packages (from SQLAlchemy<3,>=1.4->langchain) (3.2.3)\n",
            "Requirement already satisfied: anyio in /usr/local/lib/python3.11/dist-packages (from httpx<1,>=0.23.0->langsmith>=0.1.17->langchain) (4.9.0)\n",
            "Requirement already satisfied: httpcore==1.* in /usr/local/lib/python3.11/dist-packages (from httpx<1,>=0.23.0->langsmith>=0.1.17->langchain) (1.0.9)\n",
            "Requirement already satisfied: h11>=0.16 in /usr/local/lib/python3.11/dist-packages (from httpcore==1.*->httpx<1,>=0.23.0->langsmith>=0.1.17->langchain) (0.16.0)\n",
            "Requirement already satisfied: jsonpointer>=1.9 in /usr/local/lib/python3.11/dist-packages (from jsonpatch<2.0,>=1.33->langchain-core<1.0.0,>=0.3.66->langchain) (3.0.0)\n",
            "Requirement already satisfied: sniffio>=1.1 in /usr/local/lib/python3.11/dist-packages (from anyio->httpx<1,>=0.23.0->langsmith>=0.1.17->langchain) (1.3.1)\n"
          ]
        }
      ]
    },
    {
      "cell_type": "code",
      "source": [
        "pip install langgraph"
      ],
      "metadata": {
        "colab": {
          "base_uri": "https://localhost:8080/"
        },
        "id": "YAO7RcveZTSs",
        "outputId": "f6dcc340-214b-4d8b-de61-6d105bcaf339"
      },
      "execution_count": null,
      "outputs": [
        {
          "output_type": "stream",
          "name": "stdout",
          "text": [
            "Collecting langgraph\n",
            "  Downloading langgraph-0.5.0-py3-none-any.whl.metadata (6.7 kB)\n",
            "Requirement already satisfied: langchain-core>=0.1 in /usr/local/lib/python3.11/dist-packages (from langgraph) (0.3.66)\n",
            "Collecting langgraph-checkpoint>=2.1.0 (from langgraph)\n",
            "  Downloading langgraph_checkpoint-2.1.0-py3-none-any.whl.metadata (4.2 kB)\n",
            "Collecting langgraph-prebuilt>=0.5.0 (from langgraph)\n",
            "  Downloading langgraph_prebuilt-0.5.1-py3-none-any.whl.metadata (4.5 kB)\n",
            "Collecting langgraph-sdk>=0.1.42 (from langgraph)\n",
            "  Downloading langgraph_sdk-0.1.72-py3-none-any.whl.metadata (1.5 kB)\n",
            "Requirement already satisfied: pydantic>=2.7.4 in /usr/local/lib/python3.11/dist-packages (from langgraph) (2.11.7)\n",
            "Requirement already satisfied: xxhash>=3.5.0 in /usr/local/lib/python3.11/dist-packages (from langgraph) (3.5.0)\n",
            "Requirement already satisfied: langsmith>=0.3.45 in /usr/local/lib/python3.11/dist-packages (from langchain-core>=0.1->langgraph) (0.4.1)\n",
            "Requirement already satisfied: tenacity!=8.4.0,<10.0.0,>=8.1.0 in /usr/local/lib/python3.11/dist-packages (from langchain-core>=0.1->langgraph) (8.5.0)\n",
            "Requirement already satisfied: jsonpatch<2.0,>=1.33 in /usr/local/lib/python3.11/dist-packages (from langchain-core>=0.1->langgraph) (1.33)\n",
            "Requirement already satisfied: PyYAML>=5.3 in /usr/local/lib/python3.11/dist-packages (from langchain-core>=0.1->langgraph) (6.0.2)\n",
            "Requirement already satisfied: packaging<25,>=23.2 in /usr/local/lib/python3.11/dist-packages (from langchain-core>=0.1->langgraph) (24.2)\n",
            "Requirement already satisfied: typing-extensions>=4.7 in /usr/local/lib/python3.11/dist-packages (from langchain-core>=0.1->langgraph) (4.14.0)\n",
            "Collecting ormsgpack>=1.10.0 (from langgraph-checkpoint>=2.1.0->langgraph)\n",
            "  Downloading ormsgpack-1.10.0-cp311-cp311-manylinux_2_17_x86_64.manylinux2014_x86_64.whl.metadata (43 kB)\n",
            "\u001b[2K     \u001b[90m━━━━━━━━━━━━━━━━━━━━━━━━━━━━━━━━━━━━━━━━\u001b[0m \u001b[32m43.7/43.7 kB\u001b[0m \u001b[31m1.7 MB/s\u001b[0m eta \u001b[36m0:00:00\u001b[0m\n",
            "\u001b[?25hRequirement already satisfied: httpx>=0.25.2 in /usr/local/lib/python3.11/dist-packages (from langgraph-sdk>=0.1.42->langgraph) (0.28.1)\n",
            "Requirement already satisfied: orjson>=3.10.1 in /usr/local/lib/python3.11/dist-packages (from langgraph-sdk>=0.1.42->langgraph) (3.10.18)\n",
            "Requirement already satisfied: annotated-types>=0.6.0 in /usr/local/lib/python3.11/dist-packages (from pydantic>=2.7.4->langgraph) (0.7.0)\n",
            "Requirement already satisfied: pydantic-core==2.33.2 in /usr/local/lib/python3.11/dist-packages (from pydantic>=2.7.4->langgraph) (2.33.2)\n",
            "Requirement already satisfied: typing-inspection>=0.4.0 in /usr/local/lib/python3.11/dist-packages (from pydantic>=2.7.4->langgraph) (0.4.1)\n",
            "Requirement already satisfied: anyio in /usr/local/lib/python3.11/dist-packages (from httpx>=0.25.2->langgraph-sdk>=0.1.42->langgraph) (4.9.0)\n",
            "Requirement already satisfied: certifi in /usr/local/lib/python3.11/dist-packages (from httpx>=0.25.2->langgraph-sdk>=0.1.42->langgraph) (2025.6.15)\n",
            "Requirement already satisfied: httpcore==1.* in /usr/local/lib/python3.11/dist-packages (from httpx>=0.25.2->langgraph-sdk>=0.1.42->langgraph) (1.0.9)\n",
            "Requirement already satisfied: idna in /usr/local/lib/python3.11/dist-packages (from httpx>=0.25.2->langgraph-sdk>=0.1.42->langgraph) (3.10)\n",
            "Requirement already satisfied: h11>=0.16 in /usr/local/lib/python3.11/dist-packages (from httpcore==1.*->httpx>=0.25.2->langgraph-sdk>=0.1.42->langgraph) (0.16.0)\n",
            "Requirement already satisfied: jsonpointer>=1.9 in /usr/local/lib/python3.11/dist-packages (from jsonpatch<2.0,>=1.33->langchain-core>=0.1->langgraph) (3.0.0)\n",
            "Requirement already satisfied: requests<3,>=2 in /usr/local/lib/python3.11/dist-packages (from langsmith>=0.3.45->langchain-core>=0.1->langgraph) (2.32.3)\n",
            "Requirement already satisfied: requests-toolbelt<2.0.0,>=1.0.0 in /usr/local/lib/python3.11/dist-packages (from langsmith>=0.3.45->langchain-core>=0.1->langgraph) (1.0.0)\n",
            "Requirement already satisfied: zstandard<0.24.0,>=0.23.0 in /usr/local/lib/python3.11/dist-packages (from langsmith>=0.3.45->langchain-core>=0.1->langgraph) (0.23.0)\n",
            "Requirement already satisfied: charset-normalizer<4,>=2 in /usr/local/lib/python3.11/dist-packages (from requests<3,>=2->langsmith>=0.3.45->langchain-core>=0.1->langgraph) (3.4.2)\n",
            "Requirement already satisfied: urllib3<3,>=1.21.1 in /usr/local/lib/python3.11/dist-packages (from requests<3,>=2->langsmith>=0.3.45->langchain-core>=0.1->langgraph) (2.4.0)\n",
            "Requirement already satisfied: sniffio>=1.1 in /usr/local/lib/python3.11/dist-packages (from anyio->httpx>=0.25.2->langgraph-sdk>=0.1.42->langgraph) (1.3.1)\n",
            "Downloading langgraph-0.5.0-py3-none-any.whl (143 kB)\n",
            "\u001b[2K   \u001b[90m━━━━━━━━━━━━━━━━━━━━━━━━━━━━━━━━━━━━━━━━\u001b[0m \u001b[32m143.7/143.7 kB\u001b[0m \u001b[31m5.6 MB/s\u001b[0m eta \u001b[36m0:00:00\u001b[0m\n",
            "\u001b[?25hDownloading langgraph_checkpoint-2.1.0-py3-none-any.whl (43 kB)\n",
            "\u001b[2K   \u001b[90m━━━━━━━━━━━━━━━━━━━━━━━━━━━━━━━━━━━━━━━━\u001b[0m \u001b[32m43.8/43.8 kB\u001b[0m \u001b[31m3.4 MB/s\u001b[0m eta \u001b[36m0:00:00\u001b[0m\n",
            "\u001b[?25hDownloading langgraph_prebuilt-0.5.1-py3-none-any.whl (23 kB)\n",
            "Downloading langgraph_sdk-0.1.72-py3-none-any.whl (50 kB)\n",
            "\u001b[2K   \u001b[90m━━━━━━━━━━━━━━━━━━━━━━━━━━━━━━━━━━━━━━━━\u001b[0m \u001b[32m50.1/50.1 kB\u001b[0m \u001b[31m4.0 MB/s\u001b[0m eta \u001b[36m0:00:00\u001b[0m\n",
            "\u001b[?25hDownloading ormsgpack-1.10.0-cp311-cp311-manylinux_2_17_x86_64.manylinux2014_x86_64.whl (216 kB)\n",
            "\u001b[2K   \u001b[90m━━━━━━━━━━━━━━━━━━━━━━━━━━━━━━━━━━━━━━━━\u001b[0m \u001b[32m216.5/216.5 kB\u001b[0m \u001b[31m10.8 MB/s\u001b[0m eta \u001b[36m0:00:00\u001b[0m\n",
            "\u001b[?25hInstalling collected packages: ormsgpack, langgraph-sdk, langgraph-checkpoint, langgraph-prebuilt, langgraph\n",
            "Successfully installed langgraph-0.5.0 langgraph-checkpoint-2.1.0 langgraph-prebuilt-0.5.1 langgraph-sdk-0.1.72 ormsgpack-1.10.0\n"
          ]
        }
      ]
    },
    {
      "cell_type": "code",
      "source": [
        "pip install langsmith"
      ],
      "metadata": {
        "colab": {
          "base_uri": "https://localhost:8080/"
        },
        "id": "cI7U04rQZPZf",
        "outputId": "3fc1617a-5a03-4fd8-fbf4-2fa5f63e21b7"
      },
      "execution_count": null,
      "outputs": [
        {
          "output_type": "stream",
          "name": "stdout",
          "text": [
            "Requirement already satisfied: langsmith in /usr/local/lib/python3.11/dist-packages (0.4.1)\n",
            "Requirement already satisfied: httpx<1,>=0.23.0 in /usr/local/lib/python3.11/dist-packages (from langsmith) (0.28.1)\n",
            "Requirement already satisfied: orjson<4.0.0,>=3.9.14 in /usr/local/lib/python3.11/dist-packages (from langsmith) (3.10.18)\n",
            "Requirement already satisfied: packaging>=23.2 in /usr/local/lib/python3.11/dist-packages (from langsmith) (24.2)\n",
            "Requirement already satisfied: pydantic<3,>=1 in /usr/local/lib/python3.11/dist-packages (from langsmith) (2.11.7)\n",
            "Requirement already satisfied: requests<3,>=2 in /usr/local/lib/python3.11/dist-packages (from langsmith) (2.32.3)\n",
            "Requirement already satisfied: requests-toolbelt<2.0.0,>=1.0.0 in /usr/local/lib/python3.11/dist-packages (from langsmith) (1.0.0)\n",
            "Requirement already satisfied: zstandard<0.24.0,>=0.23.0 in /usr/local/lib/python3.11/dist-packages (from langsmith) (0.23.0)\n",
            "Requirement already satisfied: anyio in /usr/local/lib/python3.11/dist-packages (from httpx<1,>=0.23.0->langsmith) (4.9.0)\n",
            "Requirement already satisfied: certifi in /usr/local/lib/python3.11/dist-packages (from httpx<1,>=0.23.0->langsmith) (2025.6.15)\n",
            "Requirement already satisfied: httpcore==1.* in /usr/local/lib/python3.11/dist-packages (from httpx<1,>=0.23.0->langsmith) (1.0.9)\n",
            "Requirement already satisfied: idna in /usr/local/lib/python3.11/dist-packages (from httpx<1,>=0.23.0->langsmith) (3.10)\n",
            "Requirement already satisfied: h11>=0.16 in /usr/local/lib/python3.11/dist-packages (from httpcore==1.*->httpx<1,>=0.23.0->langsmith) (0.16.0)\n",
            "Requirement already satisfied: annotated-types>=0.6.0 in /usr/local/lib/python3.11/dist-packages (from pydantic<3,>=1->langsmith) (0.7.0)\n",
            "Requirement already satisfied: pydantic-core==2.33.2 in /usr/local/lib/python3.11/dist-packages (from pydantic<3,>=1->langsmith) (2.33.2)\n",
            "Requirement already satisfied: typing-extensions>=4.12.2 in /usr/local/lib/python3.11/dist-packages (from pydantic<3,>=1->langsmith) (4.14.0)\n",
            "Requirement already satisfied: typing-inspection>=0.4.0 in /usr/local/lib/python3.11/dist-packages (from pydantic<3,>=1->langsmith) (0.4.1)\n",
            "Requirement already satisfied: charset-normalizer<4,>=2 in /usr/local/lib/python3.11/dist-packages (from requests<3,>=2->langsmith) (3.4.2)\n",
            "Requirement already satisfied: urllib3<3,>=1.21.1 in /usr/local/lib/python3.11/dist-packages (from requests<3,>=2->langsmith) (2.4.0)\n",
            "Requirement already satisfied: sniffio>=1.1 in /usr/local/lib/python3.11/dist-packages (from anyio->httpx<1,>=0.23.0->langsmith) (1.3.1)\n"
          ]
        }
      ]
    },
    {
      "cell_type": "markdown",
      "source": [
        "# Build A Basic Chatbot With Langgraph(GRAPH API)"
      ],
      "metadata": {
        "id": "E7BZ5swXZ65A"
      }
    },
    {
      "cell_type": "code",
      "source": [
        "from typing import Annotated\n",
        "\n",
        "from typing_extensions import TypedDict\n",
        "\n",
        "from langgraph.graph import StateGraph,START,END\n",
        "from langgraph.graph.message import add_messages #reduccer for message"
      ],
      "metadata": {
        "id": "DCG9DWH6Za9F"
      },
      "execution_count": null,
      "outputs": []
    },
    {
      "cell_type": "code",
      "source": [
        "class State(TypedDict):\n",
        "    # Messages have the type \"list\". The `add_messages` function\n",
        "    # in the annotation defines how this state key should be updated\n",
        "    # (in this case, it appends messages to the list, rather than overwriting them)\n",
        "    messages:Annotated[list,add_messages]\n",
        "\n",
        "graph_builder = StateGraph(State)\n"
      ],
      "metadata": {
        "id": "fj58jtj52WXI"
      },
      "execution_count": null,
      "outputs": []
    },
    {
      "cell_type": "code",
      "source": [
        "graph_builder"
      ],
      "metadata": {
        "colab": {
          "base_uri": "https://localhost:8080/"
        },
        "id": "YdYZWBtD4o5_",
        "outputId": "92917768-0013-43b8-b8d3-d58f8f8a2737"
      },
      "execution_count": null,
      "outputs": [
        {
          "output_type": "execute_result",
          "data": {
            "text/plain": [
              "<langgraph.graph.state.StateGraph at 0x79d4c06b7c50>"
            ]
          },
          "metadata": {},
          "execution_count": 6
        }
      ]
    },
    {
      "cell_type": "code",
      "source": [
        "pip install python-dotenv"
      ],
      "metadata": {
        "colab": {
          "base_uri": "https://localhost:8080/"
        },
        "id": "JBp7el0h5C-u",
        "outputId": "55bd1216-65bc-4596-be12-33d8f51ab100"
      },
      "execution_count": null,
      "outputs": [
        {
          "output_type": "stream",
          "name": "stdout",
          "text": [
            "Collecting python-dotenv\n",
            "  Downloading python_dotenv-1.1.1-py3-none-any.whl.metadata (24 kB)\n",
            "Downloading python_dotenv-1.1.1-py3-none-any.whl (20 kB)\n",
            "Installing collected packages: python-dotenv\n",
            "Successfully installed python-dotenv-1.1.1\n"
          ]
        }
      ]
    },
    {
      "cell_type": "code",
      "source": [
        "import os\n",
        "from dotenv import load_dotenv\n",
        "load_dotenv()"
      ],
      "metadata": {
        "colab": {
          "base_uri": "https://localhost:8080/"
        },
        "id": "-PZSLair4qFA",
        "outputId": "b95d43fc-a811-42b4-9e0c-09cc35ac4f1f"
      },
      "execution_count": null,
      "outputs": [
        {
          "output_type": "execute_result",
          "data": {
            "text/plain": [
              "False"
            ]
          },
          "metadata": {},
          "execution_count": 8
        }
      ]
    },
    {
      "cell_type": "markdown",
      "source": [
        "API = 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\n",
        "\n",
        "```\n",
        "# This is formatted as code\n",
        "```\n",
        "\n"
      ],
      "metadata": {
        "id": "Bxfj9mo4BW1G"
      }
    },
    {
      "cell_type": "code",
      "source": [
        "pip install langchain_groq"
      ],
      "metadata": {
        "colab": {
          "base_uri": "https://localhost:8080/"
        },
        "id": "pL3OpIgmBr9d",
        "outputId": "67e26087-ff21-4ccc-f894-456d1f99657a"
      },
      "execution_count": null,
      "outputs": [
        {
          "output_type": "stream",
          "name": "stdout",
          "text": [
            "Collecting langchain_groq\n",
            "  Downloading langchain_groq-0.3.4-py3-none-any.whl.metadata (2.6 kB)\n",
            "Requirement already satisfied: langchain-core<1.0.0,>=0.3.66 in /usr/local/lib/python3.11/dist-packages (from langchain_groq) (0.3.66)\n",
            "Collecting groq<1,>=0.28.0 (from langchain_groq)\n",
            "  Downloading groq-0.29.0-py3-none-any.whl.metadata (16 kB)\n",
            "Requirement already satisfied: anyio<5,>=3.5.0 in /usr/local/lib/python3.11/dist-packages (from groq<1,>=0.28.0->langchain_groq) (4.9.0)\n",
            "Requirement already satisfied: distro<2,>=1.7.0 in /usr/local/lib/python3.11/dist-packages (from groq<1,>=0.28.0->langchain_groq) (1.9.0)\n",
            "Requirement already satisfied: httpx<1,>=0.23.0 in /usr/local/lib/python3.11/dist-packages (from groq<1,>=0.28.0->langchain_groq) (0.28.1)\n",
            "Requirement already satisfied: pydantic<3,>=1.9.0 in /usr/local/lib/python3.11/dist-packages (from groq<1,>=0.28.0->langchain_groq) (2.11.7)\n",
            "Requirement already satisfied: sniffio in /usr/local/lib/python3.11/dist-packages (from groq<1,>=0.28.0->langchain_groq) (1.3.1)\n",
            "Requirement already satisfied: typing-extensions<5,>=4.10 in /usr/local/lib/python3.11/dist-packages (from groq<1,>=0.28.0->langchain_groq) (4.14.0)\n",
            "Requirement already satisfied: langsmith>=0.3.45 in /usr/local/lib/python3.11/dist-packages (from langchain-core<1.0.0,>=0.3.66->langchain_groq) (0.4.1)\n",
            "Requirement already satisfied: tenacity!=8.4.0,<10.0.0,>=8.1.0 in /usr/local/lib/python3.11/dist-packages (from langchain-core<1.0.0,>=0.3.66->langchain_groq) (8.5.0)\n",
            "Requirement already satisfied: jsonpatch<2.0,>=1.33 in /usr/local/lib/python3.11/dist-packages (from langchain-core<1.0.0,>=0.3.66->langchain_groq) (1.33)\n",
            "Requirement already satisfied: PyYAML>=5.3 in /usr/local/lib/python3.11/dist-packages (from langchain-core<1.0.0,>=0.3.66->langchain_groq) (6.0.2)\n",
            "Requirement already satisfied: packaging<25,>=23.2 in /usr/local/lib/python3.11/dist-packages (from langchain-core<1.0.0,>=0.3.66->langchain_groq) (24.2)\n",
            "Requirement already satisfied: idna>=2.8 in /usr/local/lib/python3.11/dist-packages (from anyio<5,>=3.5.0->groq<1,>=0.28.0->langchain_groq) (3.10)\n",
            "Requirement already satisfied: certifi in /usr/local/lib/python3.11/dist-packages (from httpx<1,>=0.23.0->groq<1,>=0.28.0->langchain_groq) (2025.6.15)\n",
            "Requirement already satisfied: httpcore==1.* in /usr/local/lib/python3.11/dist-packages (from httpx<1,>=0.23.0->groq<1,>=0.28.0->langchain_groq) (1.0.9)\n",
            "Requirement already satisfied: h11>=0.16 in /usr/local/lib/python3.11/dist-packages (from httpcore==1.*->httpx<1,>=0.23.0->groq<1,>=0.28.0->langchain_groq) (0.16.0)\n",
            "Requirement already satisfied: jsonpointer>=1.9 in /usr/local/lib/python3.11/dist-packages (from jsonpatch<2.0,>=1.33->langchain-core<1.0.0,>=0.3.66->langchain_groq) (3.0.0)\n",
            "Requirement already satisfied: orjson<4.0.0,>=3.9.14 in /usr/local/lib/python3.11/dist-packages (from langsmith>=0.3.45->langchain-core<1.0.0,>=0.3.66->langchain_groq) (3.10.18)\n",
            "Requirement already satisfied: requests<3,>=2 in /usr/local/lib/python3.11/dist-packages (from langsmith>=0.3.45->langchain-core<1.0.0,>=0.3.66->langchain_groq) (2.32.3)\n",
            "Requirement already satisfied: requests-toolbelt<2.0.0,>=1.0.0 in /usr/local/lib/python3.11/dist-packages (from langsmith>=0.3.45->langchain-core<1.0.0,>=0.3.66->langchain_groq) (1.0.0)\n",
            "Requirement already satisfied: zstandard<0.24.0,>=0.23.0 in /usr/local/lib/python3.11/dist-packages (from langsmith>=0.3.45->langchain-core<1.0.0,>=0.3.66->langchain_groq) (0.23.0)\n",
            "Requirement already satisfied: annotated-types>=0.6.0 in /usr/local/lib/python3.11/dist-packages (from pydantic<3,>=1.9.0->groq<1,>=0.28.0->langchain_groq) (0.7.0)\n",
            "Requirement already satisfied: pydantic-core==2.33.2 in /usr/local/lib/python3.11/dist-packages (from pydantic<3,>=1.9.0->groq<1,>=0.28.0->langchain_groq) (2.33.2)\n",
            "Requirement already satisfied: typing-inspection>=0.4.0 in /usr/local/lib/python3.11/dist-packages (from pydantic<3,>=1.9.0->groq<1,>=0.28.0->langchain_groq) (0.4.1)\n",
            "Requirement already satisfied: charset-normalizer<4,>=2 in /usr/local/lib/python3.11/dist-packages (from requests<3,>=2->langsmith>=0.3.45->langchain-core<1.0.0,>=0.3.66->langchain_groq) (3.4.2)\n",
            "Requirement already satisfied: urllib3<3,>=1.21.1 in /usr/local/lib/python3.11/dist-packages (from requests<3,>=2->langsmith>=0.3.45->langchain-core<1.0.0,>=0.3.66->langchain_groq) (2.4.0)\n",
            "Downloading langchain_groq-0.3.4-py3-none-any.whl (15 kB)\n",
            "Downloading groq-0.29.0-py3-none-any.whl (130 kB)\n",
            "\u001b[2K   \u001b[90m━━━━━━━━━━━━━━━━━━━━━━━━━━━━━━━━━━━━━━━━\u001b[0m \u001b[32m130.8/130.8 kB\u001b[0m \u001b[31m4.2 MB/s\u001b[0m eta \u001b[36m0:00:00\u001b[0m\n",
            "\u001b[?25hInstalling collected packages: groq, langchain_groq\n",
            "Successfully installed groq-0.29.0 langchain_groq-0.3.4\n"
          ]
        }
      ]
    },
    {
      "cell_type": "code",
      "source": [
        "from langchain_groq import ChatGroq\n",
        "from langchain.chat_models import init_chat_model"
      ],
      "metadata": {
        "id": "pMAl1Y-4BWg_"
      },
      "execution_count": null,
      "outputs": []
    },
    {
      "cell_type": "markdown",
      "source": [
        "meta-llama/llama-4-scout-17b-16e-instruct"
      ],
      "metadata": {
        "id": "W7dTc3rNCltN"
      }
    },
    {
      "cell_type": "code",
      "source": [
        "import os\n",
        "from langchain_groq import ChatGroq\n",
        "\n",
        "os.environ[\"GROQ_API_KEY\"] = \"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\" # Replace with your actual API key\n",
        "\n",
        "llm=ChatGroq(model=\"meta-llama/llama-4-scout-17b-16e-instruct\")"
      ],
      "metadata": {
        "id": "8m-5imMWCL5Y"
      },
      "execution_count": null,
      "outputs": []
    },
    {
      "cell_type": "code",
      "source": [
        "llm"
      ],
      "metadata": {
        "colab": {
          "base_uri": "https://localhost:8080/"
        },
        "id": "VUJTLDZZCypV",
        "outputId": "451e50b8-8a7d-47d4-fa0a-023cfa420d8f"
      },
      "execution_count": null,
      "outputs": [
        {
          "output_type": "execute_result",
          "data": {
            "text/plain": [
              "ChatGroq(client=<groq.resources.chat.completions.Completions object at 0x79d4a129f2d0>, async_client=<groq.resources.chat.completions.AsyncCompletions object at 0x79d4a10fa950>, model_name='meta-llama/llama-4-scout-17b-16e-instruct', model_kwargs={}, groq_api_key=SecretStr('**********'))"
            ]
          },
          "metadata": {},
          "execution_count": 12
        }
      ]
    },
    {
      "cell_type": "code",
      "source": [
        "## Node Functionality\n",
        "def chatbot(state:State):\n",
        "    return {\"messages\":[llm.invoke(state[\"messages\"])]}"
      ],
      "metadata": {
        "id": "pSbSFNWoDibW"
      },
      "execution_count": null,
      "outputs": []
    },
    {
      "cell_type": "code",
      "source": [
        "graph_builder=StateGraph(State)\n",
        "\n",
        "## Adding node\n",
        "graph_builder.add_node(\"llmchatbot\",chatbot)\n",
        "## Adding Edges\n",
        "graph_builder.add_edge(START,\"llmchatbot\")\n",
        "graph_builder.add_edge(\"llmchatbot\",END)\n",
        "\n",
        "## compile the graph\n",
        "graph=graph_builder.compile()"
      ],
      "metadata": {
        "id": "QQexCwks6ltT"
      },
      "execution_count": null,
      "outputs": []
    },
    {
      "cell_type": "code",
      "source": [
        "## Visualize the graph\n",
        "from IPython.display import Image,display\n",
        "\n",
        "try:\n",
        "    display(Image(graph.get_graph().draw_mermaid_png()))\n",
        "except Exception:\n",
        "    pass"
      ],
      "metadata": {
        "colab": {
          "base_uri": "https://localhost:8080/",
          "height": 251
        },
        "id": "IgazKh1O6ono",
        "outputId": "8b7ec2ce-2000-4b61-c31b-1199f868fdd3"
      },
      "execution_count": null,
      "outputs": [
        {
          "output_type": "display_data",
          "data": {
            "image/png": "[encoded data removed]",
            "text/plain": [
              "<IPython.core.display.Image object>"
            ]
          },
          "metadata": {}
        }
      ]
    },
    {
      "cell_type": "code",
      "source": [
        "response=graph.invoke({\"messages\":\"Hi\"})"
      ],
      "metadata": {
        "id": "DIZKE70w6q-Y"
      },
      "execution_count": null,
      "outputs": []
    },
    {
      "cell_type": "code",
      "source": [
        "response[\"messages\"][-1].content"
      ],
      "metadata": {
        "colab": {
          "base_uri": "https://localhost:8080/",
          "height": 35
        },
        "id": "cutcLDkQ6tQM",
        "outputId": "e668ab79-e3f5-4fba-b882-7db7bc36cdf6"
      },
      "execution_count": null,
      "outputs": [
        {
          "output_type": "execute_result",
          "data": {
            "text/plain": [
              "\"Hello! It's nice to meet you. Is there something I can help you with or would you like to chat?\""
            ],
            "application/vnd.google.colaboratory.intrinsic+json": {
              "type": "string"
            }
          },
          "metadata": {},
          "execution_count": 17
        }
      ]
    },
    {
      "cell_type": "code",
      "source": [
        "for event in graph.stream({\"messages\":\"what is language model in simple language? give me answer in 2 line\"}):\n",
        "    for value in event.values():\n",
        "        print(value[\"messages\"][-1].content)"
      ],
      "metadata": {
        "id": "mP4GFFEi6-jh",
        "colab": {
          "base_uri": "https://localhost:8080/"
        },
        "outputId": "14990a92-54af-4474-cd2b-34c2156ff52b"
      },
      "execution_count": null,
      "outputs": [
        {
          "output_type": "stream",
          "name": "stdout",
          "text": [
            "A language model is a computer program that understands and generates human-like language, like a conversational robot that can chat with you. \n",
            "It uses complex algorithms to predict and create text based on patterns and structures it has learned from a huge amount of data.\n"
          ]
        }
      ]
    },
    {
      "cell_type": "markdown",
      "source": [
        "# Chatbot With Tool"
      ],
      "metadata": {
        "id": "jQHMlkis7PPh"
      }
    },
    {
      "cell_type": "code",
      "source": [
        "pip install langchain_tavily"
      ],
      "metadata": {
        "colab": {
          "base_uri": "https://localhost:8080/"
        },
        "id": "XLiSValIwPbT",
        "outputId": "603963ad-7c05-4723-b401-62a524fe6f7e"
      },
      "execution_count": null,
      "outputs": [
        {
          "output_type": "stream",
          "name": "stdout",
          "text": [
            "Collecting langchain_tavily\n",
            "  Downloading langchain_tavily-0.2.5-py3-none-any.whl.metadata (21 kB)\n",
            "Requirement already satisfied: aiohttp<4.0.0,>=3.11.14 in /usr/local/lib/python3.11/dist-packages (from langchain_tavily) (3.11.15)\n",
            "Requirement already satisfied: langchain<0.4.0,>=0.3.20 in /usr/local/lib/python3.11/dist-packages (from langchain_tavily) (0.3.26)\n",
            "Requirement already satisfied: langchain-core<0.4.0,>=0.3.15 in /usr/local/lib/python3.11/dist-packages (from langchain_tavily) (0.3.66)\n",
            "Requirement already satisfied: requests<3.0.0,>=2.32.3 in /usr/local/lib/python3.11/dist-packages (from langchain_tavily) (2.32.3)\n",
            "Requirement already satisfied: aiohappyeyeballs>=2.3.0 in /usr/local/lib/python3.11/dist-packages (from aiohttp<4.0.0,>=3.11.14->langchain_tavily) (2.6.1)\n",
            "Requirement already satisfied: aiosignal>=1.1.2 in /usr/local/lib/python3.11/dist-packages (from aiohttp<4.0.0,>=3.11.14->langchain_tavily) (1.3.2)\n",
            "Requirement already satisfied: attrs>=17.3.0 in /usr/local/lib/python3.11/dist-packages (from aiohttp<4.0.0,>=3.11.14->langchain_tavily) (25.3.0)\n",
            "Requirement already satisfied: frozenlist>=1.1.1 in /usr/local/lib/python3.11/dist-packages (from aiohttp<4.0.0,>=3.11.14->langchain_tavily) (1.7.0)\n",
            "Requirement already satisfied: multidict<7.0,>=4.5 in /usr/local/lib/python3.11/dist-packages (from aiohttp<4.0.0,>=3.11.14->langchain_tavily) (6.4.4)\n",
            "Requirement already satisfied: propcache>=0.2.0 in /usr/local/lib/python3.11/dist-packages (from aiohttp<4.0.0,>=3.11.14->langchain_tavily) (0.3.2)\n",
            "Requirement already satisfied: yarl<2.0,>=1.17.0 in /usr/local/lib/python3.11/dist-packages (from aiohttp<4.0.0,>=3.11.14->langchain_tavily) (1.20.1)\n",
            "Requirement already satisfied: langchain-text-splitters<1.0.0,>=0.3.8 in /usr/local/lib/python3.11/dist-packages (from langchain<0.4.0,>=0.3.20->langchain_tavily) (0.3.8)\n",
            "Requirement already satisfied: langsmith>=0.1.17 in /usr/local/lib/python3.11/dist-packages (from langchain<0.4.0,>=0.3.20->langchain_tavily) (0.4.1)\n",
            "Requirement already satisfied: pydantic<3.0.0,>=2.7.4 in /usr/local/lib/python3.11/dist-packages (from langchain<0.4.0,>=0.3.20->langchain_tavily) (2.11.7)\n",
            "Requirement already satisfied: SQLAlchemy<3,>=1.4 in /usr/local/lib/python3.11/dist-packages (from langchain<0.4.0,>=0.3.20->langchain_tavily) (2.0.41)\n",
            "Requirement already satisfied: PyYAML>=5.3 in /usr/local/lib/python3.11/dist-packages (from langchain<0.4.0,>=0.3.20->langchain_tavily) (6.0.2)\n",
            "Requirement already satisfied: tenacity!=8.4.0,<10.0.0,>=8.1.0 in /usr/local/lib/python3.11/dist-packages (from langchain-core<0.4.0,>=0.3.15->langchain_tavily) (8.5.0)\n",
            "Requirement already satisfied: jsonpatch<2.0,>=1.33 in /usr/local/lib/python3.11/dist-packages (from langchain-core<0.4.0,>=0.3.15->langchain_tavily) (1.33)\n",
            "Requirement already satisfied: packaging<25,>=23.2 in /usr/local/lib/python3.11/dist-packages (from langchain-core<0.4.0,>=0.3.15->langchain_tavily) (24.2)\n",
            "Requirement already satisfied: typing-extensions>=4.7 in /usr/local/lib/python3.11/dist-packages (from langchain-core<0.4.0,>=0.3.15->langchain_tavily) (4.14.0)\n",
            "Requirement already satisfied: charset-normalizer<4,>=2 in /usr/local/lib/python3.11/dist-packages (from requests<3.0.0,>=2.32.3->langchain_tavily) (3.4.2)\n",
            "Requirement already satisfied: idna<4,>=2.5 in /usr/local/lib/python3.11/dist-packages (from requests<3.0.0,>=2.32.3->langchain_tavily) (3.10)\n",
            "Requirement already satisfied: urllib3<3,>=1.21.1 in /usr/local/lib/python3.11/dist-packages (from requests<3.0.0,>=2.32.3->langchain_tavily) (2.4.0)\n",
            "Requirement already satisfied: certifi>=2017.4.17 in /usr/local/lib/python3.11/dist-packages (from requests<3.0.0,>=2.32.3->langchain_tavily) (2025.6.15)\n",
            "Requirement already satisfied: jsonpointer>=1.9 in /usr/local/lib/python3.11/dist-packages (from jsonpatch<2.0,>=1.33->langchain-core<0.4.0,>=0.3.15->langchain_tavily) (3.0.0)\n",
            "Requirement already satisfied: httpx<1,>=0.23.0 in /usr/local/lib/python3.11/dist-packages (from langsmith>=0.1.17->langchain<0.4.0,>=0.3.20->langchain_tavily) (0.28.1)\n",
            "Requirement already satisfied: orjson<4.0.0,>=3.9.14 in /usr/local/lib/python3.11/dist-packages (from langsmith>=0.1.17->langchain<0.4.0,>=0.3.20->langchain_tavily) (3.10.18)\n",
            "Requirement already satisfied: requests-toolbelt<2.0.0,>=1.0.0 in /usr/local/lib/python3.11/dist-packages (from langsmith>=0.1.17->langchain<0.4.0,>=0.3.20->langchain_tavily) (1.0.0)\n",
            "Requirement already satisfied: zstandard<0.24.0,>=0.23.0 in /usr/local/lib/python3.11/dist-packages (from langsmith>=0.1.17->langchain<0.4.0,>=0.3.20->langchain_tavily) (0.23.0)\n",
            "Requirement already satisfied: annotated-types>=0.6.0 in /usr/local/lib/python3.11/dist-packages (from pydantic<3.0.0,>=2.7.4->langchain<0.4.0,>=0.3.20->langchain_tavily) (0.7.0)\n",
            "Requirement already satisfied: pydantic-core==2.33.2 in /usr/local/lib/python3.11/dist-packages (from pydantic<3.0.0,>=2.7.4->langchain<0.4.0,>=0.3.20->langchain_tavily) (2.33.2)\n",
            "Requirement already satisfied: typing-inspection>=0.4.0 in /usr/local/lib/python3.11/dist-packages (from pydantic<3.0.0,>=2.7.4->langchain<0.4.0,>=0.3.20->langchain_tavily) (0.4.1)\n",
            "Requirement already satisfied: greenlet>=1 in /usr/local/lib/python3.11/dist-packages (from SQLAlchemy<3,>=1.4->langchain<0.4.0,>=0.3.20->langchain_tavily) (3.2.3)\n",
            "Requirement already satisfied: anyio in /usr/local/lib/python3.11/dist-packages (from httpx<1,>=0.23.0->langsmith>=0.1.17->langchain<0.4.0,>=0.3.20->langchain_tavily) (4.9.0)\n",
            "Requirement already satisfied: httpcore==1.* in /usr/local/lib/python3.11/dist-packages (from httpx<1,>=0.23.0->langsmith>=0.1.17->langchain<0.4.0,>=0.3.20->langchain_tavily) (1.0.9)\n",
            "Requirement already satisfied: h11>=0.16 in /usr/local/lib/python3.11/dist-packages (from httpcore==1.*->httpx<1,>=0.23.0->langsmith>=0.1.17->langchain<0.4.0,>=0.3.20->langchain_tavily) (0.16.0)\n",
            "Requirement already satisfied: sniffio>=1.1 in /usr/local/lib/python3.11/dist-packages (from anyio->httpx<1,>=0.23.0->langsmith>=0.1.17->langchain<0.4.0,>=0.3.20->langchain_tavily) (1.3.1)\n",
            "Downloading langchain_tavily-0.2.5-py3-none-any.whl (24 kB)\n",
            "Installing collected packages: langchain_tavily\n",
            "Successfully installed langchain_tavily-0.2.5\n"
          ]
        }
      ]
    },
    {
      "cell_type": "code",
      "source": [
        "# Replace with your actual Tavily API key\n",
        "os.environ[\"TAVILY_API_KEY\"] = \"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\""
      ],
      "metadata": {
        "id": "g_yJ_XnqEt12"
      },
      "execution_count": null,
      "outputs": []
    },
    {
      "cell_type": "code",
      "source": [
        "from langchain_tavily import TavilySearch\n",
        "\n",
        "tool=TavilySearch(max_results=2)\n",
        "tool.invoke(\"What is langgraph\")"
      ],
      "metadata": {
        "id": "G_XwJtGp7bIP",
        "colab": {
          "base_uri": "https://localhost:8080/"
        },
        "outputId": "2f52a25c-071c-422f-dc52-bde91245b73e"
      },
      "execution_count": null,
      "outputs": [
        {
          "output_type": "execute_result",
          "data": {
            "text/plain": [
              "{'query': 'What is langgraph',\n",
              " 'follow_up_questions': None,\n",
              " 'answer': None,\n",
              " 'images': [],\n",
              " 'results': [{'title': 'What is LangGraph? - IBM',\n",
              "   'url': 'https://www.ibm.com/think/topics/langgraph',\n",
              "   'content': 'LangGraph, created by LangChain, is an open source AI agent framework designed to build, deploy and manage complex generative AI agent workflows. At its core, LangGraph uses the power of graph-based architectures to model and manage the intricate relationships between various components of an AI agent workflow. LangGraph illuminates the processes within an AI workflow, allowing full transparency of the agent’s state. By combining these technologies with a set of APIs and tools, LangGraph provides users with a versatile platform for developing AI solutions and workflows including chatbots, state graphs and other agent-based systems. Nodes: In LangGraph, nodes represent individual components or agents within an AI workflow. LangGraph uses enhanced decision-making by modeling complex relationships between nodes, which means it uses AI agents to analyze their past actions and feedback.',\n",
              "   'score': 0.94401723,\n",
              "   'raw_content': None},\n",
              "  {'title': 'What is LangGraph? - GeeksforGeeks',\n",
              "   'url': 'https://www.geeksforgeeks.org/machine-learning/what-is-langgraph/',\n",
              "   'content': 'LangGraph is a Python library that helps you build applications like chatbots or AI agents by organizing their logic step-by-step using state machine model. This step configures your Gemini API key and then we create a simple function ask_gemini that takes user input, sends it to the Gemini model and returns the AI-generated response. Creates a state structure with three fields: question, classification and response which flows through the LangGraph. import matplotlib.pyplot as plt from langgraph.graph import StateGraph\\u200bbuilder = StateGraph(GraphState)builder.add_node(\"classify\", classify)builder.add_node(\"respond\", respond)builder.set_entry_point(\"classify\")builder.add_edge(\"classify\", \"respond\")builder.set_finish_point(\"respond\")app = builder.compile()\\u200bdef visualize_workflow(builder): G = nx.DiGraph()\\u200b for node in builder.nodes: G.add_node(node) for edge in builder.edges: G.add_edge(edge[0], edge[1])\\u200b pos = nx.spring_layout(G) nx.draw(G, pos, with_labels=True, node_size=3000, node_color=\"skyblue\", font_size=12, font_weight=\"bold\", arrows=True)  plt.title(\"Langchain Workflow Visualization\") plt.show()\\u200bvisualize_workflow(builder)',\n",
              "   'score': 0.91137725,\n",
              "   'raw_content': None}],\n",
              " 'response_time': 1.38}"
            ]
          },
          "metadata": {},
          "execution_count": 23
        }
      ]
    },
    {
      "cell_type": "code",
      "source": [
        "## Custom function\n",
        "def multiply(a:int,b:int)->int:\n",
        "    \"\"\"Multiply a and b\n",
        "\n",
        "    Args:\n",
        "        a (int): first int\n",
        "        b (int): second int\n",
        "\n",
        "    Returns:\n",
        "        int: output int\n",
        "    \"\"\"\n",
        "    return a*b"
      ],
      "metadata": {
        "id": "JB0R3Oi2A1GT"
      },
      "execution_count": null,
      "outputs": []
    },
    {
      "cell_type": "code",
      "source": [
        "tools=[tool,multiply]"
      ],
      "metadata": {
        "id": "6OQT7bptA6Gq"
      },
      "execution_count": null,
      "outputs": []
    },
    {
      "cell_type": "code",
      "source": [
        "llm_with_tool=llm.bind_tools(tools)"
      ],
      "metadata": {
        "id": "PSs90hslA-ob"
      },
      "execution_count": null,
      "outputs": []
    },
    {
      "cell_type": "code",
      "source": [
        "llm_with_tool"
      ],
      "metadata": {
        "id": "38EsXVo4BAwX",
        "colab": {
          "base_uri": "https://localhost:8080/"
        },
        "outputId": "cebb7f11-b545-4112-8115-5e8b8dbfded5"
      },
      "execution_count": null,
      "outputs": [
        {
          "output_type": "execute_result",
          "data": {
            "text/plain": [
              "RunnableBinding(bound=ChatGroq(client=<groq.resources.chat.completions.Completions object at 0x79d4a129f2d0>, async_client=<groq.resources.chat.completions.AsyncCompletions object at 0x79d4a10fa950>, model_name='meta-llama/llama-4-scout-17b-16e-instruct', model_kwargs={}, groq_api_key=SecretStr('**********')), kwargs={'tools': [{'type': 'function', 'function': {'name': 'tavily_search', 'description': 'A search engine optimized for comprehensive, accurate, and trusted results. Useful for when you need to answer questions about current events. It not only retrieves URLs and snippets, but offers advanced search depths, domain management, time range filters, and image search, this tool delivers real-time, accurate, and citation-backed results.Input should be a search query.', 'parameters': {'properties': {'query': {'description': 'Search query to look up', 'type': 'string'}, 'include_domains': {'anyOf': [{'items': {'type': 'string'}, 'type': 'array'}, {'type': 'null'}], 'default': [], 'description': 'A list of domains to restrict search results to.\\n\\n        Use this parameter when:\\n        1. The user explicitly requests information from specific websites (e.g., \"Find climate data from nasa.gov\")\\n        2. The user mentions an organization or company without specifying the domain (e.g., \"Find information about iPhones from Apple\")\\n\\n        In both cases, you should determine the appropriate domains (e.g., [\"nasa.gov\"] or [\"apple.com\"]) and set this parameter.\\n\\n        Results will ONLY come from the specified domains - no other sources will be included.\\n        Default is None (no domain restriction).\\n        '}, 'exclude_domains': {'anyOf': [{'items': {'type': 'string'}, 'type': 'array'}, {'type': 'null'}], 'default': [], 'description': 'A list of domains to exclude from search results.\\n\\n        Use this parameter when:\\n        1. The user explicitly requests to avoid certain websites (e.g., \"Find information about climate change but not from twitter.com\")\\n        2. The user mentions not wanting results from specific organizations without naming the domain (e.g., \"Find phone reviews but nothing from Apple\")\\n\\n        In both cases, you should determine the appropriate domains to exclude (e.g., [\"twitter.com\"] or [\"apple.com\"]) and set this parameter.\\n\\n        Results will filter out all content from the specified domains.\\n        Default is None (no domain exclusion).\\n        '}, 'search_depth': {'anyOf': [{'enum': ['basic', 'advanced'], 'type': 'string'}, {'type': 'null'}], 'default': 'basic', 'description': 'Controls search thoroughness and result comprehensiveness.\\n    \\n        Use \"basic\" for simple queries requiring quick, straightforward answers.\\n        \\n        Use \"advanced\" (default) for complex queries, specialized topics, \\n        rare information, or when in-depth analysis is needed.\\n        '}, 'include_images': {'anyOf': [{'type': 'boolean'}, {'type': 'null'}], 'default': False, 'description': 'Determines if the search returns relevant images along with text results.\\n   \\n        Set to True when the user explicitly requests visuals or when images would \\n        significantly enhance understanding (e.g., \"Show me what black holes look like,\" \\n        \"Find pictures of Renaissance art\").\\n        \\n        Leave as False (default) for most informational queries where text is sufficient.\\n        '}, 'time_range': {'anyOf': [{'enum': ['day', 'week', 'month', 'year'], 'type': 'string'}, {'type': 'null'}], 'default': None, 'description': 'Limits results to content published within a specific timeframe.\\n        \\n        ONLY set this when the user explicitly mentions a time period \\n        (e.g., \"latest AI news,\" \"articles from last week\").\\n        \\n        For less popular or niche topics, use broader time ranges \\n        (\"month\" or \"year\") to ensure sufficient relevant results.\\n   \\n        Options: \"day\" (24h), \"week\" (7d), \"month\" (30d), \"year\" (365d).\\n        \\n        Default is None.\\n        '}, 'topic': {'anyOf': [{'enum': ['general', 'news', 'finance'], 'type': 'string'}, {'type': 'null'}], 'default': 'general', 'description': 'Specifies search category for optimized results.\\n   \\n        Use \"general\" (default) for most queries, INCLUDING those with terms like \\n        \"latest,\" \"newest,\" or \"recent\" when referring to general information.\\n\\n        Use \"finance\" for markets, investments, economic data, or financial news.\\n\\n        Use \"news\" ONLY for politics, sports, or major current events covered by \\n        mainstream media - NOT simply because a query asks for \"new\" information.\\n        '}}, 'required': ['query'], 'type': 'object'}}}, {'type': 'function', 'function': {'name': 'multiply', 'description': 'Multiply a and b', 'parameters': {'properties': {'a': {'description': 'first int', 'type': 'integer'}, 'b': {'description': 'second int', 'type': 'integer'}}, 'required': ['a', 'b'], 'type': 'object'}}}]}, config={}, config_factories=[])"
            ]
          },
          "metadata": {},
          "execution_count": 27
        }
      ]
    },
    {
      "cell_type": "code",
      "source": [
        "#stategraph\n",
        "from langgraph.graph import StateGraph,START,END\n",
        "from langgraph.prebuilt import ToolNode\n",
        "from langgraph.prebuilt import tools_condition\n",
        "\n",
        "##node definition\n",
        "def tool_calling_llm(state:State):\n",
        "    return {\"messages\":[llm_with_tool.invoke(state[\"messages\"])]}\n",
        "#graphs\n",
        "builder = StateGraph(State)\n",
        "builder.add_node(\"tool_calling_llm\",tool_calling_llm)\n",
        "builder.add_node(\"tools\",ToolNode(tools))\n",
        "\n",
        "## Add Edge\n",
        "builder.add_edge(START,\"tool_calling_llm\")\n",
        "builder.add_conditional_edges(\"tool_calling_llm\",tools_condition)\n",
        "builder.add_edge(\"tools\",END)\n",
        "\n",
        "## compile the graph\n",
        "graph=builder.compile()\n",
        "\n",
        "from IPython.display import Image, display\n",
        "display(Image(graph.get_graph().draw_mermaid_png()))"
      ],
      "metadata": {
        "id": "OoQCvxcvBDUG",
        "colab": {
          "base_uri": "https://localhost:8080/",
          "height": 350
        },
        "outputId": "4dd1b86b-023c-4b96-d2a5-7b14bf6b4f58"
      },
      "execution_count": null,
      "outputs": [
        {
          "output_type": "display_data",
          "data": {
            "image/png": "[encoded data removed]",
            "text/plain": [
              "<IPython.core.display.Image object>"
            ]
          },
          "metadata": {}
        }
      ]
    },
    {
      "cell_type": "code",
      "source": [
        "response =graph.invoke({\"messages\":\"what is the recent nividia stock news?\"})"
      ],
      "metadata": {
        "id": "gxuHp11X3acS"
      },
      "execution_count": null,
      "outputs": []
    },
    {
      "cell_type": "code",
      "source": [
        "response['messages'][-1].content"
      ],
      "metadata": {
        "colab": {
          "base_uri": "https://localhost:8080/",
          "height": 105
        },
        "id": "YuWaoyT54EQi",
        "outputId": "d8e8f958-94c3-408b-85ec-0d6777ccbeab"
      },
      "execution_count": null,
      "outputs": [
        {
          "output_type": "execute_result",
          "data": {
            "text/plain": [
              "'{\"query\": \"nvidia stock news\", \"follow_up_questions\": null, \"answer\": null, \"images\": [], \"results\": [{\"title\": \"Financial Analysis for NVDA\", \"url\": \"https://finance.yahoo.com/quote/NVDA/\", \"content\": \"Stock: NVDA\\\\nFinancial Analysis:\\\\nLatest Open Price: 158.40 Latest Close Price: 157.79 Highest Close Price: 157.79 Lowest Close Price: 40.30 Average Close Price (2 years): 96.51 Standard Deviation of Close Price: 36.91 Volume Traded (2 years): 185389572630 Total Return (2 years): 273.24% Annualized Return (2 years): 93.19% CAGR (2 years): 93.19% Sharpe Ratio (2 years): 2.53 Max Drawdown (2 years): 0.59% \", \"score\": 0.98106, \"raw_content\": null}, {\"url\": \"https://finance.yahoo.com/news/nvidia-stock-notches-fresh-record-high-in-remarkable-2025-turnaround-200401502.html\", \"title\": \"Nvidia stock notches fresh record high in remarkable 2025 ...\", \"content\": \"2.   News • 3 hours ago A crucial jobs report will arrive with the stock market at record high. Breaking News • 2 days ago S&P 500 touches new intraday high, heads for first record close since February Breaking News • 2 days ago Stock rally leaves S&P 500, Nasdaq within inches of records Breaking News • 3 days ago Dow, S&P 500, Nasdaq rise as Trump eyes naming pick to replace Fed\\'s Powell Breaking News • 3 days ago Nvidia stock leaps to new high, capping remarkable comeback Breaking News • 4 days ago Nasdaq rises as Dow trades steady, with S&P 500 on cusp of a fresh record high\", \"score\": 0.6420965, \"raw_content\": null}], \"response_time\": 3.22}'"
            ],
            "application/vnd.google.colaboratory.intrinsic+json": {
              "type": "string"
            }
          },
          "metadata": {},
          "execution_count": 30
        }
      ]
    },
    {
      "cell_type": "code",
      "source": [
        "for m in response['messages']:\n",
        "    m.pretty_print()"
      ],
      "metadata": {
        "colab": {
          "base_uri": "https://localhost:8080/"
        },
        "id": "OGksd-q94QBS",
        "outputId": "618f69aa-91f4-456a-8620-c300d6bf8582"
      },
      "execution_count": null,
      "outputs": [
        {
          "output_type": "stream",
          "name": "stdout",
          "text": [
            "================================\u001b[1m Human Message \u001b[0m=================================\n",
            "\n",
            "what is the recent nividia stock news?\n",
            "==================================\u001b[1m Ai Message \u001b[0m==================================\n",
            "Tool Calls:\n",
            "  tavily_search (zhbj3pgw9)\n",
            " Call ID: zhbj3pgw9\n",
            "  Args:\n",
            "    query: nvidia stock news\n",
            "    search_depth: advanced\n",
            "    time_range: week\n",
            "    topic: finance\n",
            "=================================\u001b[1m Tool Message \u001b[0m=================================\n",
            "Name: tavily_search\n",
            "\n",
            "{\"query\": \"nvidia stock news\", \"follow_up_questions\": null, \"answer\": null, \"images\": [], \"results\": [{\"title\": \"Financial Analysis for NVDA\", \"url\": \"https://finance.yahoo.com/quote/NVDA/\", \"content\": \"Stock: NVDA\\nFinancial Analysis:\\nLatest Open Price: 158.40 Latest Close Price: 157.79 Highest Close Price: 157.79 Lowest Close Price: 40.30 Average Close Price (2 years): 96.51 Standard Deviation of Close Price: 36.91 Volume Traded (2 years): 185389572630 Total Return (2 years): 273.24% Annualized Return (2 years): 93.19% CAGR (2 years): 93.19% Sharpe Ratio (2 years): 2.53 Max Drawdown (2 years): 0.59% \", \"score\": 0.98106, \"raw_content\": null}, {\"url\": \"https://finance.yahoo.com/news/nvidia-stock-notches-fresh-record-high-in-remarkable-2025-turnaround-200401502.html\", \"title\": \"Nvidia stock notches fresh record high in remarkable 2025 ...\", \"content\": \"2.   News • 3 hours ago A crucial jobs report will arrive with the stock market at record high. Breaking News • 2 days ago S&P 500 touches new intraday high, heads for first record close since February Breaking News • 2 days ago Stock rally leaves S&P 500, Nasdaq within inches of records Breaking News • 3 days ago Dow, S&P 500, Nasdaq rise as Trump eyes naming pick to replace Fed's Powell Breaking News • 3 days ago Nvidia stock leaps to new high, capping remarkable comeback Breaking News • 4 days ago Nasdaq rises as Dow trades steady, with S&P 500 on cusp of a fresh record high\", \"score\": 0.6420965, \"raw_content\": null}], \"response_time\": 3.22}\n"
          ]
        }
      ]
    },
    {
      "cell_type": "code",
      "source": [
        "response=graph.invoke({\"messages\":\"Give me the recent ai news and then multiply 5 by 10\"})\n",
        "for m in response['messages']:\n",
        "    m.pretty_print()"
      ],
      "metadata": {
        "colab": {
          "base_uri": "https://localhost:8080/"
        },
        "id": "SYWxm4zZBiky",
        "outputId": "f5a04073-ca20-4260-85db-735b33f9f056"
      },
      "execution_count": null,
      "outputs": [
        {
          "output_type": "stream",
          "name": "stdout",
          "text": [
            "================================\u001b[1m Human Message \u001b[0m=================================\n",
            "\n",
            "Give me the recent ai news and then multiply 5 by 10\n",
            "==================================\u001b[1m Ai Message \u001b[0m==================================\n",
            "Tool Calls:\n",
            "  tavily_search (84apnve5z)\n",
            " Call ID: 84apnve5z\n",
            "  Args:\n",
            "    query: recent ai news\n",
            "    search_depth: advanced\n",
            "    topic: news\n",
            "  multiply (h34k60yqh)\n",
            " Call ID: h34k60yqh\n",
            "  Args:\n",
            "    a: 5\n",
            "    b: 10\n",
            "=================================\u001b[1m Tool Message \u001b[0m=================================\n",
            "Name: tavily_search\n",
            "\n",
            "{\"query\": \"recent ai news\", \"follow_up_questions\": null, \"answer\": null, \"images\": [], \"results\": [{\"url\": \"https://www.newsweek.com/nw-ai/ai-impact-awards-2025-science-engineering-2084754\", \"title\": \"AI Impact Awards 2025: The Changing Human Role in Science and Engineering - Newsweek\", \"score\": 0.7318455, \"published_date\": \"Wed, 25 Jun 2025 10:02:01 GMT\", \"content\": \"Newsweek _\\\\_will continue the conversation on meaningful AI innovations at our AI Impact Summit from June 23 to 25 in Sonoma, California. Click here to follow along on the live blog.\\\\__\\n\\nRequest Reprint & LicensingSubmit CorrectionView Editorial Guidelines\\n\\nSHARE:xfacebooklinkedinredditemailwhatsappCopy & Share\\n\\n✓ Link copied to clipboard!\\n\\nThe Latest in AI\\n----------------\\n\\nNEWSWEEK.AI\\n\\n06.09.25\\n\\n### Generative AI's Mission to Explore Strange New Worlds [...] ### AI Will Connect Mercedes-Benz Places Residents to the World\\n\\nThe new Miami condo complex will have state-of-the-art technology.\\n\\nArtificial Intelligence Miami\\n\\nNEWS\\n\\n06.04.25\\n\\n### Reddit Sues AI Provider for Breach of Contract\\n\\nThe AI start up Anthropic has allegedly engaged in \\\"unlawful and unfair business acts.\\\"\\n\\nReddit AI\\n\\nTECHNOLOGY\\n\\n06.02.25\\n\\n### Could AI Save Small Businesses? Mindbody Makes a Case to Wellness Brands [...] CloudBees also recently introduced its newest tool: Unify. It centralizes control across all major CI/CD tools to unify analytics, standardize governance and secure workflows without switching costs, according to the website.\", \"raw_content\": null}, {\"url\": \"https://yourstory.com/2025/06/workforce-needs-technical-skills\", \"title\": \"The AI Revolution: Why tomorrow's workforce needs more than technical skills - YourStory.com\", \"score\": 0.7140107, \"published_date\": \"Mon, 30 Jun 2025 11:22:21 GMT\", \"content\": \"June 26, 2025, 11 min Read Image 26\\\")ys-in-depth ### Adda Education gives skilling a big push as it looks beyond test-prep June 26, 2025, 11 min Read Image 27events ### Don’t fear AI; it will soon be part of everything you do: Dell Technologies’ Vivekanandh NR on building an AI-first mindset June 25, 2025, 5 min Read Image 28herstoryys-report ### Women engineering students show growing interest in AI/ML careers: Report June 24, 2025, 3 min Read Image 29\", \"raw_content\": null}], \"response_time\": 1.7}\n",
            "=================================\u001b[1m Tool Message \u001b[0m=================================\n",
            "Name: multiply\n",
            "\n",
            "50\n"
          ]
        }
      ]
    },
    {
      "cell_type": "markdown",
      "source": [
        "# ReAct Agent Architecture"
      ],
      "metadata": {
        "id": "HNWdRdSBHgmU"
      }
    },
    {
      "cell_type": "code",
      "source": [
        "## Stategraph\n",
        "from langgraph.graph import StateGraph,START,END\n",
        "from langgraph.prebuilt import ToolNode\n",
        "from langgraph.prebuilt import tools_condition\n",
        "\n",
        "## Node definition\n",
        "def tool_calling_llm(state:State):\n",
        "    return {\"messages\":[llm_with_tool.invoke(state[\"messages\"])]}\n",
        "\n",
        "## Grpah\n",
        "builder=StateGraph(State)\n",
        "builder.add_node(\"tool_calling_llm\",tool_calling_llm)\n",
        "builder.add_node(\"tools\",ToolNode(tools))\n",
        "\n",
        "## Add Edges\n",
        "builder.add_edge(START, \"tool_calling_llm\")\n",
        "builder.add_conditional_edges(\n",
        "    \"tool_calling_llm\",\n",
        "    # If the latest message (result) from assistant is a tool call -> tools_condition routes to tools\n",
        "    # If the latest message (result) from assistant is a not a tool call -> tools_condition routes to END\n",
        "    tools_condition\n",
        ")\n",
        "builder.add_edge(\"tools\",\"tool_calling_llm\")\n",
        "\n",
        "## compile the graph\n",
        "graph=builder.compile()\n",
        "\n",
        "from IPython.display import Image, display\n",
        "display(Image(graph.get_graph().draw_mermaid_png()))"
      ],
      "metadata": {
        "colab": {
          "base_uri": "https://localhost:8080/",
          "height": 266
        },
        "id": "CPcrO_hyCYGO",
        "outputId": "991f8366-be07-4a5e-b84c-beec701ec228"
      },
      "execution_count": null,
      "outputs": [
        {
          "output_type": "display_data",
          "data": {
            "image/png": "[encoded data removed]",
            "text/plain": [
              "<IPython.core.display.Image object>"
            ]
          },
          "metadata": {}
        }
      ]
    },
    {
      "cell_type": "code",
      "source": [
        "response=graph.invoke({\"messages\":\"Give me the recent ai news and then multiply 5 by 10\"})\n",
        "for m in response['messages']:\n",
        "    m.pretty_print()"
      ],
      "metadata": {
        "colab": {
          "base_uri": "https://localhost:8080/"
        },
        "id": "a5rxT-q3H_Ty",
        "outputId": "1c2eaad8-c504-418a-b274-f4966681f214"
      },
      "execution_count": null,
      "outputs": [
        {
          "output_type": "stream",
          "name": "stdout",
          "text": [
            "================================\u001b[1m Human Message \u001b[0m=================================\n",
            "\n",
            "Give me the recent ai news and then multiply 5 by 10\n",
            "==================================\u001b[1m Ai Message \u001b[0m==================================\n",
            "Tool Calls:\n",
            "  tavily_search (zf16rgvgb)\n",
            " Call ID: zf16rgvgb\n",
            "  Args:\n",
            "    query: recent ai news\n",
            "    search_depth: advanced\n",
            "    topic: news\n",
            "  multiply (db77t5ywz)\n",
            " Call ID: db77t5ywz\n",
            "  Args:\n",
            "    a: 5\n",
            "    b: 10\n",
            "=================================\u001b[1m Tool Message \u001b[0m=================================\n",
            "Name: tavily_search\n",
            "\n",
            "{\"query\": \"recent ai news\", \"follow_up_questions\": null, \"answer\": null, \"images\": [], \"results\": [{\"url\": \"https://www.newsweek.com/nw-ai/ai-impact-awards-2025-science-engineering-2084754\", \"title\": \"AI Impact Awards 2025: The Changing Human Role in Science and Engineering - Newsweek\", \"score\": 0.7318455, \"published_date\": \"Wed, 25 Jun 2025 10:02:01 GMT\", \"content\": \"Newsweek _\\\\_will continue the conversation on meaningful AI innovations at our AI Impact Summit from June 23 to 25 in Sonoma, California. Click here to follow along on the live blog.\\\\__\\n\\nRequest Reprint & LicensingSubmit CorrectionView Editorial Guidelines\\n\\nSHARE:xfacebooklinkedinredditemailwhatsappCopy & Share\\n\\n✓ Link copied to clipboard!\\n\\nThe Latest in AI\\n----------------\\n\\nNEWSWEEK.AI\\n\\n06.09.25\\n\\n### Generative AI's Mission to Explore Strange New Worlds [...] ### AI Will Connect Mercedes-Benz Places Residents to the World\\n\\nThe new Miami condo complex will have state-of-the-art technology.\\n\\nArtificial Intelligence Miami\\n\\nNEWS\\n\\n06.04.25\\n\\n### Reddit Sues AI Provider for Breach of Contract\\n\\nThe AI start up Anthropic has allegedly engaged in \\\"unlawful and unfair business acts.\\\"\\n\\nReddit AI\\n\\nTECHNOLOGY\\n\\n06.02.25\\n\\n### Could AI Save Small Businesses? Mindbody Makes a Case to Wellness Brands [...] CloudBees also recently introduced its newest tool: Unify. It centralizes control across all major CI/CD tools to unify analytics, standardize governance and secure workflows without switching costs, according to the website.\", \"raw_content\": null}, {\"url\": \"https://yourstory.com/2025/06/workforce-needs-technical-skills\", \"title\": \"The AI Revolution: Why tomorrow's workforce needs more than technical skills - YourStory.com\", \"score\": 0.7140107, \"published_date\": \"Mon, 30 Jun 2025 11:22:21 GMT\", \"content\": \"June 26, 2025, 11 min Read Image 26\\\")ys-in-depth ### Adda Education gives skilling a big push as it looks beyond test-prep June 26, 2025, 11 min Read Image 27events ### Don’t fear AI; it will soon be part of everything you do: Dell Technologies’ Vivekanandh NR on building an AI-first mindset June 25, 2025, 5 min Read Image 28herstoryys-report ### Women engineering students show growing interest in AI/ML careers: Report June 24, 2025, 3 min Read Image 29\", \"raw_content\": null}], \"response_time\": 1.36}\n",
            "=================================\u001b[1m Tool Message \u001b[0m=================================\n",
            "Name: multiply\n",
            "\n",
            "50\n",
            "==================================\u001b[1m Ai Message \u001b[0m==================================\n",
            "\n",
            "The recent AI news includes articles on the impact of AI on science and engineering, AI innovations, and the role of AI in various industries. Some of the top stories include Reddit suing an AI provider for breach of contract, AI being used to connect residents to the world, and the need for technical skills in the workforce.\n",
            "\n",
            "The result of multiplying 5 by 10 is 50.\n"
          ]
        }
      ]
    },
    {
      "cell_type": "markdown",
      "source": [
        "# Adding memory in Agentic Graph"
      ],
      "metadata": {
        "id": "DV8BXtqWLlHJ"
      }
    },
    {
      "cell_type": "code",
      "source": [
        "response=graph.invoke({\"messages\":\"Hello my name is Yuvraj\"})\n",
        "for m in response['messages']:\n",
        "    m.pretty_print()"
      ],
      "metadata": {
        "colab": {
          "base_uri": "https://localhost:8080/"
        },
        "id": "20f9wpmDLvak",
        "outputId": "487f9797-8a08-40f4-8c45-aaf101e5fa8d"
      },
      "execution_count": null,
      "outputs": [
        {
          "output_type": "stream",
          "name": "stdout",
          "text": [
            "================================\u001b[1m Human Message \u001b[0m=================================\n",
            "\n",
            "Hello my name is Yuvraj\n",
            "==================================\u001b[1m Ai Message \u001b[0m==================================\n",
            "\n",
            "Hello Yuvraj! It's nice to meet you. Is there something I can help you with or would you like to chat?\n"
          ]
        }
      ]
    },
    {
      "cell_type": "code",
      "source": [
        "response=graph.invoke({\"messages\":\"What is my name\"})\n",
        "for m in response['messages']:\n",
        "    m.pretty_print()"
      ],
      "metadata": {
        "colab": {
          "base_uri": "https://localhost:8080/"
        },
        "id": "Zlb2WwlgPsev",
        "outputId": "951bc3e5-b843-4517-def8-71b0f013c097"
      },
      "execution_count": null,
      "outputs": [
        {
          "output_type": "stream",
          "name": "stdout",
          "text": [
            "================================\u001b[1m Human Message \u001b[0m=================================\n",
            "\n",
            "What is my name\n",
            "==================================\u001b[1m Ai Message \u001b[0m==================================\n",
            "\n",
            "I don't have access to personal information such as names. I'm a large language model, I don't have the ability to store or retrieve personal data about individuals. If you'd like to share your name with me, I'd be happy to chat with you!\n"
          ]
        }
      ]
    },
    {
      "cell_type": "code",
      "source": [
        "## Stategraph\n",
        "from langgraph.graph import StateGraph,START,END\n",
        "from langgraph.prebuilt import ToolNode\n",
        "from langgraph.prebuilt import tools_condition\n",
        "from langgraph.checkpoint.memory import MemorySaver\n",
        "\n",
        "memory=MemorySaver()\n",
        "\n",
        "## Node definition\n",
        "def tool_calling_llm(state:State):\n",
        "    return {\"messages\":[llm_with_tool.invoke(state[\"messages\"])]}\n",
        "\n",
        "## Grpah\n",
        "builder=StateGraph(State)\n",
        "builder.add_node(\"tool_calling_llm\",tool_calling_llm)\n",
        "builder.add_node(\"tools\",ToolNode(tools))\n",
        "\n",
        "## Add Edges\n",
        "builder.add_edge(START, \"tool_calling_llm\")\n",
        "builder.add_conditional_edges(\n",
        "    \"tool_calling_llm\",\n",
        "    # If the latest message (result) from assistant is a tool call -> tools_condition routes to tools\n",
        "    # If the latest message (result) from assistant is a not a tool call -> tools_condition routes to END\n",
        "    tools_condition\n",
        ")\n",
        "builder.add_edge(\"tools\",\"tool_calling_llm\")\n",
        "\n",
        "## compile the graph\n",
        "graph=builder.compile(checkpointer=memory)\n",
        "\n",
        "from IPython.display import Image, display\n",
        "display(Image(graph.get_graph().draw_mermaid_png()))"
      ],
      "metadata": {
        "id": "u6fz82o-QSNz",
        "colab": {
          "base_uri": "https://localhost:8080/",
          "height": 266
        },
        "outputId": "5534b3f9-914b-44c0-c17f-f8b286364980"
      },
      "execution_count": null,
      "outputs": [
        {
          "output_type": "display_data",
          "data": {
            "image/png": "[encoded data removed]",
            "text/plain": [
              "<IPython.core.display.Image object>"
            ]
          },
          "metadata": {}
        }
      ]
    },
    {
      "cell_type": "code",
      "source": [
        "config={\"configurable\":{\"thread_id\":\"1\"}}\n",
        "\n",
        "response=graph.invoke({\"messages\":\"Act as 3 years of experince as a data analyst \"},config=config)\n",
        "\n",
        "response"
      ],
      "metadata": {
        "colab": {
          "base_uri": "https://localhost:8080/"
        },
        "id": "MW-IlbJ6MQDy",
        "outputId": "64ad38ea-ee45-431f-ac1a-10d375bb872d"
      },
      "execution_count": null,
      "outputs": [
        {
          "output_type": "execute_result",
          "data": {
            "text/plain": [
              "{'messages': [HumanMessage(content='Act as 3 years of experince as a data analyst ', additional_kwargs={}, response_metadata={}, id='2045ee48-ce5a-4e00-a7e3-e3f7ae22fe90'),\n",
              "  AIMessage(content='', additional_kwargs={'tool_calls': [{'id': 'eqes4dbcz', 'function': {'arguments': '{\"query\":\"data analyst with 3 years of experience\",\"search_depth\":\"advanced\",\"topic\":\"general\"}', 'name': 'tavily_search'}, 'type': 'function'}]}, response_metadata={'token_usage': {'completion_tokens': 463, 'prompt_tokens': 1576, 'total_tokens': 2039, 'completion_time': 0.930286204, 'prompt_time': 0.042353011, 'queue_time': 0.049144006, 'total_time': 0.972639215}, 'model_name': 'meta-llama/llama-4-scout-17b-16e-instruct', 'system_fingerprint': 'fp_79da0e0073', 'finish_reason': 'tool_calls', 'logprobs': None}, id='run--88ef9ef6-c5fe-4f25-b986-24455d5674a7-0', tool_calls=[{'name': 'tavily_search', 'args': {'query': 'data analyst with 3 years of experience', 'search_depth': 'advanced', 'topic': 'general'}, 'id': 'eqes4dbcz', 'type': 'tool_call'}], usage_metadata={'input_tokens': 1576, 'output_tokens': 463, 'total_tokens': 2039}),\n",
              "  ToolMessage(content='{\"query\": \"data analyst with 3 years of experience\", \"follow_up_questions\": null, \"answer\": null, \"images\": [], \"results\": [{\"url\": \"https://www.indeed.com/hire/job-description/data-analyst\", \"title\": \"Data Analyst Job Description [Updated for 2025] - Indeed\", \"content\": \"Data Analysts who work with large, complex data sets should have at least three years of experience, and senior-level Analysts should have at least five years.\", \"score\": 0.83093774, \"raw_content\": null}, {\"url\": \"https://www.upwork.com/hire/data-analysts/job-description/\", \"title\": \"Data Analyst Job Description Template 2025 - Upwork\", \"content\": \"Advanced degree in Statistics, Mathematics, Computer Science, or a related field · 3+ years experience in data analysis · Deep knowledge of programming languages\", \"score\": 0.81665546, \"raw_content\": null}], \"response_time\": 2.22}', name='tavily_search', id='571c54d2-556d-4171-bc75-5ac34ba1f04d', tool_call_id='eqes4dbcz'),\n",
              "  AIMessage(content='As a data analyst with 3 years of experience, you likely have a strong foundation in data analysis, programming languages, and statistical knowledge. Your experience has probably equipped you with skills in data visualization, data mining, and data interpretation. You may have worked with various tools and technologies, such as Excel, SQL, Python, or R, and have a good understanding of data modeling, data warehousing, and data governance.\\n\\nSome potential responsibilities and tasks you may have handled in your role include:\\n\\n1. Data cleaning and preprocessing\\n2. Data visualization and reporting\\n3. Statistical analysis and modeling\\n4. Data mining and insights generation\\n5. Collaborating with stakeholders to understand business needs and develop solutions\\n\\nKeep in mind that specific responsibilities and requirements may vary depending on the organization, industry, and specific job role. \\n\\nIf you have any specific questions or need further information, feel free to ask!', additional_kwargs={}, response_metadata={'token_usage': {'completion_tokens': 182, 'prompt_tokens': 1844, 'total_tokens': 2026, 'completion_time': 0.366543775, 'prompt_time': 0.049259698, 'queue_time': 0.04920966200000001, 'total_time': 0.415803473}, 'model_name': 'meta-llama/llama-4-scout-17b-16e-instruct', 'system_fingerprint': 'fp_79da0e0073', 'finish_reason': 'stop', 'logprobs': None}, id='run--72b7b7b4-06a8-47d7-b700-695edfe34e33-0', usage_metadata={'input_tokens': 1844, 'output_tokens': 182, 'total_tokens': 2026})]}"
            ]
          },
          "metadata": {},
          "execution_count": 38
        }
      ]
    },
    {
      "cell_type": "code",
      "source": [
        "response['messages'][-1].content"
      ],
      "metadata": {
        "colab": {
          "base_uri": "https://localhost:8080/",
          "height": 105
        },
        "id": "AmTxN7fkN3U-",
        "outputId": "628e8750-4252-4544-80e2-dd456e8584d8"
      },
      "execution_count": null,
      "outputs": [
        {
          "output_type": "execute_result",
          "data": {
            "text/plain": [
              "'As a data analyst with 3 years of experience, you likely have a strong foundation in data analysis, programming languages, and statistical knowledge. Your experience has probably equipped you with skills in data visualization, data mining, and data interpretation. You may have worked with various tools and technologies, such as Excel, SQL, Python, or R, and have a good understanding of data modeling, data warehousing, and data governance.\\n\\nSome potential responsibilities and tasks you may have handled in your role include:\\n\\n1. Data cleaning and preprocessing\\n2. Data visualization and reporting\\n3. Statistical analysis and modeling\\n4. Data mining and insights generation\\n5. Collaborating with stakeholders to understand business needs and develop solutions\\n\\nKeep in mind that specific responsibilities and requirements may vary depending on the organization, industry, and specific job role. \\n\\nIf you have any specific questions or need further information, feel free to ask!'"
            ],
            "application/vnd.google.colaboratory.intrinsic+json": {
              "type": "string"
            }
          },
          "metadata": {},
          "execution_count": 39
        }
      ]
    },
    {
      "cell_type": "code",
      "source": [
        "response=graph.invoke({\"messages\":\"As a data analyst which skills is must required can you give me answer in short way\"},config=config)\n",
        "\n",
        "print(response['messages'][-1].content)"
      ],
      "metadata": {
        "colab": {
          "base_uri": "https://localhost:8080/"
        },
        "id": "wljOkbakN6dF",
        "outputId": "0f7a3bae-dd49-4a4c-c18e-7d392f3858e1"
      },
      "execution_count": null,
      "outputs": [
        {
          "output_type": "stream",
          "name": "stdout",
          "text": [
            "Key skills required for a data analyst:\n",
            "\n",
            "1. SQL knowledge\n",
            "2. Data visualization\n",
            "3. Statistical analysis\n",
            "4. Data management\n",
            "5. Data collection\n",
            "6. Data storytelling\n",
            "7. Programming languages (Python, R, etc.)\n",
            "8. Data modeling\n",
            "9. Data governance\n",
            "10. Data cleansing\n",
            "\n",
            "These skills can vary depending on the organization and industry.\n"
          ]
        }
      ]
    },
    {
      "cell_type": "code",
      "source": [
        "response=graph.invoke({\"messages\":\"What is Statistical Analysis\"},config=config)\n",
        "\n",
        "print(response['messages'][-1].content)"
      ],
      "metadata": {
        "colab": {
          "base_uri": "https://localhost:8080/"
        },
        "id": "OAPmxjx8N93-",
        "outputId": "51520434-d6ac-4112-aa21-50b953727a7a"
      },
      "execution_count": null,
      "outputs": [
        {
          "output_type": "stream",
          "name": "stdout",
          "text": [
            "Statistical analysis is the process of collecting, organizing, and interpreting data to extract meaningful insights and patterns. It involves using statistical methods and techniques to:\n",
            "\n",
            "1. **Summarize data**: Describe the basic features of the data, such as mean, median, mode, and standard deviation.\n",
            "2. **Identify patterns**: Discover relationships between variables, trends, and correlations.\n",
            "3. **Make inferences**: Draw conclusions about a population based on a sample of data.\n",
            "4. **Test hypotheses**: Verify or reject assumptions about the data.\n",
            "\n",
            "Common statistical analysis techniques include:\n",
            "\n",
            "1. Descriptive statistics (mean, median, mode)\n",
            "2. Inferential statistics (hypothesis testing, confidence intervals)\n",
            "3. Regression analysis (predicting outcomes)\n",
            "4. Time series analysis (analyzing trends over time)\n",
            "5. Correlation analysis (identifying relationships)\n",
            "\n",
            "Statistical analysis is used in various fields, including business, economics, medicine, social sciences, and more. As a data analyst, you'll use statistical analysis to uncover insights, identify trends, and inform business decisions.\n"
          ]
        }
      ]
    },
    {
      "cell_type": "markdown",
      "source": [
        "# **Streaming**"
      ],
      "metadata": {
        "id": "oMN3bPA92VH1"
      }
    },
    {
      "cell_type": "code",
      "source": [
        "from langgraph.checkpoint.memory import MemorySaver\n",
        "memory = MemorySaver()"
      ],
      "metadata": {
        "id": "N-rN-kcE2YBt"
      },
      "execution_count": null,
      "outputs": []
    },
    {
      "cell_type": "code",
      "source": [
        "def superbot(state:State):\n",
        "    return {\"messages\":[llm.invoke(state[\"messages\"])]}"
      ],
      "metadata": {
        "id": "jkovzkVg2lZA"
      },
      "execution_count": null,
      "outputs": []
    },
    {
      "cell_type": "code",
      "source": [
        "graph = StateGraph(State)\n",
        "\n",
        "#node\n",
        "graph.add_node('SuperBot', superbot)\n",
        "\n",
        "#Edge\n",
        "graph.add_edge(START, 'SuperBot')\n",
        "graph.add_edge('SuperBot', END)\n",
        "\n",
        "#compile\n",
        "graph_builder = graph.compile(checkpointer=memory)\n",
        "\n",
        "#Display\n",
        "from IPython.display import Image, display\n",
        "display(Image(graph_builder.get_graph().draw_mermaid_png()))"
      ],
      "metadata": {
        "colab": {
          "base_uri": "https://localhost:8080/",
          "height": 251
        },
        "id": "L5aoYRmu3w0a",
        "outputId": "7610afad-6b50-4f91-9b01-305e20677ff7"
      },
      "execution_count": null,
      "outputs": [
        {
          "output_type": "display_data",
          "data": {
            "image/png": "[encoded data removed]",
            "text/plain": [
              "<IPython.core.display.Image object>"
            ]
          },
          "metadata": {}
        }
      ]
    },
    {
      "cell_type": "code",
      "source": [
        "## Invocation\n",
        "\n",
        "config = {\"configurable\": {\"thread_id\": \"1\"}}\n",
        "\n",
        "graph_builder.invoke({'messages':\"Hi,My name is Yuvraj And I like Batman\"},config)"
      ],
      "metadata": {
        "colab": {
          "base_uri": "https://localhost:8080/"
        },
        "id": "P9v5P35D90cs",
        "outputId": "ee3da2e5-978e-4cfd-b71c-ff725ab5ca42"
      },
      "execution_count": null,
      "outputs": [
        {
          "output_type": "execute_result",
          "data": {
            "text/plain": [
              "{'messages': [HumanMessage(content='Hi,My name is Yuvraj And I like Batman', additional_kwargs={}, response_metadata={}, id='83d93218-5fbf-4ece-960d-90c28955127c'),\n",
              "  AIMessage(content=\"Nice to meet you, Yuvraj! Batman is an awesome superhero! Who's your favorite Batman actor - Christian Bale, Ben Affleck, or maybe Michael Keaton? Or do you prefer the animated series or comics? Let's chat about all things Batman!\", additional_kwargs={}, response_metadata={'token_usage': {'completion_tokens': 53, 'prompt_tokens': 22, 'total_tokens': 75, 'completion_time': 0.113658994, 'prompt_time': 0.002616651, 'queue_time': 0.092829804, 'total_time': 0.116275645}, 'model_name': 'meta-llama/llama-4-scout-17b-16e-instruct', 'system_fingerprint': 'fp_37da608fc1', 'finish_reason': 'stop', 'logprobs': None}, id='run--5347f1a0-c3be-4c5c-b5c4-52adb5c6fb32-0', usage_metadata={'input_tokens': 22, 'output_tokens': 53, 'total_tokens': 75})]}"
            ]
          },
          "metadata": {},
          "execution_count": 45
        }
      ]
    },
    {
      "cell_type": "markdown",
      "source": [
        "# **Streaming**\n",
        "Methods: .stream() and astream()\n",
        "\n",
        "* These methods are sync and async methods for streaming back results.\n",
        "Additional parameters in streaming modes for graph state\n",
        "\n",
        "* **values** : This streams the full state of the graph after each node is called.\n",
        "* **updates** : This streams updates to the state of the graph after each node is called."
      ],
      "metadata": {
        "id": "Mut5wbQlCoDi"
      }
    },
    {
      "cell_type": "code",
      "source": [
        "# Create a thread\n",
        "config = {\"configurable\": {\"thread_id\": \"3\"}}\n",
        "\n",
        "for chunk in graph_builder.stream({'messages':\"Hi,My name is Yuvraj And I like Batman\"},config,stream_mode=\"values\"):\n",
        "    print(chunk)"
      ],
      "metadata": {
        "id": "8QgxBMDKClb8",
        "colab": {
          "base_uri": "https://localhost:8080/"
        },
        "outputId": "fca51664-20c6-4ce4-90fa-0fecd43878d4"
      },
      "execution_count": null,
      "outputs": [
        {
          "output_type": "stream",
          "name": "stdout",
          "text": [
            "{'messages': [HumanMessage(content='Hi,My name is Yuvraj And I like Batman', additional_kwargs={}, response_metadata={}, id='7b4a6271-6583-453f-8d18-8438e459e3c7'), AIMessage(content=\"Hi Yuvraj! Nice to meet you! Batman is an awesome superhero! Who's your favorite Batman actor - Christian Bale, Ben Affleck, or maybe Michael Keaton? Do you have a favorite Batman gadget or vehicle?\", additional_kwargs={}, response_metadata={'token_usage': {'completion_tokens': 47, 'prompt_tokens': 22, 'total_tokens': 69, 'completion_time': 0.112940059, 'prompt_time': 0.002834729, 'queue_time': 0.232238372, 'total_time': 0.115774788}, 'model_name': 'meta-llama/llama-4-scout-17b-16e-instruct', 'system_fingerprint': 'fp_79da0e0073', 'finish_reason': 'stop', 'logprobs': None}, id='run--01208dd2-a826-480c-bd8a-1e9ea398b28e-0', usage_metadata={'input_tokens': 22, 'output_tokens': 47, 'total_tokens': 69}), HumanMessage(content='Hi,My name is Yuvraj And I like Batman', additional_kwargs={}, response_metadata={}, id='983204a0-02c4-4943-b5a3-0375901eef99'), AIMessage(content=\"The Dark Knight! What's your favorite thing about Batman, Yuvraj? Is it his cool gadgets, his martial arts skills, or his detective work? Do you have a favorite Batman villain, like the Joker or Penguin? Let's chat about all things Batman!\", additional_kwargs={}, response_metadata={'token_usage': {'completion_tokens': 53, 'prompt_tokens': 90, 'total_tokens': 143, 'completion_time': 0.126689526, 'prompt_time': 0.004531475, 'queue_time': 0.049740895, 'total_time': 0.131221001}, 'model_name': 'meta-llama/llama-4-scout-17b-16e-instruct', 'system_fingerprint': 'fp_37da608fc1', 'finish_reason': 'stop', 'logprobs': None}, id='run--87365a0b-751f-485f-978c-8085032b522b-0', usage_metadata={'input_tokens': 90, 'output_tokens': 53, 'total_tokens': 143}), HumanMessage(content='Hi,My name is Yuvraj And I like Batman', additional_kwargs={}, response_metadata={}, id='1de1d0b4-7b4a-413f-b070-1936c1a3fe84'), AIMessage(content=\"Nice to meet you again, Yuvraj! So, you like Batman, huh? That's awesome! What do you think makes Batman so cool? Is it his:\\n\\n1. **Superhuman strength** (or lack thereof, making him more relatable)?\\n2. **Gadgets and tech** (like his trusty Batmobile or grappling hook)?\\n3. **Martial arts skills** (making him a master of hand-to-hand combat)?\\n4. **Detective skills** (helping him solve mysteries and crimes)?\\n\\nLet me know, and we can geek out about Batman together!\", additional_kwargs={}, response_metadata={'token_usage': {'completion_tokens': 123, 'prompt_tokens': 164, 'total_tokens': 287, 'completion_time': 0.242905119, 'prompt_time': 0.006102285, 'queue_time': 0.045832445, 'total_time': 0.249007404}, 'model_name': 'meta-llama/llama-4-scout-17b-16e-instruct', 'system_fingerprint': 'fp_37da608fc1', 'finish_reason': 'stop', 'logprobs': None}, id='run--b996c558-549f-44af-8ee2-4cfa8e6267a9-0', usage_metadata={'input_tokens': 164, 'output_tokens': 123, 'total_tokens': 287}), HumanMessage(content='Hi,My name is Yuvraj And I like Batman', additional_kwargs={}, response_metadata={}, id='998d728a-4e2c-4c1d-868a-6284915e2011'), AIMessage(content=\"Third time's the charm! Hi Yuvraj, it's great to meet you again! So, being a Batman fan, I'm sure you've got some favorite Batman stories or movies. Have you:\\n\\n1. **Watched the latest Batman movies** (like The Dark Knight or The Batman)?\\n2. **Read any Batman comics** (or graphic novels)?\\n3. **Played Batman video games** (like Arkham City or Gotham Knights)?\\n\\nLet's talk more about what makes Batman so awesome! What's your favorite Batman memory or experience?\", additional_kwargs={}, response_metadata={'token_usage': {'completion_tokens': 109, 'prompt_tokens': 308, 'total_tokens': 417, 'completion_time': 0.220657157, 'prompt_time': 0.00975574, 'queue_time': 0.04954109, 'total_time': 0.230412897}, 'model_name': 'meta-llama/llama-4-scout-17b-16e-instruct', 'system_fingerprint': 'fp_37da608fc1', 'finish_reason': 'stop', 'logprobs': None}, id='run--3d04a25b-c8f2-4087-bd89-97bb5db2799e-0', usage_metadata={'input_tokens': 308, 'output_tokens': 109, 'total_tokens': 417}), HumanMessage(content='Hi,My name is Yuvraj And I like Batman', additional_kwargs={}, response_metadata={}, id='4a8c05e5-0ade-44e1-9b7b-8250044f999b'), AIMessage(content=\"Okay, Yuvraj, I think we've established that you like Batman! Let's try to mix it up a bit. What do you think about **Robin**, Batman's trusty sidekick? Do you have a favorite Robin iteration (Dick Grayson, Jason Todd, Tim Drake, etc.)?\\n\\nOr, if you'd like to explore other topics, I'm here to chat about anything that's on your mind!\", additional_kwargs={}, response_metadata={'token_usage': {'completion_tokens': 82, 'prompt_tokens': 438, 'total_tokens': 520, 'completion_time': 0.175561307, 'prompt_time': 0.01386937, 'queue_time': 0.080952556, 'total_time': 0.189430677}, 'model_name': 'meta-llama/llama-4-scout-17b-16e-instruct', 'system_fingerprint': 'fp_37da608fc1', 'finish_reason': 'stop', 'logprobs': None}, id='run--6817755c-1fd2-43af-8323-98f0f2435846-0', usage_metadata={'input_tokens': 438, 'output_tokens': 82, 'total_tokens': 520}), HumanMessage(content='Hi,My name is Yuvraj And I like Batman', additional_kwargs={}, response_metadata={}, id='29c686f2-6b0f-44df-b288-7a5285a062ae')]}\n",
            "{'messages': [HumanMessage(content='Hi,My name is Yuvraj And I like Batman', additional_kwargs={}, response_metadata={}, id='7b4a6271-6583-453f-8d18-8438e459e3c7'), AIMessage(content=\"Hi Yuvraj! Nice to meet you! Batman is an awesome superhero! Who's your favorite Batman actor - Christian Bale, Ben Affleck, or maybe Michael Keaton? Do you have a favorite Batman gadget or vehicle?\", additional_kwargs={}, response_metadata={'token_usage': {'completion_tokens': 47, 'prompt_tokens': 22, 'total_tokens': 69, 'completion_time': 0.112940059, 'prompt_time': 0.002834729, 'queue_time': 0.232238372, 'total_time': 0.115774788}, 'model_name': 'meta-llama/llama-4-scout-17b-16e-instruct', 'system_fingerprint': 'fp_79da0e0073', 'finish_reason': 'stop', 'logprobs': None}, id='run--01208dd2-a826-480c-bd8a-1e9ea398b28e-0', usage_metadata={'input_tokens': 22, 'output_tokens': 47, 'total_tokens': 69}), HumanMessage(content='Hi,My name is Yuvraj And I like Batman', additional_kwargs={}, response_metadata={}, id='983204a0-02c4-4943-b5a3-0375901eef99'), AIMessage(content=\"The Dark Knight! What's your favorite thing about Batman, Yuvraj? Is it his cool gadgets, his martial arts skills, or his detective work? Do you have a favorite Batman villain, like the Joker or Penguin? Let's chat about all things Batman!\", additional_kwargs={}, response_metadata={'token_usage': {'completion_tokens': 53, 'prompt_tokens': 90, 'total_tokens': 143, 'completion_time': 0.126689526, 'prompt_time': 0.004531475, 'queue_time': 0.049740895, 'total_time': 0.131221001}, 'model_name': 'meta-llama/llama-4-scout-17b-16e-instruct', 'system_fingerprint': 'fp_37da608fc1', 'finish_reason': 'stop', 'logprobs': None}, id='run--87365a0b-751f-485f-978c-8085032b522b-0', usage_metadata={'input_tokens': 90, 'output_tokens': 53, 'total_tokens': 143}), HumanMessage(content='Hi,My name is Yuvraj And I like Batman', additional_kwargs={}, response_metadata={}, id='1de1d0b4-7b4a-413f-b070-1936c1a3fe84'), AIMessage(content=\"Nice to meet you again, Yuvraj! So, you like Batman, huh? That's awesome! What do you think makes Batman so cool? Is it his:\\n\\n1. **Superhuman strength** (or lack thereof, making him more relatable)?\\n2. **Gadgets and tech** (like his trusty Batmobile or grappling hook)?\\n3. **Martial arts skills** (making him a master of hand-to-hand combat)?\\n4. **Detective skills** (helping him solve mysteries and crimes)?\\n\\nLet me know, and we can geek out about Batman together!\", additional_kwargs={}, response_metadata={'token_usage': {'completion_tokens': 123, 'prompt_tokens': 164, 'total_tokens': 287, 'completion_time': 0.242905119, 'prompt_time': 0.006102285, 'queue_time': 0.045832445, 'total_time': 0.249007404}, 'model_name': 'meta-llama/llama-4-scout-17b-16e-instruct', 'system_fingerprint': 'fp_37da608fc1', 'finish_reason': 'stop', 'logprobs': None}, id='run--b996c558-549f-44af-8ee2-4cfa8e6267a9-0', usage_metadata={'input_tokens': 164, 'output_tokens': 123, 'total_tokens': 287}), HumanMessage(content='Hi,My name is Yuvraj And I like Batman', additional_kwargs={}, response_metadata={}, id='998d728a-4e2c-4c1d-868a-6284915e2011'), AIMessage(content=\"Third time's the charm! Hi Yuvraj, it's great to meet you again! So, being a Batman fan, I'm sure you've got some favorite Batman stories or movies. Have you:\\n\\n1. **Watched the latest Batman movies** (like The Dark Knight or The Batman)?\\n2. **Read any Batman comics** (or graphic novels)?\\n3. **Played Batman video games** (like Arkham City or Gotham Knights)?\\n\\nLet's talk more about what makes Batman so awesome! What's your favorite Batman memory or experience?\", additional_kwargs={}, response_metadata={'token_usage': {'completion_tokens': 109, 'prompt_tokens': 308, 'total_tokens': 417, 'completion_time': 0.220657157, 'prompt_time': 0.00975574, 'queue_time': 0.04954109, 'total_time': 0.230412897}, 'model_name': 'meta-llama/llama-4-scout-17b-16e-instruct', 'system_fingerprint': 'fp_37da608fc1', 'finish_reason': 'stop', 'logprobs': None}, id='run--3d04a25b-c8f2-4087-bd89-97bb5db2799e-0', usage_metadata={'input_tokens': 308, 'output_tokens': 109, 'total_tokens': 417}), HumanMessage(content='Hi,My name is Yuvraj And I like Batman', additional_kwargs={}, response_metadata={}, id='4a8c05e5-0ade-44e1-9b7b-8250044f999b'), AIMessage(content=\"Okay, Yuvraj, I think we've established that you like Batman! Let's try to mix it up a bit. What do you think about **Robin**, Batman's trusty sidekick? Do you have a favorite Robin iteration (Dick Grayson, Jason Todd, Tim Drake, etc.)?\\n\\nOr, if you'd like to explore other topics, I'm here to chat about anything that's on your mind!\", additional_kwargs={}, response_metadata={'token_usage': {'completion_tokens': 82, 'prompt_tokens': 438, 'total_tokens': 520, 'completion_time': 0.175561307, 'prompt_time': 0.01386937, 'queue_time': 0.080952556, 'total_time': 0.189430677}, 'model_name': 'meta-llama/llama-4-scout-17b-16e-instruct', 'system_fingerprint': 'fp_37da608fc1', 'finish_reason': 'stop', 'logprobs': None}, id='run--6817755c-1fd2-43af-8323-98f0f2435846-0', usage_metadata={'input_tokens': 438, 'output_tokens': 82, 'total_tokens': 520}), HumanMessage(content='Hi,My name is Yuvraj And I like Batman', additional_kwargs={}, response_metadata={}, id='29c686f2-6b0f-44df-b288-7a5285a062ae'), AIMessage(content=\"You know, Yuvraj, I've been thinking... Since you like Batman, you might also enjoy other superheroes or characters with similar themes. Have you considered:\\n\\n1. **The Justice League** (Batman's team with other iconic heroes)?\\n2. **The Dark Knight's allies** (like Commissioner Gordon or Lucius Fox)?\\n3. **Similar vigilantes** (like Hellboy or The Punisher)?\\n\\nOr maybe you'd like to explore **Gotham City**, the dark and gritty world that Batman calls home? What do you think about the city's villains, like the **Joker**, **Penguin**, or **Two-Face**?\", additional_kwargs={}, response_metadata={'token_usage': {'completion_tokens': 135, 'prompt_tokens': 541, 'total_tokens': 676, 'completion_time': 0.268093654, 'prompt_time': 0.015273502, 'queue_time': 0.050340433999999996, 'total_time': 0.283367156}, 'model_name': 'meta-llama/llama-4-scout-17b-16e-instruct', 'system_fingerprint': 'fp_37da608fc1', 'finish_reason': 'stop', 'logprobs': None}, id='run--19e69241-a928-4c6f-bcd0-bd439600f3e3-0', usage_metadata={'input_tokens': 541, 'output_tokens': 135, 'total_tokens': 676})]}\n"
          ]
        }
      ]
    },
    {
      "cell_type": "code",
      "source": [
        "# Create a thread\n",
        "config = {\"configurable\": {\"thread_id\": \"3\"}}\n",
        "\n",
        "for chunk in graph_builder.stream({'messages':\"Hi,My name is Yuvraj And I like Batman\"},config,stream_mode=\"updates\"):\n",
        "    print(chunk)\n"
      ],
      "metadata": {
        "colab": {
          "base_uri": "https://localhost:8080/"
        },
        "id": "npEnH7SIHGmn",
        "outputId": "72ae7346-8c10-49ec-df6f-ad7ab7a0a1a6"
      },
      "execution_count": null,
      "outputs": [
        {
          "output_type": "stream",
          "name": "stdout",
          "text": [
            "{'SuperBot': {'messages': [AIMessage(content=\"I think we're on Batman-repeat mode, Yuvraj! Don't get me wrong, it's awesome that you're passionate about the Caped Crusader! Let's try to switch gears a bit. How about we talk about your favorite hobbies or interests outside of Batman? What do you enjoy doing in your free time?\\n\\n(But if you want to keep chatting about Batman, I'm here for it too!)\", additional_kwargs={}, response_metadata={'token_usage': {'completion_tokens': 79, 'prompt_tokens': 697, 'total_tokens': 776, 'completion_time': 0.157203945, 'prompt_time': 0.020813474, 'queue_time': 0.049902821, 'total_time': 0.178017419}, 'model_name': 'meta-llama/llama-4-scout-17b-16e-instruct', 'system_fingerprint': 'fp_79da0e0073', 'finish_reason': 'stop', 'logprobs': None}, id='run--bead0bee-7375-48b1-9216-e82a0fe2db16-0', usage_metadata={'input_tokens': 697, 'output_tokens': 79, 'total_tokens': 776})]}}\n"
          ]
        }
      ]
    },
    {
      "cell_type": "code",
      "source": [
        "# Create a thread\n",
        "config = {\"configurable\": {\"thread_id\": \"4\"}}\n",
        "\n",
        "for chunk in graph_builder.stream({'messages':\"Hi,My name is Yuvraj And I like Batman\"},config,stream_mode=\"updates\"):\n",
        "    print(chunk)"
      ],
      "metadata": {
        "colab": {
          "base_uri": "https://localhost:8080/"
        },
        "id": "IARXfD_1HY8_",
        "outputId": "562d85be-fed9-4c7b-9fa3-95f3f1556cf3"
      },
      "execution_count": null,
      "outputs": [
        {
          "output_type": "stream",
          "name": "stdout",
          "text": [
            "{'SuperBot': {'messages': [AIMessage(content=\"Nice to meet you, Yuvraj! Batman is an awesome superhero! Who's your favorite Batman actor - Christian Bale, Ben Affleck, or maybe Michael Keaton? Do you have a favorite Batman villain or gadget? Let's chat about all things Batman!\", additional_kwargs={}, response_metadata={'token_usage': {'completion_tokens': 53, 'prompt_tokens': 22, 'total_tokens': 75, 'completion_time': 0.106237082, 'prompt_time': 0.00284457, 'queue_time': 0.15845288200000002, 'total_time': 0.109081652}, 'model_name': 'meta-llama/llama-4-scout-17b-16e-instruct', 'system_fingerprint': 'fp_79da0e0073', 'finish_reason': 'stop', 'logprobs': None}, id='run--836650d2-dffd-41e1-ac00-dc29a72c97e6-0', usage_metadata={'input_tokens': 22, 'output_tokens': 53, 'total_tokens': 75})]}}\n"
          ]
        }
      ]
    },
    {
      "cell_type": "code",
      "source": [
        "for chunk in graph_builder.stream({'messages':\"I like Ben Affleck \"},config,stream_mode=\"updates\"):\n",
        "    print(chunk)"
      ],
      "metadata": {
        "colab": {
          "base_uri": "https://localhost:8080/"
        },
        "id": "OXfcAfRIHonv",
        "outputId": "70fbe6e7-f80c-4d23-97d7-fc9e460647e3"
      },
      "execution_count": null,
      "outputs": [
        {
          "output_type": "stream",
          "name": "stdout",
          "text": [
            "{'SuperBot': {'messages': [AIMessage(content='Ben Affleck is a talented actor, and his portrayal of Batman was well-received by many fans. He brought a sense of grit and intensity to the character, which fit well with the DC Extended Universe.\\n\\nAs a fan of Ben Affleck\\'s Batman, you might enjoy some of the other movies and TV shows he\\'s been in, such as \"Good Will Hunting\", \"The Town\", and \"Daredevil\". He\\'s a versatile actor who can play a wide range of roles.\\n\\nNow, let\\'s talk more about Batman! What do you think makes him such an enduring and iconic character? Is it his gadgets, his martial arts skills, or something else entirely?\\n\\n(By the way, do you have a favorite Batman ally, like Robin or Commissioner Gordon?)', additional_kwargs={}, response_metadata={'token_usage': {'completion_tokens': 153, 'prompt_tokens': 203, 'total_tokens': 356, 'completion_time': 0.302045876, 'prompt_time': 0.006894223, 'queue_time': 0.047212227, 'total_time': 0.308940099}, 'model_name': 'meta-llama/llama-4-scout-17b-16e-instruct', 'system_fingerprint': 'fp_37da608fc1', 'finish_reason': 'stop', 'logprobs': None}, id='run--1c96b99e-ff1d-4144-b1cc-261f0327ec85-0', usage_metadata={'input_tokens': 203, 'output_tokens': 153, 'total_tokens': 356})]}}\n"
          ]
        }
      ]
    },
    {
      "cell_type": "code",
      "source": [
        "config = {\"configurable\": {\"thread_id\": \"5\"}}\n",
        "\n",
        "async for event in graph_builder.astream_events({\"messages\":[\"Hi my name is yuvraj and i like batman\"]},config,version=\"v2\"):\n",
        "    print(event)"
      ],
      "metadata": {
        "colab": {
          "base_uri": "https://localhost:8080/"
        },
        "id": "kT6HnkgOH5Bs",
        "outputId": "a428e7e5-3db2-4555-90b5-64c229c67f0c"
      },
      "execution_count": null,
      "outputs": [
        {
          "output_type": "stream",
          "name": "stdout",
          "text": [
            "{'event': 'on_chain_start', 'data': {'input': {'messages': ['Hi my name is yuvraj and i like batman']}}, 'name': 'LangGraph', 'tags': [], 'run_id': 'b2f8132b-5c31-4cfc-87ab-3f717e1c31c7', 'metadata': {'thread_id': '5'}, 'parent_ids': []}\n",
            "{'event': 'on_chain_start', 'data': {'input': {'messages': [HumanMessage(content='Hi my name is yuvraj and i like joker', additional_kwargs={}, response_metadata={}, id='bb901ce7-bdb8-4620-b490-b44f5d088ca5'), AIMessage(content=\"Nice to meet you, Yuvraj!\\n\\nSo, you like the Joker, huh? That's a fascinating character! He's such an iconic villain with a complex personality. What is it about the Joker that resonates with you? Is it his unpredictability, his chaotic nature, or something else entirely?\\n\\n(By the way, are you a fan of the DC Comics universe or a particular movie/TV show featuring the Joker, like the Batman series or the Joker movie with Joaquin Phoenix?)\", additional_kwargs={}, response_metadata={'finish_reason': 'stop', 'model_name': 'meta-llama/llama-4-scout-17b-16e-instruct', 'system_fingerprint': 'fp_79da0e0073'}, id='run--1f76bc45-b5f8-4b14-9159-cd2816a5f67c', usage_metadata={'input_tokens': 22, 'output_tokens': 97, 'total_tokens': 119}), HumanMessage(content='Hi my name is yuvraj and i like batman', additional_kwargs={}, response_metadata={}, id='536ee98d-a362-4baa-a416-a09fc52060de')]}}, 'name': 'SuperBot', 'tags': ['graph:step:4'], 'run_id': 'ef95cdeb-0b0d-4405-b4d6-e5c0784ea944', 'metadata': {'thread_id': '5', 'langgraph_step': 4, 'langgraph_node': 'SuperBot', 'langgraph_triggers': ('branch:to:SuperBot',), 'langgraph_path': ('__pregel_pull', 'SuperBot'), 'langgraph_checkpoint_ns': 'SuperBot:a933c887-eb90-9854-95f3-be618c384ab6'}, 'parent_ids': ['b2f8132b-5c31-4cfc-87ab-3f717e1c31c7']}\n",
            "{'event': 'on_chat_model_start', 'data': {'input': {'messages': [[HumanMessage(content='Hi my name is yuvraj and i like joker', additional_kwargs={}, response_metadata={}, id='bb901ce7-bdb8-4620-b490-b44f5d088ca5'), AIMessage(content=\"Nice to meet you, Yuvraj!\\n\\nSo, you like the Joker, huh? That's a fascinating character! He's such an iconic villain with a complex personality. What is it about the Joker that resonates with you? Is it his unpredictability, his chaotic nature, or something else entirely?\\n\\n(By the way, are you a fan of the DC Comics universe or a particular movie/TV show featuring the Joker, like the Batman series or the Joker movie with Joaquin Phoenix?)\", additional_kwargs={}, response_metadata={'finish_reason': 'stop', 'model_name': 'meta-llama/llama-4-scout-17b-16e-instruct', 'system_fingerprint': 'fp_79da0e0073'}, id='run--1f76bc45-b5f8-4b14-9159-cd2816a5f67c', usage_metadata={'input_tokens': 22, 'output_tokens': 97, 'total_tokens': 119}), HumanMessage(content='Hi my name is yuvraj and i like batman', additional_kwargs={}, response_metadata={}, id='536ee98d-a362-4baa-a416-a09fc52060de')]]}}, 'name': 'ChatGroq', 'tags': ['seq:step:1'], 'run_id': '08e40ddd-e285-479b-9ed1-654ef5af67fc', 'metadata': {'thread_id': '5', 'langgraph_step': 4, 'langgraph_node': 'SuperBot', 'langgraph_triggers': ('branch:to:SuperBot',), 'langgraph_path': ('__pregel_pull', 'SuperBot'), 'langgraph_checkpoint_ns': 'SuperBot:a933c887-eb90-9854-95f3-be618c384ab6', 'checkpoint_ns': 'SuperBot:a933c887-eb90-9854-95f3-be618c384ab6', 'ls_provider': 'groq', 'ls_model_name': 'meta-llama/llama-4-scout-17b-16e-instruct', 'ls_model_type': 'chat', 'ls_temperature': 0.7}, 'parent_ids': ['b2f8132b-5c31-4cfc-87ab-3f717e1c31c7', 'ef95cdeb-0b0d-4405-b4d6-e5c0784ea944']}\n",
            "{'event': 'on_chat_model_stream', 'data': {'chunk': AIMessageChunk(content='', additional_kwargs={}, response_metadata={}, id='run--08e40ddd-e285-479b-9ed1-654ef5af67fc')}, 'run_id': '08e40ddd-e285-479b-9ed1-654ef5af67fc', 'name': 'ChatGroq', 'tags': ['seq:step:1'], 'metadata': {'thread_id': '5', 'langgraph_step': 4, 'langgraph_node': 'SuperBot', 'langgraph_triggers': ('branch:to:SuperBot',), 'langgraph_path': ('__pregel_pull', 'SuperBot'), 'langgraph_checkpoint_ns': 'SuperBot:a933c887-eb90-9854-95f3-be618c384ab6', 'checkpoint_ns': 'SuperBot:a933c887-eb90-9854-95f3-be618c384ab6', 'ls_provider': 'groq', 'ls_model_name': 'meta-llama/llama-4-scout-17b-16e-instruct', 'ls_model_type': 'chat', 'ls_temperature': 0.7}, 'parent_ids': ['b2f8132b-5c31-4cfc-87ab-3f717e1c31c7', 'ef95cdeb-0b0d-4405-b4d6-e5c0784ea944']}\n",
            "{'event': 'on_chat_model_stream', 'data': {'chunk': AIMessageChunk(content='Nice', additional_kwargs={}, response_metadata={}, id='run--08e40ddd-e285-479b-9ed1-654ef5af67fc')}, 'run_id': '08e40ddd-e285-479b-9ed1-654ef5af67fc', 'name': 'ChatGroq', 'tags': ['seq:step:1'], 'metadata': {'thread_id': '5', 'langgraph_step': 4, 'langgraph_node': 'SuperBot', 'langgraph_triggers': ('branch:to:SuperBot',), 'langgraph_path': ('__pregel_pull', 'SuperBot'), 'langgraph_checkpoint_ns': 'SuperBot:a933c887-eb90-9854-95f3-be618c384ab6', 'checkpoint_ns': 'SuperBot:a933c887-eb90-9854-95f3-be618c384ab6', 'ls_provider': 'groq', 'ls_model_name': 'meta-llama/llama-4-scout-17b-16e-instruct', 'ls_model_type': 'chat', 'ls_temperature': 0.7}, 'parent_ids': ['b2f8132b-5c31-4cfc-87ab-3f717e1c31c7', 'ef95cdeb-0b0d-4405-b4d6-e5c0784ea944']}\n",
            "{'event': 'on_chat_model_stream', 'data': {'chunk': AIMessageChunk(content=' to', additional_kwargs={}, response_metadata={}, id='run--08e40ddd-e285-479b-9ed1-654ef5af67fc')}, 'run_id': '08e40ddd-e285-479b-9ed1-654ef5af67fc', 'name': 'ChatGroq', 'tags': ['seq:step:1'], 'metadata': {'thread_id': '5', 'langgraph_step': 4, 'langgraph_node': 'SuperBot', 'langgraph_triggers': ('branch:to:SuperBot',), 'langgraph_path': ('__pregel_pull', 'SuperBot'), 'langgraph_checkpoint_ns': 'SuperBot:a933c887-eb90-9854-95f3-be618c384ab6', 'checkpoint_ns': 'SuperBot:a933c887-eb90-9854-95f3-be618c384ab6', 'ls_provider': 'groq', 'ls_model_name': 'meta-llama/llama-4-scout-17b-16e-instruct', 'ls_model_type': 'chat', 'ls_temperature': 0.7}, 'parent_ids': ['b2f8132b-5c31-4cfc-87ab-3f717e1c31c7', 'ef95cdeb-0b0d-4405-b4d6-e5c0784ea944']}\n",
            "{'event': 'on_chat_model_stream', 'data': {'chunk': AIMessageChunk(content=' meet', additional_kwargs={}, response_metadata={}, id='run--08e40ddd-e285-479b-9ed1-654ef5af67fc')}, 'run_id': '08e40ddd-e285-479b-9ed1-654ef5af67fc', 'name': 'ChatGroq', 'tags': ['seq:step:1'], 'metadata': {'thread_id': '5', 'langgraph_step': 4, 'langgraph_node': 'SuperBot', 'langgraph_triggers': ('branch:to:SuperBot',), 'langgraph_path': ('__pregel_pull', 'SuperBot'), 'langgraph_checkpoint_ns': 'SuperBot:a933c887-eb90-9854-95f3-be618c384ab6', 'checkpoint_ns': 'SuperBot:a933c887-eb90-9854-95f3-be618c384ab6', 'ls_provider': 'groq', 'ls_model_name': 'meta-llama/llama-4-scout-17b-16e-instruct', 'ls_model_type': 'chat', 'ls_temperature': 0.7}, 'parent_ids': ['b2f8132b-5c31-4cfc-87ab-3f717e1c31c7', 'ef95cdeb-0b0d-4405-b4d6-e5c0784ea944']}\n",
            "{'event': 'on_chat_model_stream', 'data': {'chunk': AIMessageChunk(content=' you', additional_kwargs={}, response_metadata={}, id='run--08e40ddd-e285-479b-9ed1-654ef5af67fc')}, 'run_id': '08e40ddd-e285-479b-9ed1-654ef5af67fc', 'name': 'ChatGroq', 'tags': ['seq:step:1'], 'metadata': {'thread_id': '5', 'langgraph_step': 4, 'langgraph_node': 'SuperBot', 'langgraph_triggers': ('branch:to:SuperBot',), 'langgraph_path': ('__pregel_pull', 'SuperBot'), 'langgraph_checkpoint_ns': 'SuperBot:a933c887-eb90-9854-95f3-be618c384ab6', 'checkpoint_ns': 'SuperBot:a933c887-eb90-9854-95f3-be618c384ab6', 'ls_provider': 'groq', 'ls_model_name': 'meta-llama/llama-4-scout-17b-16e-instruct', 'ls_model_type': 'chat', 'ls_temperature': 0.7}, 'parent_ids': ['b2f8132b-5c31-4cfc-87ab-3f717e1c31c7', 'ef95cdeb-0b0d-4405-b4d6-e5c0784ea944']}\n",
            "{'event': 'on_chat_model_stream', 'data': {'chunk': AIMessageChunk(content=' again', additional_kwargs={}, response_metadata={}, id='run--08e40ddd-e285-479b-9ed1-654ef5af67fc')}, 'run_id': '08e40ddd-e285-479b-9ed1-654ef5af67fc', 'name': 'ChatGroq', 'tags': ['seq:step:1'], 'metadata': {'thread_id': '5', 'langgraph_step': 4, 'langgraph_node': 'SuperBot', 'langgraph_triggers': ('branch:to:SuperBot',), 'langgraph_path': ('__pregel_pull', 'SuperBot'), 'langgraph_checkpoint_ns': 'SuperBot:a933c887-eb90-9854-95f3-be618c384ab6', 'checkpoint_ns': 'SuperBot:a933c887-eb90-9854-95f3-be618c384ab6', 'ls_provider': 'groq', 'ls_model_name': 'meta-llama/llama-4-scout-17b-16e-instruct', 'ls_model_type': 'chat', 'ls_temperature': 0.7}, 'parent_ids': ['b2f8132b-5c31-4cfc-87ab-3f717e1c31c7', 'ef95cdeb-0b0d-4405-b4d6-e5c0784ea944']}\n",
            "{'event': 'on_chat_model_stream', 'data': {'chunk': AIMessageChunk(content=',', additional_kwargs={}, response_metadata={}, id='run--08e40ddd-e285-479b-9ed1-654ef5af67fc')}, 'run_id': '08e40ddd-e285-479b-9ed1-654ef5af67fc', 'name': 'ChatGroq', 'tags': ['seq:step:1'], 'metadata': {'thread_id': '5', 'langgraph_step': 4, 'langgraph_node': 'SuperBot', 'langgraph_triggers': ('branch:to:SuperBot',), 'langgraph_path': ('__pregel_pull', 'SuperBot'), 'langgraph_checkpoint_ns': 'SuperBot:a933c887-eb90-9854-95f3-be618c384ab6', 'checkpoint_ns': 'SuperBot:a933c887-eb90-9854-95f3-be618c384ab6', 'ls_provider': 'groq', 'ls_model_name': 'meta-llama/llama-4-scout-17b-16e-instruct', 'ls_model_type': 'chat', 'ls_temperature': 0.7}, 'parent_ids': ['b2f8132b-5c31-4cfc-87ab-3f717e1c31c7', 'ef95cdeb-0b0d-4405-b4d6-e5c0784ea944']}\n",
            "{'event': 'on_chat_model_stream', 'data': {'chunk': AIMessageChunk(content=' Y', additional_kwargs={}, response_metadata={}, id='run--08e40ddd-e285-479b-9ed1-654ef5af67fc')}, 'run_id': '08e40ddd-e285-479b-9ed1-654ef5af67fc', 'name': 'ChatGroq', 'tags': ['seq:step:1'], 'metadata': {'thread_id': '5', 'langgraph_step': 4, 'langgraph_node': 'SuperBot', 'langgraph_triggers': ('branch:to:SuperBot',), 'langgraph_path': ('__pregel_pull', 'SuperBot'), 'langgraph_checkpoint_ns': 'SuperBot:a933c887-eb90-9854-95f3-be618c384ab6', 'checkpoint_ns': 'SuperBot:a933c887-eb90-9854-95f3-be618c384ab6', 'ls_provider': 'groq', 'ls_model_name': 'meta-llama/llama-4-scout-17b-16e-instruct', 'ls_model_type': 'chat', 'ls_temperature': 0.7}, 'parent_ids': ['b2f8132b-5c31-4cfc-87ab-3f717e1c31c7', 'ef95cdeb-0b0d-4405-b4d6-e5c0784ea944']}\n",
            "{'event': 'on_chat_model_stream', 'data': {'chunk': AIMessageChunk(content='uv', additional_kwargs={}, response_metadata={}, id='run--08e40ddd-e285-479b-9ed1-654ef5af67fc')}, 'run_id': '08e40ddd-e285-479b-9ed1-654ef5af67fc', 'name': 'ChatGroq', 'tags': ['seq:step:1'], 'metadata': {'thread_id': '5', 'langgraph_step': 4, 'langgraph_node': 'SuperBot', 'langgraph_triggers': ('branch:to:SuperBot',), 'langgraph_path': ('__pregel_pull', 'SuperBot'), 'langgraph_checkpoint_ns': 'SuperBot:a933c887-eb90-9854-95f3-be618c384ab6', 'checkpoint_ns': 'SuperBot:a933c887-eb90-9854-95f3-be618c384ab6', 'ls_provider': 'groq', 'ls_model_name': 'meta-llama/llama-4-scout-17b-16e-instruct', 'ls_model_type': 'chat', 'ls_temperature': 0.7}, 'parent_ids': ['b2f8132b-5c31-4cfc-87ab-3f717e1c31c7', 'ef95cdeb-0b0d-4405-b4d6-e5c0784ea944']}\n",
            "{'event': 'on_chat_model_stream', 'data': {'chunk': AIMessageChunk(content='raj', additional_kwargs={}, response_metadata={}, id='run--08e40ddd-e285-479b-9ed1-654ef5af67fc')}, 'run_id': '08e40ddd-e285-479b-9ed1-654ef5af67fc', 'name': 'ChatGroq', 'tags': ['seq:step:1'], 'metadata': {'thread_id': '5', 'langgraph_step': 4, 'langgraph_node': 'SuperBot', 'langgraph_triggers': ('branch:to:SuperBot',), 'langgraph_path': ('__pregel_pull', 'SuperBot'), 'langgraph_checkpoint_ns': 'SuperBot:a933c887-eb90-9854-95f3-be618c384ab6', 'checkpoint_ns': 'SuperBot:a933c887-eb90-9854-95f3-be618c384ab6', 'ls_provider': 'groq', 'ls_model_name': 'meta-llama/llama-4-scout-17b-16e-instruct', 'ls_model_type': 'chat', 'ls_temperature': 0.7}, 'parent_ids': ['b2f8132b-5c31-4cfc-87ab-3f717e1c31c7', 'ef95cdeb-0b0d-4405-b4d6-e5c0784ea944']}\n",
            "{'event': 'on_chat_model_stream', 'data': {'chunk': AIMessageChunk(content='!\\n\\n', additional_kwargs={}, response_metadata={}, id='run--08e40ddd-e285-479b-9ed1-654ef5af67fc')}, 'run_id': '08e40ddd-e285-479b-9ed1-654ef5af67fc', 'name': 'ChatGroq', 'tags': ['seq:step:1'], 'metadata': {'thread_id': '5', 'langgraph_step': 4, 'langgraph_node': 'SuperBot', 'langgraph_triggers': ('branch:to:SuperBot',), 'langgraph_path': ('__pregel_pull', 'SuperBot'), 'langgraph_checkpoint_ns': 'SuperBot:a933c887-eb90-9854-95f3-be618c384ab6', 'checkpoint_ns': 'SuperBot:a933c887-eb90-9854-95f3-be618c384ab6', 'ls_provider': 'groq', 'ls_model_name': 'meta-llama/llama-4-scout-17b-16e-instruct', 'ls_model_type': 'chat', 'ls_temperature': 0.7}, 'parent_ids': ['b2f8132b-5c31-4cfc-87ab-3f717e1c31c7', 'ef95cdeb-0b0d-4405-b4d6-e5c0784ea944']}\n",
            "{'event': 'on_chat_model_stream', 'data': {'chunk': AIMessageChunk(content='So', additional_kwargs={}, response_metadata={}, id='run--08e40ddd-e285-479b-9ed1-654ef5af67fc')}, 'run_id': '08e40ddd-e285-479b-9ed1-654ef5af67fc', 'name': 'ChatGroq', 'tags': ['seq:step:1'], 'metadata': {'thread_id': '5', 'langgraph_step': 4, 'langgraph_node': 'SuperBot', 'langgraph_triggers': ('branch:to:SuperBot',), 'langgraph_path': ('__pregel_pull', 'SuperBot'), 'langgraph_checkpoint_ns': 'SuperBot:a933c887-eb90-9854-95f3-be618c384ab6', 'checkpoint_ns': 'SuperBot:a933c887-eb90-9854-95f3-be618c384ab6', 'ls_provider': 'groq', 'ls_model_name': 'meta-llama/llama-4-scout-17b-16e-instruct', 'ls_model_type': 'chat', 'ls_temperature': 0.7}, 'parent_ids': ['b2f8132b-5c31-4cfc-87ab-3f717e1c31c7', 'ef95cdeb-0b0d-4405-b4d6-e5c0784ea944']}\n",
            "{'event': 'on_chat_model_stream', 'data': {'chunk': AIMessageChunk(content=',', additional_kwargs={}, response_metadata={}, id='run--08e40ddd-e285-479b-9ed1-654ef5af67fc')}, 'run_id': '08e40ddd-e285-479b-9ed1-654ef5af67fc', 'name': 'ChatGroq', 'tags': ['seq:step:1'], 'metadata': {'thread_id': '5', 'langgraph_step': 4, 'langgraph_node': 'SuperBot', 'langgraph_triggers': ('branch:to:SuperBot',), 'langgraph_path': ('__pregel_pull', 'SuperBot'), 'langgraph_checkpoint_ns': 'SuperBot:a933c887-eb90-9854-95f3-be618c384ab6', 'checkpoint_ns': 'SuperBot:a933c887-eb90-9854-95f3-be618c384ab6', 'ls_provider': 'groq', 'ls_model_name': 'meta-llama/llama-4-scout-17b-16e-instruct', 'ls_model_type': 'chat', 'ls_temperature': 0.7}, 'parent_ids': ['b2f8132b-5c31-4cfc-87ab-3f717e1c31c7', 'ef95cdeb-0b0d-4405-b4d6-e5c0784ea944']}\n",
            "{'event': 'on_chat_model_stream', 'data': {'chunk': AIMessageChunk(content=\" you're\", additional_kwargs={}, response_metadata={}, id='run--08e40ddd-e285-479b-9ed1-654ef5af67fc')}, 'run_id': '08e40ddd-e285-479b-9ed1-654ef5af67fc', 'name': 'ChatGroq', 'tags': ['seq:step:1'], 'metadata': {'thread_id': '5', 'langgraph_step': 4, 'langgraph_node': 'SuperBot', 'langgraph_triggers': ('branch:to:SuperBot',), 'langgraph_path': ('__pregel_pull', 'SuperBot'), 'langgraph_checkpoint_ns': 'SuperBot:a933c887-eb90-9854-95f3-be618c384ab6', 'checkpoint_ns': 'SuperBot:a933c887-eb90-9854-95f3-be618c384ab6', 'ls_provider': 'groq', 'ls_model_name': 'meta-llama/llama-4-scout-17b-16e-instruct', 'ls_model_type': 'chat', 'ls_temperature': 0.7}, 'parent_ids': ['b2f8132b-5c31-4cfc-87ab-3f717e1c31c7', 'ef95cdeb-0b0d-4405-b4d6-e5c0784ea944']}\n",
            "{'event': 'on_chat_model_stream', 'data': {'chunk': AIMessageChunk(content=' a', additional_kwargs={}, response_metadata={}, id='run--08e40ddd-e285-479b-9ed1-654ef5af67fc')}, 'run_id': '08e40ddd-e285-479b-9ed1-654ef5af67fc', 'name': 'ChatGroq', 'tags': ['seq:step:1'], 'metadata': {'thread_id': '5', 'langgraph_step': 4, 'langgraph_node': 'SuperBot', 'langgraph_triggers': ('branch:to:SuperBot',), 'langgraph_path': ('__pregel_pull', 'SuperBot'), 'langgraph_checkpoint_ns': 'SuperBot:a933c887-eb90-9854-95f3-be618c384ab6', 'checkpoint_ns': 'SuperBot:a933c887-eb90-9854-95f3-be618c384ab6', 'ls_provider': 'groq', 'ls_model_name': 'meta-llama/llama-4-scout-17b-16e-instruct', 'ls_model_type': 'chat', 'ls_temperature': 0.7}, 'parent_ids': ['b2f8132b-5c31-4cfc-87ab-3f717e1c31c7', 'ef95cdeb-0b0d-4405-b4d6-e5c0784ea944']}\n",
            "{'event': 'on_chat_model_stream', 'data': {'chunk': AIMessageChunk(content=' fan', additional_kwargs={}, response_metadata={}, id='run--08e40ddd-e285-479b-9ed1-654ef5af67fc')}, 'run_id': '08e40ddd-e285-479b-9ed1-654ef5af67fc', 'name': 'ChatGroq', 'tags': ['seq:step:1'], 'metadata': {'thread_id': '5', 'langgraph_step': 4, 'langgraph_node': 'SuperBot', 'langgraph_triggers': ('branch:to:SuperBot',), 'langgraph_path': ('__pregel_pull', 'SuperBot'), 'langgraph_checkpoint_ns': 'SuperBot:a933c887-eb90-9854-95f3-be618c384ab6', 'checkpoint_ns': 'SuperBot:a933c887-eb90-9854-95f3-be618c384ab6', 'ls_provider': 'groq', 'ls_model_name': 'meta-llama/llama-4-scout-17b-16e-instruct', 'ls_model_type': 'chat', 'ls_temperature': 0.7}, 'parent_ids': ['b2f8132b-5c31-4cfc-87ab-3f717e1c31c7', 'ef95cdeb-0b0d-4405-b4d6-e5c0784ea944']}\n",
            "{'event': 'on_chat_model_stream', 'data': {'chunk': AIMessageChunk(content=' of', additional_kwargs={}, response_metadata={}, id='run--08e40ddd-e285-479b-9ed1-654ef5af67fc')}, 'run_id': '08e40ddd-e285-479b-9ed1-654ef5af67fc', 'name': 'ChatGroq', 'tags': ['seq:step:1'], 'metadata': {'thread_id': '5', 'langgraph_step': 4, 'langgraph_node': 'SuperBot', 'langgraph_triggers': ('branch:to:SuperBot',), 'langgraph_path': ('__pregel_pull', 'SuperBot'), 'langgraph_checkpoint_ns': 'SuperBot:a933c887-eb90-9854-95f3-be618c384ab6', 'checkpoint_ns': 'SuperBot:a933c887-eb90-9854-95f3-be618c384ab6', 'ls_provider': 'groq', 'ls_model_name': 'meta-llama/llama-4-scout-17b-16e-instruct', 'ls_model_type': 'chat', 'ls_temperature': 0.7}, 'parent_ids': ['b2f8132b-5c31-4cfc-87ab-3f717e1c31c7', 'ef95cdeb-0b0d-4405-b4d6-e5c0784ea944']}\n",
            "{'event': 'on_chat_model_stream', 'data': {'chunk': AIMessageChunk(content=' Batman', additional_kwargs={}, response_metadata={}, id='run--08e40ddd-e285-479b-9ed1-654ef5af67fc')}, 'run_id': '08e40ddd-e285-479b-9ed1-654ef5af67fc', 'name': 'ChatGroq', 'tags': ['seq:step:1'], 'metadata': {'thread_id': '5', 'langgraph_step': 4, 'langgraph_node': 'SuperBot', 'langgraph_triggers': ('branch:to:SuperBot',), 'langgraph_path': ('__pregel_pull', 'SuperBot'), 'langgraph_checkpoint_ns': 'SuperBot:a933c887-eb90-9854-95f3-be618c384ab6', 'checkpoint_ns': 'SuperBot:a933c887-eb90-9854-95f3-be618c384ab6', 'ls_provider': 'groq', 'ls_model_name': 'meta-llama/llama-4-scout-17b-16e-instruct', 'ls_model_type': 'chat', 'ls_temperature': 0.7}, 'parent_ids': ['b2f8132b-5c31-4cfc-87ab-3f717e1c31c7', 'ef95cdeb-0b0d-4405-b4d6-e5c0784ea944']}\n",
            "{'event': 'on_chat_model_stream', 'data': {'chunk': AIMessageChunk(content=',', additional_kwargs={}, response_metadata={}, id='run--08e40ddd-e285-479b-9ed1-654ef5af67fc')}, 'run_id': '08e40ddd-e285-479b-9ed1-654ef5af67fc', 'name': 'ChatGroq', 'tags': ['seq:step:1'], 'metadata': {'thread_id': '5', 'langgraph_step': 4, 'langgraph_node': 'SuperBot', 'langgraph_triggers': ('branch:to:SuperBot',), 'langgraph_path': ('__pregel_pull', 'SuperBot'), 'langgraph_checkpoint_ns': 'SuperBot:a933c887-eb90-9854-95f3-be618c384ab6', 'checkpoint_ns': 'SuperBot:a933c887-eb90-9854-95f3-be618c384ab6', 'ls_provider': 'groq', 'ls_model_name': 'meta-llama/llama-4-scout-17b-16e-instruct', 'ls_model_type': 'chat', 'ls_temperature': 0.7}, 'parent_ids': ['b2f8132b-5c31-4cfc-87ab-3f717e1c31c7', 'ef95cdeb-0b0d-4405-b4d6-e5c0784ea944']}\n",
            "{'event': 'on_chat_model_stream', 'data': {'chunk': AIMessageChunk(content=' huh', additional_kwargs={}, response_metadata={}, id='run--08e40ddd-e285-479b-9ed1-654ef5af67fc')}, 'run_id': '08e40ddd-e285-479b-9ed1-654ef5af67fc', 'name': 'ChatGroq', 'tags': ['seq:step:1'], 'metadata': {'thread_id': '5', 'langgraph_step': 4, 'langgraph_node': 'SuperBot', 'langgraph_triggers': ('branch:to:SuperBot',), 'langgraph_path': ('__pregel_pull', 'SuperBot'), 'langgraph_checkpoint_ns': 'SuperBot:a933c887-eb90-9854-95f3-be618c384ab6', 'checkpoint_ns': 'SuperBot:a933c887-eb90-9854-95f3-be618c384ab6', 'ls_provider': 'groq', 'ls_model_name': 'meta-llama/llama-4-scout-17b-16e-instruct', 'ls_model_type': 'chat', 'ls_temperature': 0.7}, 'parent_ids': ['b2f8132b-5c31-4cfc-87ab-3f717e1c31c7', 'ef95cdeb-0b0d-4405-b4d6-e5c0784ea944']}\n",
            "{'event': 'on_chat_model_stream', 'data': {'chunk': AIMessageChunk(content='?', additional_kwargs={}, response_metadata={}, id='run--08e40ddd-e285-479b-9ed1-654ef5af67fc')}, 'run_id': '08e40ddd-e285-479b-9ed1-654ef5af67fc', 'name': 'ChatGroq', 'tags': ['seq:step:1'], 'metadata': {'thread_id': '5', 'langgraph_step': 4, 'langgraph_node': 'SuperBot', 'langgraph_triggers': ('branch:to:SuperBot',), 'langgraph_path': ('__pregel_pull', 'SuperBot'), 'langgraph_checkpoint_ns': 'SuperBot:a933c887-eb90-9854-95f3-be618c384ab6', 'checkpoint_ns': 'SuperBot:a933c887-eb90-9854-95f3-be618c384ab6', 'ls_provider': 'groq', 'ls_model_name': 'meta-llama/llama-4-scout-17b-16e-instruct', 'ls_model_type': 'chat', 'ls_temperature': 0.7}, 'parent_ids': ['b2f8132b-5c31-4cfc-87ab-3f717e1c31c7', 'ef95cdeb-0b0d-4405-b4d6-e5c0784ea944']}\n",
            "{'event': 'on_chat_model_stream', 'data': {'chunk': AIMessageChunk(content=\" That's\", additional_kwargs={}, response_metadata={}, id='run--08e40ddd-e285-479b-9ed1-654ef5af67fc')}, 'run_id': '08e40ddd-e285-479b-9ed1-654ef5af67fc', 'name': 'ChatGroq', 'tags': ['seq:step:1'], 'metadata': {'thread_id': '5', 'langgraph_step': 4, 'langgraph_node': 'SuperBot', 'langgraph_triggers': ('branch:to:SuperBot',), 'langgraph_path': ('__pregel_pull', 'SuperBot'), 'langgraph_checkpoint_ns': 'SuperBot:a933c887-eb90-9854-95f3-be618c384ab6', 'checkpoint_ns': 'SuperBot:a933c887-eb90-9854-95f3-be618c384ab6', 'ls_provider': 'groq', 'ls_model_name': 'meta-llama/llama-4-scout-17b-16e-instruct', 'ls_model_type': 'chat', 'ls_temperature': 0.7}, 'parent_ids': ['b2f8132b-5c31-4cfc-87ab-3f717e1c31c7', 'ef95cdeb-0b0d-4405-b4d6-e5c0784ea944']}\n",
            "{'event': 'on_chat_model_stream', 'data': {'chunk': AIMessageChunk(content=' awesome', additional_kwargs={}, response_metadata={}, id='run--08e40ddd-e285-479b-9ed1-654ef5af67fc')}, 'run_id': '08e40ddd-e285-479b-9ed1-654ef5af67fc', 'name': 'ChatGroq', 'tags': ['seq:step:1'], 'metadata': {'thread_id': '5', 'langgraph_step': 4, 'langgraph_node': 'SuperBot', 'langgraph_triggers': ('branch:to:SuperBot',), 'langgraph_path': ('__pregel_pull', 'SuperBot'), 'langgraph_checkpoint_ns': 'SuperBot:a933c887-eb90-9854-95f3-be618c384ab6', 'checkpoint_ns': 'SuperBot:a933c887-eb90-9854-95f3-be618c384ab6', 'ls_provider': 'groq', 'ls_model_name': 'meta-llama/llama-4-scout-17b-16e-instruct', 'ls_model_type': 'chat', 'ls_temperature': 0.7}, 'parent_ids': ['b2f8132b-5c31-4cfc-87ab-3f717e1c31c7', 'ef95cdeb-0b0d-4405-b4d6-e5c0784ea944']}\n",
            "{'event': 'on_chat_model_stream', 'data': {'chunk': AIMessageChunk(content='!', additional_kwargs={}, response_metadata={}, id='run--08e40ddd-e285-479b-9ed1-654ef5af67fc')}, 'run_id': '08e40ddd-e285-479b-9ed1-654ef5af67fc', 'name': 'ChatGroq', 'tags': ['seq:step:1'], 'metadata': {'thread_id': '5', 'langgraph_step': 4, 'langgraph_node': 'SuperBot', 'langgraph_triggers': ('branch:to:SuperBot',), 'langgraph_path': ('__pregel_pull', 'SuperBot'), 'langgraph_checkpoint_ns': 'SuperBot:a933c887-eb90-9854-95f3-be618c384ab6', 'checkpoint_ns': 'SuperBot:a933c887-eb90-9854-95f3-be618c384ab6', 'ls_provider': 'groq', 'ls_model_name': 'meta-llama/llama-4-scout-17b-16e-instruct', 'ls_model_type': 'chat', 'ls_temperature': 0.7}, 'parent_ids': ['b2f8132b-5c31-4cfc-87ab-3f717e1c31c7', 'ef95cdeb-0b0d-4405-b4d6-e5c0784ea944']}\n",
            "{'event': 'on_chat_model_stream', 'data': {'chunk': AIMessageChunk(content=' The', additional_kwargs={}, response_metadata={}, id='run--08e40ddd-e285-479b-9ed1-654ef5af67fc')}, 'run_id': '08e40ddd-e285-479b-9ed1-654ef5af67fc', 'name': 'ChatGroq', 'tags': ['seq:step:1'], 'metadata': {'thread_id': '5', 'langgraph_step': 4, 'langgraph_node': 'SuperBot', 'langgraph_triggers': ('branch:to:SuperBot',), 'langgraph_path': ('__pregel_pull', 'SuperBot'), 'langgraph_checkpoint_ns': 'SuperBot:a933c887-eb90-9854-95f3-be618c384ab6', 'checkpoint_ns': 'SuperBot:a933c887-eb90-9854-95f3-be618c384ab6', 'ls_provider': 'groq', 'ls_model_name': 'meta-llama/llama-4-scout-17b-16e-instruct', 'ls_model_type': 'chat', 'ls_temperature': 0.7}, 'parent_ids': ['b2f8132b-5c31-4cfc-87ab-3f717e1c31c7', 'ef95cdeb-0b0d-4405-b4d6-e5c0784ea944']}\n",
            "{'event': 'on_chat_model_stream', 'data': {'chunk': AIMessageChunk(content=' Dark', additional_kwargs={}, response_metadata={}, id='run--08e40ddd-e285-479b-9ed1-654ef5af67fc')}, 'run_id': '08e40ddd-e285-479b-9ed1-654ef5af67fc', 'name': 'ChatGroq', 'tags': ['seq:step:1'], 'metadata': {'thread_id': '5', 'langgraph_step': 4, 'langgraph_node': 'SuperBot', 'langgraph_triggers': ('branch:to:SuperBot',), 'langgraph_path': ('__pregel_pull', 'SuperBot'), 'langgraph_checkpoint_ns': 'SuperBot:a933c887-eb90-9854-95f3-be618c384ab6', 'checkpoint_ns': 'SuperBot:a933c887-eb90-9854-95f3-be618c384ab6', 'ls_provider': 'groq', 'ls_model_name': 'meta-llama/llama-4-scout-17b-16e-instruct', 'ls_model_type': 'chat', 'ls_temperature': 0.7}, 'parent_ids': ['b2f8132b-5c31-4cfc-87ab-3f717e1c31c7', 'ef95cdeb-0b0d-4405-b4d6-e5c0784ea944']}\n",
            "{'event': 'on_chat_model_stream', 'data': {'chunk': AIMessageChunk(content=' Knight', additional_kwargs={}, response_metadata={}, id='run--08e40ddd-e285-479b-9ed1-654ef5af67fc')}, 'run_id': '08e40ddd-e285-479b-9ed1-654ef5af67fc', 'name': 'ChatGroq', 'tags': ['seq:step:1'], 'metadata': {'thread_id': '5', 'langgraph_step': 4, 'langgraph_node': 'SuperBot', 'langgraph_triggers': ('branch:to:SuperBot',), 'langgraph_path': ('__pregel_pull', 'SuperBot'), 'langgraph_checkpoint_ns': 'SuperBot:a933c887-eb90-9854-95f3-be618c384ab6', 'checkpoint_ns': 'SuperBot:a933c887-eb90-9854-95f3-be618c384ab6', 'ls_provider': 'groq', 'ls_model_name': 'meta-llama/llama-4-scout-17b-16e-instruct', 'ls_model_type': 'chat', 'ls_temperature': 0.7}, 'parent_ids': ['b2f8132b-5c31-4cfc-87ab-3f717e1c31c7', 'ef95cdeb-0b0d-4405-b4d6-e5c0784ea944']}\n",
            "{'event': 'on_chat_model_stream', 'data': {'chunk': AIMessageChunk(content=' is', additional_kwargs={}, response_metadata={}, id='run--08e40ddd-e285-479b-9ed1-654ef5af67fc')}, 'run_id': '08e40ddd-e285-479b-9ed1-654ef5af67fc', 'name': 'ChatGroq', 'tags': ['seq:step:1'], 'metadata': {'thread_id': '5', 'langgraph_step': 4, 'langgraph_node': 'SuperBot', 'langgraph_triggers': ('branch:to:SuperBot',), 'langgraph_path': ('__pregel_pull', 'SuperBot'), 'langgraph_checkpoint_ns': 'SuperBot:a933c887-eb90-9854-95f3-be618c384ab6', 'checkpoint_ns': 'SuperBot:a933c887-eb90-9854-95f3-be618c384ab6', 'ls_provider': 'groq', 'ls_model_name': 'meta-llama/llama-4-scout-17b-16e-instruct', 'ls_model_type': 'chat', 'ls_temperature': 0.7}, 'parent_ids': ['b2f8132b-5c31-4cfc-87ab-3f717e1c31c7', 'ef95cdeb-0b0d-4405-b4d6-e5c0784ea944']}\n",
            "{'event': 'on_chat_model_stream', 'data': {'chunk': AIMessageChunk(content=' an', additional_kwargs={}, response_metadata={}, id='run--08e40ddd-e285-479b-9ed1-654ef5af67fc')}, 'run_id': '08e40ddd-e285-479b-9ed1-654ef5af67fc', 'name': 'ChatGroq', 'tags': ['seq:step:1'], 'metadata': {'thread_id': '5', 'langgraph_step': 4, 'langgraph_node': 'SuperBot', 'langgraph_triggers': ('branch:to:SuperBot',), 'langgraph_path': ('__pregel_pull', 'SuperBot'), 'langgraph_checkpoint_ns': 'SuperBot:a933c887-eb90-9854-95f3-be618c384ab6', 'checkpoint_ns': 'SuperBot:a933c887-eb90-9854-95f3-be618c384ab6', 'ls_provider': 'groq', 'ls_model_name': 'meta-llama/llama-4-scout-17b-16e-instruct', 'ls_model_type': 'chat', 'ls_temperature': 0.7}, 'parent_ids': ['b2f8132b-5c31-4cfc-87ab-3f717e1c31c7', 'ef95cdeb-0b0d-4405-b4d6-e5c0784ea944']}\n",
            "{'event': 'on_chat_model_stream', 'data': {'chunk': AIMessageChunk(content=' iconic', additional_kwargs={}, response_metadata={}, id='run--08e40ddd-e285-479b-9ed1-654ef5af67fc')}, 'run_id': '08e40ddd-e285-479b-9ed1-654ef5af67fc', 'name': 'ChatGroq', 'tags': ['seq:step:1'], 'metadata': {'thread_id': '5', 'langgraph_step': 4, 'langgraph_node': 'SuperBot', 'langgraph_triggers': ('branch:to:SuperBot',), 'langgraph_path': ('__pregel_pull', 'SuperBot'), 'langgraph_checkpoint_ns': 'SuperBot:a933c887-eb90-9854-95f3-be618c384ab6', 'checkpoint_ns': 'SuperBot:a933c887-eb90-9854-95f3-be618c384ab6', 'ls_provider': 'groq', 'ls_model_name': 'meta-llama/llama-4-scout-17b-16e-instruct', 'ls_model_type': 'chat', 'ls_temperature': 0.7}, 'parent_ids': ['b2f8132b-5c31-4cfc-87ab-3f717e1c31c7', 'ef95cdeb-0b0d-4405-b4d6-e5c0784ea944']}\n",
            "{'event': 'on_chat_model_stream', 'data': {'chunk': AIMessageChunk(content=' superhero', additional_kwargs={}, response_metadata={}, id='run--08e40ddd-e285-479b-9ed1-654ef5af67fc')}, 'run_id': '08e40ddd-e285-479b-9ed1-654ef5af67fc', 'name': 'ChatGroq', 'tags': ['seq:step:1'], 'metadata': {'thread_id': '5', 'langgraph_step': 4, 'langgraph_node': 'SuperBot', 'langgraph_triggers': ('branch:to:SuperBot',), 'langgraph_path': ('__pregel_pull', 'SuperBot'), 'langgraph_checkpoint_ns': 'SuperBot:a933c887-eb90-9854-95f3-be618c384ab6', 'checkpoint_ns': 'SuperBot:a933c887-eb90-9854-95f3-be618c384ab6', 'ls_provider': 'groq', 'ls_model_name': 'meta-llama/llama-4-scout-17b-16e-instruct', 'ls_model_type': 'chat', 'ls_temperature': 0.7}, 'parent_ids': ['b2f8132b-5c31-4cfc-87ab-3f717e1c31c7', 'ef95cdeb-0b0d-4405-b4d6-e5c0784ea944']}\n",
            "{'event': 'on_chat_model_stream', 'data': {'chunk': AIMessageChunk(content=' with', additional_kwargs={}, response_metadata={}, id='run--08e40ddd-e285-479b-9ed1-654ef5af67fc')}, 'run_id': '08e40ddd-e285-479b-9ed1-654ef5af67fc', 'name': 'ChatGroq', 'tags': ['seq:step:1'], 'metadata': {'thread_id': '5', 'langgraph_step': 4, 'langgraph_node': 'SuperBot', 'langgraph_triggers': ('branch:to:SuperBot',), 'langgraph_path': ('__pregel_pull', 'SuperBot'), 'langgraph_checkpoint_ns': 'SuperBot:a933c887-eb90-9854-95f3-be618c384ab6', 'checkpoint_ns': 'SuperBot:a933c887-eb90-9854-95f3-be618c384ab6', 'ls_provider': 'groq', 'ls_model_name': 'meta-llama/llama-4-scout-17b-16e-instruct', 'ls_model_type': 'chat', 'ls_temperature': 0.7}, 'parent_ids': ['b2f8132b-5c31-4cfc-87ab-3f717e1c31c7', 'ef95cdeb-0b0d-4405-b4d6-e5c0784ea944']}\n",
            "{'event': 'on_chat_model_stream', 'data': {'chunk': AIMessageChunk(content=' a', additional_kwargs={}, response_metadata={}, id='run--08e40ddd-e285-479b-9ed1-654ef5af67fc')}, 'run_id': '08e40ddd-e285-479b-9ed1-654ef5af67fc', 'name': 'ChatGroq', 'tags': ['seq:step:1'], 'metadata': {'thread_id': '5', 'langgraph_step': 4, 'langgraph_node': 'SuperBot', 'langgraph_triggers': ('branch:to:SuperBot',), 'langgraph_path': ('__pregel_pull', 'SuperBot'), 'langgraph_checkpoint_ns': 'SuperBot:a933c887-eb90-9854-95f3-be618c384ab6', 'checkpoint_ns': 'SuperBot:a933c887-eb90-9854-95f3-be618c384ab6', 'ls_provider': 'groq', 'ls_model_name': 'meta-llama/llama-4-scout-17b-16e-instruct', 'ls_model_type': 'chat', 'ls_temperature': 0.7}, 'parent_ids': ['b2f8132b-5c31-4cfc-87ab-3f717e1c31c7', 'ef95cdeb-0b0d-4405-b4d6-e5c0784ea944']}\n",
            "{'event': 'on_chat_model_stream', 'data': {'chunk': AIMessageChunk(content=' rich', additional_kwargs={}, response_metadata={}, id='run--08e40ddd-e285-479b-9ed1-654ef5af67fc')}, 'run_id': '08e40ddd-e285-479b-9ed1-654ef5af67fc', 'name': 'ChatGroq', 'tags': ['seq:step:1'], 'metadata': {'thread_id': '5', 'langgraph_step': 4, 'langgraph_node': 'SuperBot', 'langgraph_triggers': ('branch:to:SuperBot',), 'langgraph_path': ('__pregel_pull', 'SuperBot'), 'langgraph_checkpoint_ns': 'SuperBot:a933c887-eb90-9854-95f3-be618c384ab6', 'checkpoint_ns': 'SuperBot:a933c887-eb90-9854-95f3-be618c384ab6', 'ls_provider': 'groq', 'ls_model_name': 'meta-llama/llama-4-scout-17b-16e-instruct', 'ls_model_type': 'chat', 'ls_temperature': 0.7}, 'parent_ids': ['b2f8132b-5c31-4cfc-87ab-3f717e1c31c7', 'ef95cdeb-0b0d-4405-b4d6-e5c0784ea944']}\n",
            "{'event': 'on_chat_model_stream', 'data': {'chunk': AIMessageChunk(content=' history', additional_kwargs={}, response_metadata={}, id='run--08e40ddd-e285-479b-9ed1-654ef5af67fc')}, 'run_id': '08e40ddd-e285-479b-9ed1-654ef5af67fc', 'name': 'ChatGroq', 'tags': ['seq:step:1'], 'metadata': {'thread_id': '5', 'langgraph_step': 4, 'langgraph_node': 'SuperBot', 'langgraph_triggers': ('branch:to:SuperBot',), 'langgraph_path': ('__pregel_pull', 'SuperBot'), 'langgraph_checkpoint_ns': 'SuperBot:a933c887-eb90-9854-95f3-be618c384ab6', 'checkpoint_ns': 'SuperBot:a933c887-eb90-9854-95f3-be618c384ab6', 'ls_provider': 'groq', 'ls_model_name': 'meta-llama/llama-4-scout-17b-16e-instruct', 'ls_model_type': 'chat', 'ls_temperature': 0.7}, 'parent_ids': ['b2f8132b-5c31-4cfc-87ab-3f717e1c31c7', 'ef95cdeb-0b0d-4405-b4d6-e5c0784ea944']}\n",
            "{'event': 'on_chat_model_stream', 'data': {'chunk': AIMessageChunk(content=' and', additional_kwargs={}, response_metadata={}, id='run--08e40ddd-e285-479b-9ed1-654ef5af67fc')}, 'run_id': '08e40ddd-e285-479b-9ed1-654ef5af67fc', 'name': 'ChatGroq', 'tags': ['seq:step:1'], 'metadata': {'thread_id': '5', 'langgraph_step': 4, 'langgraph_node': 'SuperBot', 'langgraph_triggers': ('branch:to:SuperBot',), 'langgraph_path': ('__pregel_pull', 'SuperBot'), 'langgraph_checkpoint_ns': 'SuperBot:a933c887-eb90-9854-95f3-be618c384ab6', 'checkpoint_ns': 'SuperBot:a933c887-eb90-9854-95f3-be618c384ab6', 'ls_provider': 'groq', 'ls_model_name': 'meta-llama/llama-4-scout-17b-16e-instruct', 'ls_model_type': 'chat', 'ls_temperature': 0.7}, 'parent_ids': ['b2f8132b-5c31-4cfc-87ab-3f717e1c31c7', 'ef95cdeb-0b0d-4405-b4d6-e5c0784ea944']}\n",
            "{'event': 'on_chat_model_stream', 'data': {'chunk': AIMessageChunk(content=' a', additional_kwargs={}, response_metadata={}, id='run--08e40ddd-e285-479b-9ed1-654ef5af67fc')}, 'run_id': '08e40ddd-e285-479b-9ed1-654ef5af67fc', 'name': 'ChatGroq', 'tags': ['seq:step:1'], 'metadata': {'thread_id': '5', 'langgraph_step': 4, 'langgraph_node': 'SuperBot', 'langgraph_triggers': ('branch:to:SuperBot',), 'langgraph_path': ('__pregel_pull', 'SuperBot'), 'langgraph_checkpoint_ns': 'SuperBot:a933c887-eb90-9854-95f3-be618c384ab6', 'checkpoint_ns': 'SuperBot:a933c887-eb90-9854-95f3-be618c384ab6', 'ls_provider': 'groq', 'ls_model_name': 'meta-llama/llama-4-scout-17b-16e-instruct', 'ls_model_type': 'chat', 'ls_temperature': 0.7}, 'parent_ids': ['b2f8132b-5c31-4cfc-87ab-3f717e1c31c7', 'ef95cdeb-0b0d-4405-b4d6-e5c0784ea944']}\n",
            "{'event': 'on_chat_model_stream', 'data': {'chunk': AIMessageChunk(content=' fascinating', additional_kwargs={}, response_metadata={}, id='run--08e40ddd-e285-479b-9ed1-654ef5af67fc')}, 'run_id': '08e40ddd-e285-479b-9ed1-654ef5af67fc', 'name': 'ChatGroq', 'tags': ['seq:step:1'], 'metadata': {'thread_id': '5', 'langgraph_step': 4, 'langgraph_node': 'SuperBot', 'langgraph_triggers': ('branch:to:SuperBot',), 'langgraph_path': ('__pregel_pull', 'SuperBot'), 'langgraph_checkpoint_ns': 'SuperBot:a933c887-eb90-9854-95f3-be618c384ab6', 'checkpoint_ns': 'SuperBot:a933c887-eb90-9854-95f3-be618c384ab6', 'ls_provider': 'groq', 'ls_model_name': 'meta-llama/llama-4-scout-17b-16e-instruct', 'ls_model_type': 'chat', 'ls_temperature': 0.7}, 'parent_ids': ['b2f8132b-5c31-4cfc-87ab-3f717e1c31c7', 'ef95cdeb-0b0d-4405-b4d6-e5c0784ea944']}\n",
            "{'event': 'on_chat_model_stream', 'data': {'chunk': AIMessageChunk(content=' character', additional_kwargs={}, response_metadata={}, id='run--08e40ddd-e285-479b-9ed1-654ef5af67fc')}, 'run_id': '08e40ddd-e285-479b-9ed1-654ef5af67fc', 'name': 'ChatGroq', 'tags': ['seq:step:1'], 'metadata': {'thread_id': '5', 'langgraph_step': 4, 'langgraph_node': 'SuperBot', 'langgraph_triggers': ('branch:to:SuperBot',), 'langgraph_path': ('__pregel_pull', 'SuperBot'), 'langgraph_checkpoint_ns': 'SuperBot:a933c887-eb90-9854-95f3-be618c384ab6', 'checkpoint_ns': 'SuperBot:a933c887-eb90-9854-95f3-be618c384ab6', 'ls_provider': 'groq', 'ls_model_name': 'meta-llama/llama-4-scout-17b-16e-instruct', 'ls_model_type': 'chat', 'ls_temperature': 0.7}, 'parent_ids': ['b2f8132b-5c31-4cfc-87ab-3f717e1c31c7', 'ef95cdeb-0b0d-4405-b4d6-e5c0784ea944']}\n",
            "{'event': 'on_chat_model_stream', 'data': {'chunk': AIMessageChunk(content='.', additional_kwargs={}, response_metadata={}, id='run--08e40ddd-e285-479b-9ed1-654ef5af67fc')}, 'run_id': '08e40ddd-e285-479b-9ed1-654ef5af67fc', 'name': 'ChatGroq', 'tags': ['seq:step:1'], 'metadata': {'thread_id': '5', 'langgraph_step': 4, 'langgraph_node': 'SuperBot', 'langgraph_triggers': ('branch:to:SuperBot',), 'langgraph_path': ('__pregel_pull', 'SuperBot'), 'langgraph_checkpoint_ns': 'SuperBot:a933c887-eb90-9854-95f3-be618c384ab6', 'checkpoint_ns': 'SuperBot:a933c887-eb90-9854-95f3-be618c384ab6', 'ls_provider': 'groq', 'ls_model_name': 'meta-llama/llama-4-scout-17b-16e-instruct', 'ls_model_type': 'chat', 'ls_temperature': 0.7}, 'parent_ids': ['b2f8132b-5c31-4cfc-87ab-3f717e1c31c7', 'ef95cdeb-0b0d-4405-b4d6-e5c0784ea944']}\n",
            "{'event': 'on_chat_model_stream', 'data': {'chunk': AIMessageChunk(content=' What', additional_kwargs={}, response_metadata={}, id='run--08e40ddd-e285-479b-9ed1-654ef5af67fc')}, 'run_id': '08e40ddd-e285-479b-9ed1-654ef5af67fc', 'name': 'ChatGroq', 'tags': ['seq:step:1'], 'metadata': {'thread_id': '5', 'langgraph_step': 4, 'langgraph_node': 'SuperBot', 'langgraph_triggers': ('branch:to:SuperBot',), 'langgraph_path': ('__pregel_pull', 'SuperBot'), 'langgraph_checkpoint_ns': 'SuperBot:a933c887-eb90-9854-95f3-be618c384ab6', 'checkpoint_ns': 'SuperBot:a933c887-eb90-9854-95f3-be618c384ab6', 'ls_provider': 'groq', 'ls_model_name': 'meta-llama/llama-4-scout-17b-16e-instruct', 'ls_model_type': 'chat', 'ls_temperature': 0.7}, 'parent_ids': ['b2f8132b-5c31-4cfc-87ab-3f717e1c31c7', 'ef95cdeb-0b0d-4405-b4d6-e5c0784ea944']}\n",
            "{'event': 'on_chat_model_stream', 'data': {'chunk': AIMessageChunk(content=' do', additional_kwargs={}, response_metadata={}, id='run--08e40ddd-e285-479b-9ed1-654ef5af67fc')}, 'run_id': '08e40ddd-e285-479b-9ed1-654ef5af67fc', 'name': 'ChatGroq', 'tags': ['seq:step:1'], 'metadata': {'thread_id': '5', 'langgraph_step': 4, 'langgraph_node': 'SuperBot', 'langgraph_triggers': ('branch:to:SuperBot',), 'langgraph_path': ('__pregel_pull', 'SuperBot'), 'langgraph_checkpoint_ns': 'SuperBot:a933c887-eb90-9854-95f3-be618c384ab6', 'checkpoint_ns': 'SuperBot:a933c887-eb90-9854-95f3-be618c384ab6', 'ls_provider': 'groq', 'ls_model_name': 'meta-llama/llama-4-scout-17b-16e-instruct', 'ls_model_type': 'chat', 'ls_temperature': 0.7}, 'parent_ids': ['b2f8132b-5c31-4cfc-87ab-3f717e1c31c7', 'ef95cdeb-0b0d-4405-b4d6-e5c0784ea944']}\n",
            "{'event': 'on_chat_model_stream', 'data': {'chunk': AIMessageChunk(content=' you', additional_kwargs={}, response_metadata={}, id='run--08e40ddd-e285-479b-9ed1-654ef5af67fc')}, 'run_id': '08e40ddd-e285-479b-9ed1-654ef5af67fc', 'name': 'ChatGroq', 'tags': ['seq:step:1'], 'metadata': {'thread_id': '5', 'langgraph_step': 4, 'langgraph_node': 'SuperBot', 'langgraph_triggers': ('branch:to:SuperBot',), 'langgraph_path': ('__pregel_pull', 'SuperBot'), 'langgraph_checkpoint_ns': 'SuperBot:a933c887-eb90-9854-95f3-be618c384ab6', 'checkpoint_ns': 'SuperBot:a933c887-eb90-9854-95f3-be618c384ab6', 'ls_provider': 'groq', 'ls_model_name': 'meta-llama/llama-4-scout-17b-16e-instruct', 'ls_model_type': 'chat', 'ls_temperature': 0.7}, 'parent_ids': ['b2f8132b-5c31-4cfc-87ab-3f717e1c31c7', 'ef95cdeb-0b0d-4405-b4d6-e5c0784ea944']}\n",
            "{'event': 'on_chat_model_stream', 'data': {'chunk': AIMessageChunk(content=' like', additional_kwargs={}, response_metadata={}, id='run--08e40ddd-e285-479b-9ed1-654ef5af67fc')}, 'run_id': '08e40ddd-e285-479b-9ed1-654ef5af67fc', 'name': 'ChatGroq', 'tags': ['seq:step:1'], 'metadata': {'thread_id': '5', 'langgraph_step': 4, 'langgraph_node': 'SuperBot', 'langgraph_triggers': ('branch:to:SuperBot',), 'langgraph_path': ('__pregel_pull', 'SuperBot'), 'langgraph_checkpoint_ns': 'SuperBot:a933c887-eb90-9854-95f3-be618c384ab6', 'checkpoint_ns': 'SuperBot:a933c887-eb90-9854-95f3-be618c384ab6', 'ls_provider': 'groq', 'ls_model_name': 'meta-llama/llama-4-scout-17b-16e-instruct', 'ls_model_type': 'chat', 'ls_temperature': 0.7}, 'parent_ids': ['b2f8132b-5c31-4cfc-87ab-3f717e1c31c7', 'ef95cdeb-0b0d-4405-b4d6-e5c0784ea944']}\n",
            "{'event': 'on_chat_model_stream', 'data': {'chunk': AIMessageChunk(content=' most', additional_kwargs={}, response_metadata={}, id='run--08e40ddd-e285-479b-9ed1-654ef5af67fc')}, 'run_id': '08e40ddd-e285-479b-9ed1-654ef5af67fc', 'name': 'ChatGroq', 'tags': ['seq:step:1'], 'metadata': {'thread_id': '5', 'langgraph_step': 4, 'langgraph_node': 'SuperBot', 'langgraph_triggers': ('branch:to:SuperBot',), 'langgraph_path': ('__pregel_pull', 'SuperBot'), 'langgraph_checkpoint_ns': 'SuperBot:a933c887-eb90-9854-95f3-be618c384ab6', 'checkpoint_ns': 'SuperBot:a933c887-eb90-9854-95f3-be618c384ab6', 'ls_provider': 'groq', 'ls_model_name': 'meta-llama/llama-4-scout-17b-16e-instruct', 'ls_model_type': 'chat', 'ls_temperature': 0.7}, 'parent_ids': ['b2f8132b-5c31-4cfc-87ab-3f717e1c31c7', 'ef95cdeb-0b0d-4405-b4d6-e5c0784ea944']}\n",
            "{'event': 'on_chat_model_stream', 'data': {'chunk': AIMessageChunk(content=' about', additional_kwargs={}, response_metadata={}, id='run--08e40ddd-e285-479b-9ed1-654ef5af67fc')}, 'run_id': '08e40ddd-e285-479b-9ed1-654ef5af67fc', 'name': 'ChatGroq', 'tags': ['seq:step:1'], 'metadata': {'thread_id': '5', 'langgraph_step': 4, 'langgraph_node': 'SuperBot', 'langgraph_triggers': ('branch:to:SuperBot',), 'langgraph_path': ('__pregel_pull', 'SuperBot'), 'langgraph_checkpoint_ns': 'SuperBot:a933c887-eb90-9854-95f3-be618c384ab6', 'checkpoint_ns': 'SuperBot:a933c887-eb90-9854-95f3-be618c384ab6', 'ls_provider': 'groq', 'ls_model_name': 'meta-llama/llama-4-scout-17b-16e-instruct', 'ls_model_type': 'chat', 'ls_temperature': 0.7}, 'parent_ids': ['b2f8132b-5c31-4cfc-87ab-3f717e1c31c7', 'ef95cdeb-0b0d-4405-b4d6-e5c0784ea944']}\n",
            "{'event': 'on_chat_model_stream', 'data': {'chunk': AIMessageChunk(content=' Batman', additional_kwargs={}, response_metadata={}, id='run--08e40ddd-e285-479b-9ed1-654ef5af67fc')}, 'run_id': '08e40ddd-e285-479b-9ed1-654ef5af67fc', 'name': 'ChatGroq', 'tags': ['seq:step:1'], 'metadata': {'thread_id': '5', 'langgraph_step': 4, 'langgraph_node': 'SuperBot', 'langgraph_triggers': ('branch:to:SuperBot',), 'langgraph_path': ('__pregel_pull', 'SuperBot'), 'langgraph_checkpoint_ns': 'SuperBot:a933c887-eb90-9854-95f3-be618c384ab6', 'checkpoint_ns': 'SuperBot:a933c887-eb90-9854-95f3-be618c384ab6', 'ls_provider': 'groq', 'ls_model_name': 'meta-llama/llama-4-scout-17b-16e-instruct', 'ls_model_type': 'chat', 'ls_temperature': 0.7}, 'parent_ids': ['b2f8132b-5c31-4cfc-87ab-3f717e1c31c7', 'ef95cdeb-0b0d-4405-b4d6-e5c0784ea944']}\n",
            "{'event': 'on_chat_model_stream', 'data': {'chunk': AIMessageChunk(content='?', additional_kwargs={}, response_metadata={}, id='run--08e40ddd-e285-479b-9ed1-654ef5af67fc')}, 'run_id': '08e40ddd-e285-479b-9ed1-654ef5af67fc', 'name': 'ChatGroq', 'tags': ['seq:step:1'], 'metadata': {'thread_id': '5', 'langgraph_step': 4, 'langgraph_node': 'SuperBot', 'langgraph_triggers': ('branch:to:SuperBot',), 'langgraph_path': ('__pregel_pull', 'SuperBot'), 'langgraph_checkpoint_ns': 'SuperBot:a933c887-eb90-9854-95f3-be618c384ab6', 'checkpoint_ns': 'SuperBot:a933c887-eb90-9854-95f3-be618c384ab6', 'ls_provider': 'groq', 'ls_model_name': 'meta-llama/llama-4-scout-17b-16e-instruct', 'ls_model_type': 'chat', 'ls_temperature': 0.7}, 'parent_ids': ['b2f8132b-5c31-4cfc-87ab-3f717e1c31c7', 'ef95cdeb-0b0d-4405-b4d6-e5c0784ea944']}\n",
            "{'event': 'on_chat_model_stream', 'data': {'chunk': AIMessageChunk(content=' Is', additional_kwargs={}, response_metadata={}, id='run--08e40ddd-e285-479b-9ed1-654ef5af67fc')}, 'run_id': '08e40ddd-e285-479b-9ed1-654ef5af67fc', 'name': 'ChatGroq', 'tags': ['seq:step:1'], 'metadata': {'thread_id': '5', 'langgraph_step': 4, 'langgraph_node': 'SuperBot', 'langgraph_triggers': ('branch:to:SuperBot',), 'langgraph_path': ('__pregel_pull', 'SuperBot'), 'langgraph_checkpoint_ns': 'SuperBot:a933c887-eb90-9854-95f3-be618c384ab6', 'checkpoint_ns': 'SuperBot:a933c887-eb90-9854-95f3-be618c384ab6', 'ls_provider': 'groq', 'ls_model_name': 'meta-llama/llama-4-scout-17b-16e-instruct', 'ls_model_type': 'chat', 'ls_temperature': 0.7}, 'parent_ids': ['b2f8132b-5c31-4cfc-87ab-3f717e1c31c7', 'ef95cdeb-0b0d-4405-b4d6-e5c0784ea944']}\n",
            "{'event': 'on_chat_model_stream', 'data': {'chunk': AIMessageChunk(content=' it', additional_kwargs={}, response_metadata={}, id='run--08e40ddd-e285-479b-9ed1-654ef5af67fc')}, 'run_id': '08e40ddd-e285-479b-9ed1-654ef5af67fc', 'name': 'ChatGroq', 'tags': ['seq:step:1'], 'metadata': {'thread_id': '5', 'langgraph_step': 4, 'langgraph_node': 'SuperBot', 'langgraph_triggers': ('branch:to:SuperBot',), 'langgraph_path': ('__pregel_pull', 'SuperBot'), 'langgraph_checkpoint_ns': 'SuperBot:a933c887-eb90-9854-95f3-be618c384ab6', 'checkpoint_ns': 'SuperBot:a933c887-eb90-9854-95f3-be618c384ab6', 'ls_provider': 'groq', 'ls_model_name': 'meta-llama/llama-4-scout-17b-16e-instruct', 'ls_model_type': 'chat', 'ls_temperature': 0.7}, 'parent_ids': ['b2f8132b-5c31-4cfc-87ab-3f717e1c31c7', 'ef95cdeb-0b0d-4405-b4d6-e5c0784ea944']}\n",
            "{'event': 'on_chat_model_stream', 'data': {'chunk': AIMessageChunk(content=' his', additional_kwargs={}, response_metadata={}, id='run--08e40ddd-e285-479b-9ed1-654ef5af67fc')}, 'run_id': '08e40ddd-e285-479b-9ed1-654ef5af67fc', 'name': 'ChatGroq', 'tags': ['seq:step:1'], 'metadata': {'thread_id': '5', 'langgraph_step': 4, 'langgraph_node': 'SuperBot', 'langgraph_triggers': ('branch:to:SuperBot',), 'langgraph_path': ('__pregel_pull', 'SuperBot'), 'langgraph_checkpoint_ns': 'SuperBot:a933c887-eb90-9854-95f3-be618c384ab6', 'checkpoint_ns': 'SuperBot:a933c887-eb90-9854-95f3-be618c384ab6', 'ls_provider': 'groq', 'ls_model_name': 'meta-llama/llama-4-scout-17b-16e-instruct', 'ls_model_type': 'chat', 'ls_temperature': 0.7}, 'parent_ids': ['b2f8132b-5c31-4cfc-87ab-3f717e1c31c7', 'ef95cdeb-0b0d-4405-b4d6-e5c0784ea944']}\n",
            "{'event': 'on_chat_model_stream', 'data': {'chunk': AIMessageChunk(content=' detective', additional_kwargs={}, response_metadata={}, id='run--08e40ddd-e285-479b-9ed1-654ef5af67fc')}, 'run_id': '08e40ddd-e285-479b-9ed1-654ef5af67fc', 'name': 'ChatGroq', 'tags': ['seq:step:1'], 'metadata': {'thread_id': '5', 'langgraph_step': 4, 'langgraph_node': 'SuperBot', 'langgraph_triggers': ('branch:to:SuperBot',), 'langgraph_path': ('__pregel_pull', 'SuperBot'), 'langgraph_checkpoint_ns': 'SuperBot:a933c887-eb90-9854-95f3-be618c384ab6', 'checkpoint_ns': 'SuperBot:a933c887-eb90-9854-95f3-be618c384ab6', 'ls_provider': 'groq', 'ls_model_name': 'meta-llama/llama-4-scout-17b-16e-instruct', 'ls_model_type': 'chat', 'ls_temperature': 0.7}, 'parent_ids': ['b2f8132b-5c31-4cfc-87ab-3f717e1c31c7', 'ef95cdeb-0b0d-4405-b4d6-e5c0784ea944']}\n",
            "{'event': 'on_chat_model_stream', 'data': {'chunk': AIMessageChunk(content=' skills', additional_kwargs={}, response_metadata={}, id='run--08e40ddd-e285-479b-9ed1-654ef5af67fc')}, 'run_id': '08e40ddd-e285-479b-9ed1-654ef5af67fc', 'name': 'ChatGroq', 'tags': ['seq:step:1'], 'metadata': {'thread_id': '5', 'langgraph_step': 4, 'langgraph_node': 'SuperBot', 'langgraph_triggers': ('branch:to:SuperBot',), 'langgraph_path': ('__pregel_pull', 'SuperBot'), 'langgraph_checkpoint_ns': 'SuperBot:a933c887-eb90-9854-95f3-be618c384ab6', 'checkpoint_ns': 'SuperBot:a933c887-eb90-9854-95f3-be618c384ab6', 'ls_provider': 'groq', 'ls_model_name': 'meta-llama/llama-4-scout-17b-16e-instruct', 'ls_model_type': 'chat', 'ls_temperature': 0.7}, 'parent_ids': ['b2f8132b-5c31-4cfc-87ab-3f717e1c31c7', 'ef95cdeb-0b0d-4405-b4d6-e5c0784ea944']}\n",
            "{'event': 'on_chat_model_stream', 'data': {'chunk': AIMessageChunk(content=',', additional_kwargs={}, response_metadata={}, id='run--08e40ddd-e285-479b-9ed1-654ef5af67fc')}, 'run_id': '08e40ddd-e285-479b-9ed1-654ef5af67fc', 'name': 'ChatGroq', 'tags': ['seq:step:1'], 'metadata': {'thread_id': '5', 'langgraph_step': 4, 'langgraph_node': 'SuperBot', 'langgraph_triggers': ('branch:to:SuperBot',), 'langgraph_path': ('__pregel_pull', 'SuperBot'), 'langgraph_checkpoint_ns': 'SuperBot:a933c887-eb90-9854-95f3-be618c384ab6', 'checkpoint_ns': 'SuperBot:a933c887-eb90-9854-95f3-be618c384ab6', 'ls_provider': 'groq', 'ls_model_name': 'meta-llama/llama-4-scout-17b-16e-instruct', 'ls_model_type': 'chat', 'ls_temperature': 0.7}, 'parent_ids': ['b2f8132b-5c31-4cfc-87ab-3f717e1c31c7', 'ef95cdeb-0b0d-4405-b4d6-e5c0784ea944']}\n",
            "{'event': 'on_chat_model_stream', 'data': {'chunk': AIMessageChunk(content=' his', additional_kwargs={}, response_metadata={}, id='run--08e40ddd-e285-479b-9ed1-654ef5af67fc')}, 'run_id': '08e40ddd-e285-479b-9ed1-654ef5af67fc', 'name': 'ChatGroq', 'tags': ['seq:step:1'], 'metadata': {'thread_id': '5', 'langgraph_step': 4, 'langgraph_node': 'SuperBot', 'langgraph_triggers': ('branch:to:SuperBot',), 'langgraph_path': ('__pregel_pull', 'SuperBot'), 'langgraph_checkpoint_ns': 'SuperBot:a933c887-eb90-9854-95f3-be618c384ab6', 'checkpoint_ns': 'SuperBot:a933c887-eb90-9854-95f3-be618c384ab6', 'ls_provider': 'groq', 'ls_model_name': 'meta-llama/llama-4-scout-17b-16e-instruct', 'ls_model_type': 'chat', 'ls_temperature': 0.7}, 'parent_ids': ['b2f8132b-5c31-4cfc-87ab-3f717e1c31c7', 'ef95cdeb-0b0d-4405-b4d6-e5c0784ea944']}\n",
            "{'event': 'on_chat_model_stream', 'data': {'chunk': AIMessageChunk(content=' martial', additional_kwargs={}, response_metadata={}, id='run--08e40ddd-e285-479b-9ed1-654ef5af67fc')}, 'run_id': '08e40ddd-e285-479b-9ed1-654ef5af67fc', 'name': 'ChatGroq', 'tags': ['seq:step:1'], 'metadata': {'thread_id': '5', 'langgraph_step': 4, 'langgraph_node': 'SuperBot', 'langgraph_triggers': ('branch:to:SuperBot',), 'langgraph_path': ('__pregel_pull', 'SuperBot'), 'langgraph_checkpoint_ns': 'SuperBot:a933c887-eb90-9854-95f3-be618c384ab6', 'checkpoint_ns': 'SuperBot:a933c887-eb90-9854-95f3-be618c384ab6', 'ls_provider': 'groq', 'ls_model_name': 'meta-llama/llama-4-scout-17b-16e-instruct', 'ls_model_type': 'chat', 'ls_temperature': 0.7}, 'parent_ids': ['b2f8132b-5c31-4cfc-87ab-3f717e1c31c7', 'ef95cdeb-0b0d-4405-b4d6-e5c0784ea944']}\n",
            "{'event': 'on_chat_model_stream', 'data': {'chunk': AIMessageChunk(content=' arts', additional_kwargs={}, response_metadata={}, id='run--08e40ddd-e285-479b-9ed1-654ef5af67fc')}, 'run_id': '08e40ddd-e285-479b-9ed1-654ef5af67fc', 'name': 'ChatGroq', 'tags': ['seq:step:1'], 'metadata': {'thread_id': '5', 'langgraph_step': 4, 'langgraph_node': 'SuperBot', 'langgraph_triggers': ('branch:to:SuperBot',), 'langgraph_path': ('__pregel_pull', 'SuperBot'), 'langgraph_checkpoint_ns': 'SuperBot:a933c887-eb90-9854-95f3-be618c384ab6', 'checkpoint_ns': 'SuperBot:a933c887-eb90-9854-95f3-be618c384ab6', 'ls_provider': 'groq', 'ls_model_name': 'meta-llama/llama-4-scout-17b-16e-instruct', 'ls_model_type': 'chat', 'ls_temperature': 0.7}, 'parent_ids': ['b2f8132b-5c31-4cfc-87ab-3f717e1c31c7', 'ef95cdeb-0b0d-4405-b4d6-e5c0784ea944']}\n",
            "{'event': 'on_chat_model_stream', 'data': {'chunk': AIMessageChunk(content=' expertise', additional_kwargs={}, response_metadata={}, id='run--08e40ddd-e285-479b-9ed1-654ef5af67fc')}, 'run_id': '08e40ddd-e285-479b-9ed1-654ef5af67fc', 'name': 'ChatGroq', 'tags': ['seq:step:1'], 'metadata': {'thread_id': '5', 'langgraph_step': 4, 'langgraph_node': 'SuperBot', 'langgraph_triggers': ('branch:to:SuperBot',), 'langgraph_path': ('__pregel_pull', 'SuperBot'), 'langgraph_checkpoint_ns': 'SuperBot:a933c887-eb90-9854-95f3-be618c384ab6', 'checkpoint_ns': 'SuperBot:a933c887-eb90-9854-95f3-be618c384ab6', 'ls_provider': 'groq', 'ls_model_name': 'meta-llama/llama-4-scout-17b-16e-instruct', 'ls_model_type': 'chat', 'ls_temperature': 0.7}, 'parent_ids': ['b2f8132b-5c31-4cfc-87ab-3f717e1c31c7', 'ef95cdeb-0b0d-4405-b4d6-e5c0784ea944']}\n",
            "{'event': 'on_chat_model_stream', 'data': {'chunk': AIMessageChunk(content=',', additional_kwargs={}, response_metadata={}, id='run--08e40ddd-e285-479b-9ed1-654ef5af67fc')}, 'run_id': '08e40ddd-e285-479b-9ed1-654ef5af67fc', 'name': 'ChatGroq', 'tags': ['seq:step:1'], 'metadata': {'thread_id': '5', 'langgraph_step': 4, 'langgraph_node': 'SuperBot', 'langgraph_triggers': ('branch:to:SuperBot',), 'langgraph_path': ('__pregel_pull', 'SuperBot'), 'langgraph_checkpoint_ns': 'SuperBot:a933c887-eb90-9854-95f3-be618c384ab6', 'checkpoint_ns': 'SuperBot:a933c887-eb90-9854-95f3-be618c384ab6', 'ls_provider': 'groq', 'ls_model_name': 'meta-llama/llama-4-scout-17b-16e-instruct', 'ls_model_type': 'chat', 'ls_temperature': 0.7}, 'parent_ids': ['b2f8132b-5c31-4cfc-87ab-3f717e1c31c7', 'ef95cdeb-0b0d-4405-b4d6-e5c0784ea944']}\n",
            "{'event': 'on_chat_model_stream', 'data': {'chunk': AIMessageChunk(content=' or', additional_kwargs={}, response_metadata={}, id='run--08e40ddd-e285-479b-9ed1-654ef5af67fc')}, 'run_id': '08e40ddd-e285-479b-9ed1-654ef5af67fc', 'name': 'ChatGroq', 'tags': ['seq:step:1'], 'metadata': {'thread_id': '5', 'langgraph_step': 4, 'langgraph_node': 'SuperBot', 'langgraph_triggers': ('branch:to:SuperBot',), 'langgraph_path': ('__pregel_pull', 'SuperBot'), 'langgraph_checkpoint_ns': 'SuperBot:a933c887-eb90-9854-95f3-be618c384ab6', 'checkpoint_ns': 'SuperBot:a933c887-eb90-9854-95f3-be618c384ab6', 'ls_provider': 'groq', 'ls_model_name': 'meta-llama/llama-4-scout-17b-16e-instruct', 'ls_model_type': 'chat', 'ls_temperature': 0.7}, 'parent_ids': ['b2f8132b-5c31-4cfc-87ab-3f717e1c31c7', 'ef95cdeb-0b0d-4405-b4d6-e5c0784ea944']}\n",
            "{'event': 'on_chat_model_stream', 'data': {'chunk': AIMessageChunk(content=' his', additional_kwargs={}, response_metadata={}, id='run--08e40ddd-e285-479b-9ed1-654ef5af67fc')}, 'run_id': '08e40ddd-e285-479b-9ed1-654ef5af67fc', 'name': 'ChatGroq', 'tags': ['seq:step:1'], 'metadata': {'thread_id': '5', 'langgraph_step': 4, 'langgraph_node': 'SuperBot', 'langgraph_triggers': ('branch:to:SuperBot',), 'langgraph_path': ('__pregel_pull', 'SuperBot'), 'langgraph_checkpoint_ns': 'SuperBot:a933c887-eb90-9854-95f3-be618c384ab6', 'checkpoint_ns': 'SuperBot:a933c887-eb90-9854-95f3-be618c384ab6', 'ls_provider': 'groq', 'ls_model_name': 'meta-llama/llama-4-scout-17b-16e-instruct', 'ls_model_type': 'chat', 'ls_temperature': 0.7}, 'parent_ids': ['b2f8132b-5c31-4cfc-87ab-3f717e1c31c7', 'ef95cdeb-0b0d-4405-b4d6-e5c0784ea944']}\n",
            "{'event': 'on_chat_model_stream', 'data': {'chunk': AIMessageChunk(content=' commitment', additional_kwargs={}, response_metadata={}, id='run--08e40ddd-e285-479b-9ed1-654ef5af67fc')}, 'run_id': '08e40ddd-e285-479b-9ed1-654ef5af67fc', 'name': 'ChatGroq', 'tags': ['seq:step:1'], 'metadata': {'thread_id': '5', 'langgraph_step': 4, 'langgraph_node': 'SuperBot', 'langgraph_triggers': ('branch:to:SuperBot',), 'langgraph_path': ('__pregel_pull', 'SuperBot'), 'langgraph_checkpoint_ns': 'SuperBot:a933c887-eb90-9854-95f3-be618c384ab6', 'checkpoint_ns': 'SuperBot:a933c887-eb90-9854-95f3-be618c384ab6', 'ls_provider': 'groq', 'ls_model_name': 'meta-llama/llama-4-scout-17b-16e-instruct', 'ls_model_type': 'chat', 'ls_temperature': 0.7}, 'parent_ids': ['b2f8132b-5c31-4cfc-87ab-3f717e1c31c7', 'ef95cdeb-0b0d-4405-b4d6-e5c0784ea944']}\n",
            "{'event': 'on_chat_model_stream', 'data': {'chunk': AIMessageChunk(content=' to', additional_kwargs={}, response_metadata={}, id='run--08e40ddd-e285-479b-9ed1-654ef5af67fc')}, 'run_id': '08e40ddd-e285-479b-9ed1-654ef5af67fc', 'name': 'ChatGroq', 'tags': ['seq:step:1'], 'metadata': {'thread_id': '5', 'langgraph_step': 4, 'langgraph_node': 'SuperBot', 'langgraph_triggers': ('branch:to:SuperBot',), 'langgraph_path': ('__pregel_pull', 'SuperBot'), 'langgraph_checkpoint_ns': 'SuperBot:a933c887-eb90-9854-95f3-be618c384ab6', 'checkpoint_ns': 'SuperBot:a933c887-eb90-9854-95f3-be618c384ab6', 'ls_provider': 'groq', 'ls_model_name': 'meta-llama/llama-4-scout-17b-16e-instruct', 'ls_model_type': 'chat', 'ls_temperature': 0.7}, 'parent_ids': ['b2f8132b-5c31-4cfc-87ab-3f717e1c31c7', 'ef95cdeb-0b0d-4405-b4d6-e5c0784ea944']}\n",
            "{'event': 'on_chat_model_stream', 'data': {'chunk': AIMessageChunk(content=' justice', additional_kwargs={}, response_metadata={}, id='run--08e40ddd-e285-479b-9ed1-654ef5af67fc')}, 'run_id': '08e40ddd-e285-479b-9ed1-654ef5af67fc', 'name': 'ChatGroq', 'tags': ['seq:step:1'], 'metadata': {'thread_id': '5', 'langgraph_step': 4, 'langgraph_node': 'SuperBot', 'langgraph_triggers': ('branch:to:SuperBot',), 'langgraph_path': ('__pregel_pull', 'SuperBot'), 'langgraph_checkpoint_ns': 'SuperBot:a933c887-eb90-9854-95f3-be618c384ab6', 'checkpoint_ns': 'SuperBot:a933c887-eb90-9854-95f3-be618c384ab6', 'ls_provider': 'groq', 'ls_model_name': 'meta-llama/llama-4-scout-17b-16e-instruct', 'ls_model_type': 'chat', 'ls_temperature': 0.7}, 'parent_ids': ['b2f8132b-5c31-4cfc-87ab-3f717e1c31c7', 'ef95cdeb-0b0d-4405-b4d6-e5c0784ea944']}\n",
            "{'event': 'on_chat_model_stream', 'data': {'chunk': AIMessageChunk(content='?\\n\\n', additional_kwargs={}, response_metadata={}, id='run--08e40ddd-e285-479b-9ed1-654ef5af67fc')}, 'run_id': '08e40ddd-e285-479b-9ed1-654ef5af67fc', 'name': 'ChatGroq', 'tags': ['seq:step:1'], 'metadata': {'thread_id': '5', 'langgraph_step': 4, 'langgraph_node': 'SuperBot', 'langgraph_triggers': ('branch:to:SuperBot',), 'langgraph_path': ('__pregel_pull', 'SuperBot'), 'langgraph_checkpoint_ns': 'SuperBot:a933c887-eb90-9854-95f3-be618c384ab6', 'checkpoint_ns': 'SuperBot:a933c887-eb90-9854-95f3-be618c384ab6', 'ls_provider': 'groq', 'ls_model_name': 'meta-llama/llama-4-scout-17b-16e-instruct', 'ls_model_type': 'chat', 'ls_temperature': 0.7}, 'parent_ids': ['b2f8132b-5c31-4cfc-87ab-3f717e1c31c7', 'ef95cdeb-0b0d-4405-b4d6-e5c0784ea944']}\n",
            "{'event': 'on_chat_model_stream', 'data': {'chunk': AIMessageChunk(content='Are', additional_kwargs={}, response_metadata={}, id='run--08e40ddd-e285-479b-9ed1-654ef5af67fc')}, 'run_id': '08e40ddd-e285-479b-9ed1-654ef5af67fc', 'name': 'ChatGroq', 'tags': ['seq:step:1'], 'metadata': {'thread_id': '5', 'langgraph_step': 4, 'langgraph_node': 'SuperBot', 'langgraph_triggers': ('branch:to:SuperBot',), 'langgraph_path': ('__pregel_pull', 'SuperBot'), 'langgraph_checkpoint_ns': 'SuperBot:a933c887-eb90-9854-95f3-be618c384ab6', 'checkpoint_ns': 'SuperBot:a933c887-eb90-9854-95f3-be618c384ab6', 'ls_provider': 'groq', 'ls_model_name': 'meta-llama/llama-4-scout-17b-16e-instruct', 'ls_model_type': 'chat', 'ls_temperature': 0.7}, 'parent_ids': ['b2f8132b-5c31-4cfc-87ab-3f717e1c31c7', 'ef95cdeb-0b0d-4405-b4d6-e5c0784ea944']}\n",
            "{'event': 'on_chat_model_stream', 'data': {'chunk': AIMessageChunk(content=' you', additional_kwargs={}, response_metadata={}, id='run--08e40ddd-e285-479b-9ed1-654ef5af67fc')}, 'run_id': '08e40ddd-e285-479b-9ed1-654ef5af67fc', 'name': 'ChatGroq', 'tags': ['seq:step:1'], 'metadata': {'thread_id': '5', 'langgraph_step': 4, 'langgraph_node': 'SuperBot', 'langgraph_triggers': ('branch:to:SuperBot',), 'langgraph_path': ('__pregel_pull', 'SuperBot'), 'langgraph_checkpoint_ns': 'SuperBot:a933c887-eb90-9854-95f3-be618c384ab6', 'checkpoint_ns': 'SuperBot:a933c887-eb90-9854-95f3-be618c384ab6', 'ls_provider': 'groq', 'ls_model_name': 'meta-llama/llama-4-scout-17b-16e-instruct', 'ls_model_type': 'chat', 'ls_temperature': 0.7}, 'parent_ids': ['b2f8132b-5c31-4cfc-87ab-3f717e1c31c7', 'ef95cdeb-0b0d-4405-b4d6-e5c0784ea944']}\n",
            "{'event': 'on_chat_model_stream', 'data': {'chunk': AIMessageChunk(content=' a', additional_kwargs={}, response_metadata={}, id='run--08e40ddd-e285-479b-9ed1-654ef5af67fc')}, 'run_id': '08e40ddd-e285-479b-9ed1-654ef5af67fc', 'name': 'ChatGroq', 'tags': ['seq:step:1'], 'metadata': {'thread_id': '5', 'langgraph_step': 4, 'langgraph_node': 'SuperBot', 'langgraph_triggers': ('branch:to:SuperBot',), 'langgraph_path': ('__pregel_pull', 'SuperBot'), 'langgraph_checkpoint_ns': 'SuperBot:a933c887-eb90-9854-95f3-be618c384ab6', 'checkpoint_ns': 'SuperBot:a933c887-eb90-9854-95f3-be618c384ab6', 'ls_provider': 'groq', 'ls_model_name': 'meta-llama/llama-4-scout-17b-16e-instruct', 'ls_model_type': 'chat', 'ls_temperature': 0.7}, 'parent_ids': ['b2f8132b-5c31-4cfc-87ab-3f717e1c31c7', 'ef95cdeb-0b0d-4405-b4d6-e5c0784ea944']}\n",
            "{'event': 'on_chat_model_stream', 'data': {'chunk': AIMessageChunk(content=' fan', additional_kwargs={}, response_metadata={}, id='run--08e40ddd-e285-479b-9ed1-654ef5af67fc')}, 'run_id': '08e40ddd-e285-479b-9ed1-654ef5af67fc', 'name': 'ChatGroq', 'tags': ['seq:step:1'], 'metadata': {'thread_id': '5', 'langgraph_step': 4, 'langgraph_node': 'SuperBot', 'langgraph_triggers': ('branch:to:SuperBot',), 'langgraph_path': ('__pregel_pull', 'SuperBot'), 'langgraph_checkpoint_ns': 'SuperBot:a933c887-eb90-9854-95f3-be618c384ab6', 'checkpoint_ns': 'SuperBot:a933c887-eb90-9854-95f3-be618c384ab6', 'ls_provider': 'groq', 'ls_model_name': 'meta-llama/llama-4-scout-17b-16e-instruct', 'ls_model_type': 'chat', 'ls_temperature': 0.7}, 'parent_ids': ['b2f8132b-5c31-4cfc-87ab-3f717e1c31c7', 'ef95cdeb-0b0d-4405-b4d6-e5c0784ea944']}\n",
            "{'event': 'on_chat_model_stream', 'data': {'chunk': AIMessageChunk(content=' of', additional_kwargs={}, response_metadata={}, id='run--08e40ddd-e285-479b-9ed1-654ef5af67fc')}, 'run_id': '08e40ddd-e285-479b-9ed1-654ef5af67fc', 'name': 'ChatGroq', 'tags': ['seq:step:1'], 'metadata': {'thread_id': '5', 'langgraph_step': 4, 'langgraph_node': 'SuperBot', 'langgraph_triggers': ('branch:to:SuperBot',), 'langgraph_path': ('__pregel_pull', 'SuperBot'), 'langgraph_checkpoint_ns': 'SuperBot:a933c887-eb90-9854-95f3-be618c384ab6', 'checkpoint_ns': 'SuperBot:a933c887-eb90-9854-95f3-be618c384ab6', 'ls_provider': 'groq', 'ls_model_name': 'meta-llama/llama-4-scout-17b-16e-instruct', 'ls_model_type': 'chat', 'ls_temperature': 0.7}, 'parent_ids': ['b2f8132b-5c31-4cfc-87ab-3f717e1c31c7', 'ef95cdeb-0b0d-4405-b4d6-e5c0784ea944']}\n",
            "{'event': 'on_chat_model_stream', 'data': {'chunk': AIMessageChunk(content=' a', additional_kwargs={}, response_metadata={}, id='run--08e40ddd-e285-479b-9ed1-654ef5af67fc')}, 'run_id': '08e40ddd-e285-479b-9ed1-654ef5af67fc', 'name': 'ChatGroq', 'tags': ['seq:step:1'], 'metadata': {'thread_id': '5', 'langgraph_step': 4, 'langgraph_node': 'SuperBot', 'langgraph_triggers': ('branch:to:SuperBot',), 'langgraph_path': ('__pregel_pull', 'SuperBot'), 'langgraph_checkpoint_ns': 'SuperBot:a933c887-eb90-9854-95f3-be618c384ab6', 'checkpoint_ns': 'SuperBot:a933c887-eb90-9854-95f3-be618c384ab6', 'ls_provider': 'groq', 'ls_model_name': 'meta-llama/llama-4-scout-17b-16e-instruct', 'ls_model_type': 'chat', 'ls_temperature': 0.7}, 'parent_ids': ['b2f8132b-5c31-4cfc-87ab-3f717e1c31c7', 'ef95cdeb-0b0d-4405-b4d6-e5c0784ea944']}\n",
            "{'event': 'on_chat_model_stream', 'data': {'chunk': AIMessageChunk(content=' particular', additional_kwargs={}, response_metadata={}, id='run--08e40ddd-e285-479b-9ed1-654ef5af67fc')}, 'run_id': '08e40ddd-e285-479b-9ed1-654ef5af67fc', 'name': 'ChatGroq', 'tags': ['seq:step:1'], 'metadata': {'thread_id': '5', 'langgraph_step': 4, 'langgraph_node': 'SuperBot', 'langgraph_triggers': ('branch:to:SuperBot',), 'langgraph_path': ('__pregel_pull', 'SuperBot'), 'langgraph_checkpoint_ns': 'SuperBot:a933c887-eb90-9854-95f3-be618c384ab6', 'checkpoint_ns': 'SuperBot:a933c887-eb90-9854-95f3-be618c384ab6', 'ls_provider': 'groq', 'ls_model_name': 'meta-llama/llama-4-scout-17b-16e-instruct', 'ls_model_type': 'chat', 'ls_temperature': 0.7}, 'parent_ids': ['b2f8132b-5c31-4cfc-87ab-3f717e1c31c7', 'ef95cdeb-0b0d-4405-b4d6-e5c0784ea944']}\n",
            "{'event': 'on_chat_model_stream', 'data': {'chunk': AIMessageChunk(content=' Batman', additional_kwargs={}, response_metadata={}, id='run--08e40ddd-e285-479b-9ed1-654ef5af67fc')}, 'run_id': '08e40ddd-e285-479b-9ed1-654ef5af67fc', 'name': 'ChatGroq', 'tags': ['seq:step:1'], 'metadata': {'thread_id': '5', 'langgraph_step': 4, 'langgraph_node': 'SuperBot', 'langgraph_triggers': ('branch:to:SuperBot',), 'langgraph_path': ('__pregel_pull', 'SuperBot'), 'langgraph_checkpoint_ns': 'SuperBot:a933c887-eb90-9854-95f3-be618c384ab6', 'checkpoint_ns': 'SuperBot:a933c887-eb90-9854-95f3-be618c384ab6', 'ls_provider': 'groq', 'ls_model_name': 'meta-llama/llama-4-scout-17b-16e-instruct', 'ls_model_type': 'chat', 'ls_temperature': 0.7}, 'parent_ids': ['b2f8132b-5c31-4cfc-87ab-3f717e1c31c7', 'ef95cdeb-0b0d-4405-b4d6-e5c0784ea944']}\n",
            "{'event': 'on_chat_model_stream', 'data': {'chunk': AIMessageChunk(content=' movie', additional_kwargs={}, response_metadata={}, id='run--08e40ddd-e285-479b-9ed1-654ef5af67fc')}, 'run_id': '08e40ddd-e285-479b-9ed1-654ef5af67fc', 'name': 'ChatGroq', 'tags': ['seq:step:1'], 'metadata': {'thread_id': '5', 'langgraph_step': 4, 'langgraph_node': 'SuperBot', 'langgraph_triggers': ('branch:to:SuperBot',), 'langgraph_path': ('__pregel_pull', 'SuperBot'), 'langgraph_checkpoint_ns': 'SuperBot:a933c887-eb90-9854-95f3-be618c384ab6', 'checkpoint_ns': 'SuperBot:a933c887-eb90-9854-95f3-be618c384ab6', 'ls_provider': 'groq', 'ls_model_name': 'meta-llama/llama-4-scout-17b-16e-instruct', 'ls_model_type': 'chat', 'ls_temperature': 0.7}, 'parent_ids': ['b2f8132b-5c31-4cfc-87ab-3f717e1c31c7', 'ef95cdeb-0b0d-4405-b4d6-e5c0784ea944']}\n",
            "{'event': 'on_chat_model_stream', 'data': {'chunk': AIMessageChunk(content=',', additional_kwargs={}, response_metadata={}, id='run--08e40ddd-e285-479b-9ed1-654ef5af67fc')}, 'run_id': '08e40ddd-e285-479b-9ed1-654ef5af67fc', 'name': 'ChatGroq', 'tags': ['seq:step:1'], 'metadata': {'thread_id': '5', 'langgraph_step': 4, 'langgraph_node': 'SuperBot', 'langgraph_triggers': ('branch:to:SuperBot',), 'langgraph_path': ('__pregel_pull', 'SuperBot'), 'langgraph_checkpoint_ns': 'SuperBot:a933c887-eb90-9854-95f3-be618c384ab6', 'checkpoint_ns': 'SuperBot:a933c887-eb90-9854-95f3-be618c384ab6', 'ls_provider': 'groq', 'ls_model_name': 'meta-llama/llama-4-scout-17b-16e-instruct', 'ls_model_type': 'chat', 'ls_temperature': 0.7}, 'parent_ids': ['b2f8132b-5c31-4cfc-87ab-3f717e1c31c7', 'ef95cdeb-0b0d-4405-b4d6-e5c0784ea944']}\n",
            "{'event': 'on_chat_model_stream', 'data': {'chunk': AIMessageChunk(content=' TV', additional_kwargs={}, response_metadata={}, id='run--08e40ddd-e285-479b-9ed1-654ef5af67fc')}, 'run_id': '08e40ddd-e285-479b-9ed1-654ef5af67fc', 'name': 'ChatGroq', 'tags': ['seq:step:1'], 'metadata': {'thread_id': '5', 'langgraph_step': 4, 'langgraph_node': 'SuperBot', 'langgraph_triggers': ('branch:to:SuperBot',), 'langgraph_path': ('__pregel_pull', 'SuperBot'), 'langgraph_checkpoint_ns': 'SuperBot:a933c887-eb90-9854-95f3-be618c384ab6', 'checkpoint_ns': 'SuperBot:a933c887-eb90-9854-95f3-be618c384ab6', 'ls_provider': 'groq', 'ls_model_name': 'meta-llama/llama-4-scout-17b-16e-instruct', 'ls_model_type': 'chat', 'ls_temperature': 0.7}, 'parent_ids': ['b2f8132b-5c31-4cfc-87ab-3f717e1c31c7', 'ef95cdeb-0b0d-4405-b4d6-e5c0784ea944']}\n",
            "{'event': 'on_chat_model_stream', 'data': {'chunk': AIMessageChunk(content=' show', additional_kwargs={}, response_metadata={}, id='run--08e40ddd-e285-479b-9ed1-654ef5af67fc')}, 'run_id': '08e40ddd-e285-479b-9ed1-654ef5af67fc', 'name': 'ChatGroq', 'tags': ['seq:step:1'], 'metadata': {'thread_id': '5', 'langgraph_step': 4, 'langgraph_node': 'SuperBot', 'langgraph_triggers': ('branch:to:SuperBot',), 'langgraph_path': ('__pregel_pull', 'SuperBot'), 'langgraph_checkpoint_ns': 'SuperBot:a933c887-eb90-9854-95f3-be618c384ab6', 'checkpoint_ns': 'SuperBot:a933c887-eb90-9854-95f3-be618c384ab6', 'ls_provider': 'groq', 'ls_model_name': 'meta-llama/llama-4-scout-17b-16e-instruct', 'ls_model_type': 'chat', 'ls_temperature': 0.7}, 'parent_ids': ['b2f8132b-5c31-4cfc-87ab-3f717e1c31c7', 'ef95cdeb-0b0d-4405-b4d6-e5c0784ea944']}\n",
            "{'event': 'on_chat_model_stream', 'data': {'chunk': AIMessageChunk(content=',', additional_kwargs={}, response_metadata={}, id='run--08e40ddd-e285-479b-9ed1-654ef5af67fc')}, 'run_id': '08e40ddd-e285-479b-9ed1-654ef5af67fc', 'name': 'ChatGroq', 'tags': ['seq:step:1'], 'metadata': {'thread_id': '5', 'langgraph_step': 4, 'langgraph_node': 'SuperBot', 'langgraph_triggers': ('branch:to:SuperBot',), 'langgraph_path': ('__pregel_pull', 'SuperBot'), 'langgraph_checkpoint_ns': 'SuperBot:a933c887-eb90-9854-95f3-be618c384ab6', 'checkpoint_ns': 'SuperBot:a933c887-eb90-9854-95f3-be618c384ab6', 'ls_provider': 'groq', 'ls_model_name': 'meta-llama/llama-4-scout-17b-16e-instruct', 'ls_model_type': 'chat', 'ls_temperature': 0.7}, 'parent_ids': ['b2f8132b-5c31-4cfc-87ab-3f717e1c31c7', 'ef95cdeb-0b0d-4405-b4d6-e5c0784ea944']}\n",
            "{'event': 'on_chat_model_stream', 'data': {'chunk': AIMessageChunk(content=' or', additional_kwargs={}, response_metadata={}, id='run--08e40ddd-e285-479b-9ed1-654ef5af67fc')}, 'run_id': '08e40ddd-e285-479b-9ed1-654ef5af67fc', 'name': 'ChatGroq', 'tags': ['seq:step:1'], 'metadata': {'thread_id': '5', 'langgraph_step': 4, 'langgraph_node': 'SuperBot', 'langgraph_triggers': ('branch:to:SuperBot',), 'langgraph_path': ('__pregel_pull', 'SuperBot'), 'langgraph_checkpoint_ns': 'SuperBot:a933c887-eb90-9854-95f3-be618c384ab6', 'checkpoint_ns': 'SuperBot:a933c887-eb90-9854-95f3-be618c384ab6', 'ls_provider': 'groq', 'ls_model_name': 'meta-llama/llama-4-scout-17b-16e-instruct', 'ls_model_type': 'chat', 'ls_temperature': 0.7}, 'parent_ids': ['b2f8132b-5c31-4cfc-87ab-3f717e1c31c7', 'ef95cdeb-0b0d-4405-b4d6-e5c0784ea944']}\n",
            "{'event': 'on_chat_model_stream', 'data': {'chunk': AIMessageChunk(content=' comic', additional_kwargs={}, response_metadata={}, id='run--08e40ddd-e285-479b-9ed1-654ef5af67fc')}, 'run_id': '08e40ddd-e285-479b-9ed1-654ef5af67fc', 'name': 'ChatGroq', 'tags': ['seq:step:1'], 'metadata': {'thread_id': '5', 'langgraph_step': 4, 'langgraph_node': 'SuperBot', 'langgraph_triggers': ('branch:to:SuperBot',), 'langgraph_path': ('__pregel_pull', 'SuperBot'), 'langgraph_checkpoint_ns': 'SuperBot:a933c887-eb90-9854-95f3-be618c384ab6', 'checkpoint_ns': 'SuperBot:a933c887-eb90-9854-95f3-be618c384ab6', 'ls_provider': 'groq', 'ls_model_name': 'meta-llama/llama-4-scout-17b-16e-instruct', 'ls_model_type': 'chat', 'ls_temperature': 0.7}, 'parent_ids': ['b2f8132b-5c31-4cfc-87ab-3f717e1c31c7', 'ef95cdeb-0b0d-4405-b4d6-e5c0784ea944']}\n",
            "{'event': 'on_chat_model_stream', 'data': {'chunk': AIMessageChunk(content=' book', additional_kwargs={}, response_metadata={}, id='run--08e40ddd-e285-479b-9ed1-654ef5af67fc')}, 'run_id': '08e40ddd-e285-479b-9ed1-654ef5af67fc', 'name': 'ChatGroq', 'tags': ['seq:step:1'], 'metadata': {'thread_id': '5', 'langgraph_step': 4, 'langgraph_node': 'SuperBot', 'langgraph_triggers': ('branch:to:SuperBot',), 'langgraph_path': ('__pregel_pull', 'SuperBot'), 'langgraph_checkpoint_ns': 'SuperBot:a933c887-eb90-9854-95f3-be618c384ab6', 'checkpoint_ns': 'SuperBot:a933c887-eb90-9854-95f3-be618c384ab6', 'ls_provider': 'groq', 'ls_model_name': 'meta-llama/llama-4-scout-17b-16e-instruct', 'ls_model_type': 'chat', 'ls_temperature': 0.7}, 'parent_ids': ['b2f8132b-5c31-4cfc-87ab-3f717e1c31c7', 'ef95cdeb-0b0d-4405-b4d6-e5c0784ea944']}\n",
            "{'event': 'on_chat_model_stream', 'data': {'chunk': AIMessageChunk(content=' series', additional_kwargs={}, response_metadata={}, id='run--08e40ddd-e285-479b-9ed1-654ef5af67fc')}, 'run_id': '08e40ddd-e285-479b-9ed1-654ef5af67fc', 'name': 'ChatGroq', 'tags': ['seq:step:1'], 'metadata': {'thread_id': '5', 'langgraph_step': 4, 'langgraph_node': 'SuperBot', 'langgraph_triggers': ('branch:to:SuperBot',), 'langgraph_path': ('__pregel_pull', 'SuperBot'), 'langgraph_checkpoint_ns': 'SuperBot:a933c887-eb90-9854-95f3-be618c384ab6', 'checkpoint_ns': 'SuperBot:a933c887-eb90-9854-95f3-be618c384ab6', 'ls_provider': 'groq', 'ls_model_name': 'meta-llama/llama-4-scout-17b-16e-instruct', 'ls_model_type': 'chat', 'ls_temperature': 0.7}, 'parent_ids': ['b2f8132b-5c31-4cfc-87ab-3f717e1c31c7', 'ef95cdeb-0b0d-4405-b4d6-e5c0784ea944']}\n",
            "{'event': 'on_chat_model_stream', 'data': {'chunk': AIMessageChunk(content='?', additional_kwargs={}, response_metadata={}, id='run--08e40ddd-e285-479b-9ed1-654ef5af67fc')}, 'run_id': '08e40ddd-e285-479b-9ed1-654ef5af67fc', 'name': 'ChatGroq', 'tags': ['seq:step:1'], 'metadata': {'thread_id': '5', 'langgraph_step': 4, 'langgraph_node': 'SuperBot', 'langgraph_triggers': ('branch:to:SuperBot',), 'langgraph_path': ('__pregel_pull', 'SuperBot'), 'langgraph_checkpoint_ns': 'SuperBot:a933c887-eb90-9854-95f3-be618c384ab6', 'checkpoint_ns': 'SuperBot:a933c887-eb90-9854-95f3-be618c384ab6', 'ls_provider': 'groq', 'ls_model_name': 'meta-llama/llama-4-scout-17b-16e-instruct', 'ls_model_type': 'chat', 'ls_temperature': 0.7}, 'parent_ids': ['b2f8132b-5c31-4cfc-87ab-3f717e1c31c7', 'ef95cdeb-0b0d-4405-b4d6-e5c0784ea944']}\n",
            "{'event': 'on_chat_model_stream', 'data': {'chunk': AIMessageChunk(content=' There', additional_kwargs={}, response_metadata={}, id='run--08e40ddd-e285-479b-9ed1-654ef5af67fc')}, 'run_id': '08e40ddd-e285-479b-9ed1-654ef5af67fc', 'name': 'ChatGroq', 'tags': ['seq:step:1'], 'metadata': {'thread_id': '5', 'langgraph_step': 4, 'langgraph_node': 'SuperBot', 'langgraph_triggers': ('branch:to:SuperBot',), 'langgraph_path': ('__pregel_pull', 'SuperBot'), 'langgraph_checkpoint_ns': 'SuperBot:a933c887-eb90-9854-95f3-be618c384ab6', 'checkpoint_ns': 'SuperBot:a933c887-eb90-9854-95f3-be618c384ab6', 'ls_provider': 'groq', 'ls_model_name': 'meta-llama/llama-4-scout-17b-16e-instruct', 'ls_model_type': 'chat', 'ls_temperature': 0.7}, 'parent_ids': ['b2f8132b-5c31-4cfc-87ab-3f717e1c31c7', 'ef95cdeb-0b0d-4405-b4d6-e5c0784ea944']}\n",
            "{'event': 'on_chat_model_stream', 'data': {'chunk': AIMessageChunk(content=' have', additional_kwargs={}, response_metadata={}, id='run--08e40ddd-e285-479b-9ed1-654ef5af67fc')}, 'run_id': '08e40ddd-e285-479b-9ed1-654ef5af67fc', 'name': 'ChatGroq', 'tags': ['seq:step:1'], 'metadata': {'thread_id': '5', 'langgraph_step': 4, 'langgraph_node': 'SuperBot', 'langgraph_triggers': ('branch:to:SuperBot',), 'langgraph_path': ('__pregel_pull', 'SuperBot'), 'langgraph_checkpoint_ns': 'SuperBot:a933c887-eb90-9854-95f3-be618c384ab6', 'checkpoint_ns': 'SuperBot:a933c887-eb90-9854-95f3-be618c384ab6', 'ls_provider': 'groq', 'ls_model_name': 'meta-llama/llama-4-scout-17b-16e-instruct', 'ls_model_type': 'chat', 'ls_temperature': 0.7}, 'parent_ids': ['b2f8132b-5c31-4cfc-87ab-3f717e1c31c7', 'ef95cdeb-0b0d-4405-b4d6-e5c0784ea944']}\n",
            "{'event': 'on_chat_model_stream', 'data': {'chunk': AIMessageChunk(content=' been', additional_kwargs={}, response_metadata={}, id='run--08e40ddd-e285-479b-9ed1-654ef5af67fc')}, 'run_id': '08e40ddd-e285-479b-9ed1-654ef5af67fc', 'name': 'ChatGroq', 'tags': ['seq:step:1'], 'metadata': {'thread_id': '5', 'langgraph_step': 4, 'langgraph_node': 'SuperBot', 'langgraph_triggers': ('branch:to:SuperBot',), 'langgraph_path': ('__pregel_pull', 'SuperBot'), 'langgraph_checkpoint_ns': 'SuperBot:a933c887-eb90-9854-95f3-be618c384ab6', 'checkpoint_ns': 'SuperBot:a933c887-eb90-9854-95f3-be618c384ab6', 'ls_provider': 'groq', 'ls_model_name': 'meta-llama/llama-4-scout-17b-16e-instruct', 'ls_model_type': 'chat', 'ls_temperature': 0.7}, 'parent_ids': ['b2f8132b-5c31-4cfc-87ab-3f717e1c31c7', 'ef95cdeb-0b0d-4405-b4d6-e5c0784ea944']}\n",
            "{'event': 'on_chat_model_stream', 'data': {'chunk': AIMessageChunk(content=' so', additional_kwargs={}, response_metadata={}, id='run--08e40ddd-e285-479b-9ed1-654ef5af67fc')}, 'run_id': '08e40ddd-e285-479b-9ed1-654ef5af67fc', 'name': 'ChatGroq', 'tags': ['seq:step:1'], 'metadata': {'thread_id': '5', 'langgraph_step': 4, 'langgraph_node': 'SuperBot', 'langgraph_triggers': ('branch:to:SuperBot',), 'langgraph_path': ('__pregel_pull', 'SuperBot'), 'langgraph_checkpoint_ns': 'SuperBot:a933c887-eb90-9854-95f3-be618c384ab6', 'checkpoint_ns': 'SuperBot:a933c887-eb90-9854-95f3-be618c384ab6', 'ls_provider': 'groq', 'ls_model_name': 'meta-llama/llama-4-scout-17b-16e-instruct', 'ls_model_type': 'chat', 'ls_temperature': 0.7}, 'parent_ids': ['b2f8132b-5c31-4cfc-87ab-3f717e1c31c7', 'ef95cdeb-0b0d-4405-b4d6-e5c0784ea944']}\n",
            "{'event': 'on_chat_model_stream', 'data': {'chunk': AIMessageChunk(content=' many', additional_kwargs={}, response_metadata={}, id='run--08e40ddd-e285-479b-9ed1-654ef5af67fc')}, 'run_id': '08e40ddd-e285-479b-9ed1-654ef5af67fc', 'name': 'ChatGroq', 'tags': ['seq:step:1'], 'metadata': {'thread_id': '5', 'langgraph_step': 4, 'langgraph_node': 'SuperBot', 'langgraph_triggers': ('branch:to:SuperBot',), 'langgraph_path': ('__pregel_pull', 'SuperBot'), 'langgraph_checkpoint_ns': 'SuperBot:a933c887-eb90-9854-95f3-be618c384ab6', 'checkpoint_ns': 'SuperBot:a933c887-eb90-9854-95f3-be618c384ab6', 'ls_provider': 'groq', 'ls_model_name': 'meta-llama/llama-4-scout-17b-16e-instruct', 'ls_model_type': 'chat', 'ls_temperature': 0.7}, 'parent_ids': ['b2f8132b-5c31-4cfc-87ab-3f717e1c31c7', 'ef95cdeb-0b0d-4405-b4d6-e5c0784ea944']}\n",
            "{'event': 'on_chat_model_stream', 'data': {'chunk': AIMessageChunk(content=' great', additional_kwargs={}, response_metadata={}, id='run--08e40ddd-e285-479b-9ed1-654ef5af67fc')}, 'run_id': '08e40ddd-e285-479b-9ed1-654ef5af67fc', 'name': 'ChatGroq', 'tags': ['seq:step:1'], 'metadata': {'thread_id': '5', 'langgraph_step': 4, 'langgraph_node': 'SuperBot', 'langgraph_triggers': ('branch:to:SuperBot',), 'langgraph_path': ('__pregel_pull', 'SuperBot'), 'langgraph_checkpoint_ns': 'SuperBot:a933c887-eb90-9854-95f3-be618c384ab6', 'checkpoint_ns': 'SuperBot:a933c887-eb90-9854-95f3-be618c384ab6', 'ls_provider': 'groq', 'ls_model_name': 'meta-llama/llama-4-scout-17b-16e-instruct', 'ls_model_type': 'chat', 'ls_temperature': 0.7}, 'parent_ids': ['b2f8132b-5c31-4cfc-87ab-3f717e1c31c7', 'ef95cdeb-0b0d-4405-b4d6-e5c0784ea944']}\n",
            "{'event': 'on_chat_model_stream', 'data': {'chunk': AIMessageChunk(content=' iterations', additional_kwargs={}, response_metadata={}, id='run--08e40ddd-e285-479b-9ed1-654ef5af67fc')}, 'run_id': '08e40ddd-e285-479b-9ed1-654ef5af67fc', 'name': 'ChatGroq', 'tags': ['seq:step:1'], 'metadata': {'thread_id': '5', 'langgraph_step': 4, 'langgraph_node': 'SuperBot', 'langgraph_triggers': ('branch:to:SuperBot',), 'langgraph_path': ('__pregel_pull', 'SuperBot'), 'langgraph_checkpoint_ns': 'SuperBot:a933c887-eb90-9854-95f3-be618c384ab6', 'checkpoint_ns': 'SuperBot:a933c887-eb90-9854-95f3-be618c384ab6', 'ls_provider': 'groq', 'ls_model_name': 'meta-llama/llama-4-scout-17b-16e-instruct', 'ls_model_type': 'chat', 'ls_temperature': 0.7}, 'parent_ids': ['b2f8132b-5c31-4cfc-87ab-3f717e1c31c7', 'ef95cdeb-0b0d-4405-b4d6-e5c0784ea944']}\n",
            "{'event': 'on_chat_model_stream', 'data': {'chunk': AIMessageChunk(content=' of', additional_kwargs={}, response_metadata={}, id='run--08e40ddd-e285-479b-9ed1-654ef5af67fc')}, 'run_id': '08e40ddd-e285-479b-9ed1-654ef5af67fc', 'name': 'ChatGroq', 'tags': ['seq:step:1'], 'metadata': {'thread_id': '5', 'langgraph_step': 4, 'langgraph_node': 'SuperBot', 'langgraph_triggers': ('branch:to:SuperBot',), 'langgraph_path': ('__pregel_pull', 'SuperBot'), 'langgraph_checkpoint_ns': 'SuperBot:a933c887-eb90-9854-95f3-be618c384ab6', 'checkpoint_ns': 'SuperBot:a933c887-eb90-9854-95f3-be618c384ab6', 'ls_provider': 'groq', 'ls_model_name': 'meta-llama/llama-4-scout-17b-16e-instruct', 'ls_model_type': 'chat', 'ls_temperature': 0.7}, 'parent_ids': ['b2f8132b-5c31-4cfc-87ab-3f717e1c31c7', 'ef95cdeb-0b0d-4405-b4d6-e5c0784ea944']}\n",
            "{'event': 'on_chat_model_stream', 'data': {'chunk': AIMessageChunk(content=' Batman', additional_kwargs={}, response_metadata={}, id='run--08e40ddd-e285-479b-9ed1-654ef5af67fc')}, 'run_id': '08e40ddd-e285-479b-9ed1-654ef5af67fc', 'name': 'ChatGroq', 'tags': ['seq:step:1'], 'metadata': {'thread_id': '5', 'langgraph_step': 4, 'langgraph_node': 'SuperBot', 'langgraph_triggers': ('branch:to:SuperBot',), 'langgraph_path': ('__pregel_pull', 'SuperBot'), 'langgraph_checkpoint_ns': 'SuperBot:a933c887-eb90-9854-95f3-be618c384ab6', 'checkpoint_ns': 'SuperBot:a933c887-eb90-9854-95f3-be618c384ab6', 'ls_provider': 'groq', 'ls_model_name': 'meta-llama/llama-4-scout-17b-16e-instruct', 'ls_model_type': 'chat', 'ls_temperature': 0.7}, 'parent_ids': ['b2f8132b-5c31-4cfc-87ab-3f717e1c31c7', 'ef95cdeb-0b0d-4405-b4d6-e5c0784ea944']}\n",
            "{'event': 'on_chat_model_stream', 'data': {'chunk': AIMessageChunk(content=' over', additional_kwargs={}, response_metadata={}, id='run--08e40ddd-e285-479b-9ed1-654ef5af67fc')}, 'run_id': '08e40ddd-e285-479b-9ed1-654ef5af67fc', 'name': 'ChatGroq', 'tags': ['seq:step:1'], 'metadata': {'thread_id': '5', 'langgraph_step': 4, 'langgraph_node': 'SuperBot', 'langgraph_triggers': ('branch:to:SuperBot',), 'langgraph_path': ('__pregel_pull', 'SuperBot'), 'langgraph_checkpoint_ns': 'SuperBot:a933c887-eb90-9854-95f3-be618c384ab6', 'checkpoint_ns': 'SuperBot:a933c887-eb90-9854-95f3-be618c384ab6', 'ls_provider': 'groq', 'ls_model_name': 'meta-llama/llama-4-scout-17b-16e-instruct', 'ls_model_type': 'chat', 'ls_temperature': 0.7}, 'parent_ids': ['b2f8132b-5c31-4cfc-87ab-3f717e1c31c7', 'ef95cdeb-0b0d-4405-b4d6-e5c0784ea944']}\n",
            "{'event': 'on_chat_model_stream', 'data': {'chunk': AIMessageChunk(content=' the', additional_kwargs={}, response_metadata={}, id='run--08e40ddd-e285-479b-9ed1-654ef5af67fc')}, 'run_id': '08e40ddd-e285-479b-9ed1-654ef5af67fc', 'name': 'ChatGroq', 'tags': ['seq:step:1'], 'metadata': {'thread_id': '5', 'langgraph_step': 4, 'langgraph_node': 'SuperBot', 'langgraph_triggers': ('branch:to:SuperBot',), 'langgraph_path': ('__pregel_pull', 'SuperBot'), 'langgraph_checkpoint_ns': 'SuperBot:a933c887-eb90-9854-95f3-be618c384ab6', 'checkpoint_ns': 'SuperBot:a933c887-eb90-9854-95f3-be618c384ab6', 'ls_provider': 'groq', 'ls_model_name': 'meta-llama/llama-4-scout-17b-16e-instruct', 'ls_model_type': 'chat', 'ls_temperature': 0.7}, 'parent_ids': ['b2f8132b-5c31-4cfc-87ab-3f717e1c31c7', 'ef95cdeb-0b0d-4405-b4d6-e5c0784ea944']}\n",
            "{'event': 'on_chat_model_stream', 'data': {'chunk': AIMessageChunk(content=' years', additional_kwargs={}, response_metadata={}, id='run--08e40ddd-e285-479b-9ed1-654ef5af67fc')}, 'run_id': '08e40ddd-e285-479b-9ed1-654ef5af67fc', 'name': 'ChatGroq', 'tags': ['seq:step:1'], 'metadata': {'thread_id': '5', 'langgraph_step': 4, 'langgraph_node': 'SuperBot', 'langgraph_triggers': ('branch:to:SuperBot',), 'langgraph_path': ('__pregel_pull', 'SuperBot'), 'langgraph_checkpoint_ns': 'SuperBot:a933c887-eb90-9854-95f3-be618c384ab6', 'checkpoint_ns': 'SuperBot:a933c887-eb90-9854-95f3-be618c384ab6', 'ls_provider': 'groq', 'ls_model_name': 'meta-llama/llama-4-scout-17b-16e-instruct', 'ls_model_type': 'chat', 'ls_temperature': 0.7}, 'parent_ids': ['b2f8132b-5c31-4cfc-87ab-3f717e1c31c7', 'ef95cdeb-0b0d-4405-b4d6-e5c0784ea944']}\n",
            "{'event': 'on_chat_model_stream', 'data': {'chunk': AIMessageChunk(content=',', additional_kwargs={}, response_metadata={}, id='run--08e40ddd-e285-479b-9ed1-654ef5af67fc')}, 'run_id': '08e40ddd-e285-479b-9ed1-654ef5af67fc', 'name': 'ChatGroq', 'tags': ['seq:step:1'], 'metadata': {'thread_id': '5', 'langgraph_step': 4, 'langgraph_node': 'SuperBot', 'langgraph_triggers': ('branch:to:SuperBot',), 'langgraph_path': ('__pregel_pull', 'SuperBot'), 'langgraph_checkpoint_ns': 'SuperBot:a933c887-eb90-9854-95f3-be618c384ab6', 'checkpoint_ns': 'SuperBot:a933c887-eb90-9854-95f3-be618c384ab6', 'ls_provider': 'groq', 'ls_model_name': 'meta-llama/llama-4-scout-17b-16e-instruct', 'ls_model_type': 'chat', 'ls_temperature': 0.7}, 'parent_ids': ['b2f8132b-5c31-4cfc-87ab-3f717e1c31c7', 'ef95cdeb-0b0d-4405-b4d6-e5c0784ea944']}\n",
            "{'event': 'on_chat_model_stream', 'data': {'chunk': AIMessageChunk(content=' from', additional_kwargs={}, response_metadata={}, id='run--08e40ddd-e285-479b-9ed1-654ef5af67fc')}, 'run_id': '08e40ddd-e285-479b-9ed1-654ef5af67fc', 'name': 'ChatGroq', 'tags': ['seq:step:1'], 'metadata': {'thread_id': '5', 'langgraph_step': 4, 'langgraph_node': 'SuperBot', 'langgraph_triggers': ('branch:to:SuperBot',), 'langgraph_path': ('__pregel_pull', 'SuperBot'), 'langgraph_checkpoint_ns': 'SuperBot:a933c887-eb90-9854-95f3-be618c384ab6', 'checkpoint_ns': 'SuperBot:a933c887-eb90-9854-95f3-be618c384ab6', 'ls_provider': 'groq', 'ls_model_name': 'meta-llama/llama-4-scout-17b-16e-instruct', 'ls_model_type': 'chat', 'ls_temperature': 0.7}, 'parent_ids': ['b2f8132b-5c31-4cfc-87ab-3f717e1c31c7', 'ef95cdeb-0b0d-4405-b4d6-e5c0784ea944']}\n",
            "{'event': 'on_chat_model_stream', 'data': {'chunk': AIMessageChunk(content=' the', additional_kwargs={}, response_metadata={}, id='run--08e40ddd-e285-479b-9ed1-654ef5af67fc')}, 'run_id': '08e40ddd-e285-479b-9ed1-654ef5af67fc', 'name': 'ChatGroq', 'tags': ['seq:step:1'], 'metadata': {'thread_id': '5', 'langgraph_step': 4, 'langgraph_node': 'SuperBot', 'langgraph_triggers': ('branch:to:SuperBot',), 'langgraph_path': ('__pregel_pull', 'SuperBot'), 'langgraph_checkpoint_ns': 'SuperBot:a933c887-eb90-9854-95f3-be618c384ab6', 'checkpoint_ns': 'SuperBot:a933c887-eb90-9854-95f3-be618c384ab6', 'ls_provider': 'groq', 'ls_model_name': 'meta-llama/llama-4-scout-17b-16e-instruct', 'ls_model_type': 'chat', 'ls_temperature': 0.7}, 'parent_ids': ['b2f8132b-5c31-4cfc-87ab-3f717e1c31c7', 'ef95cdeb-0b0d-4405-b4d6-e5c0784ea944']}\n",
            "{'event': 'on_chat_model_stream', 'data': {'chunk': AIMessageChunk(content=' classic', additional_kwargs={}, response_metadata={}, id='run--08e40ddd-e285-479b-9ed1-654ef5af67fc')}, 'run_id': '08e40ddd-e285-479b-9ed1-654ef5af67fc', 'name': 'ChatGroq', 'tags': ['seq:step:1'], 'metadata': {'thread_id': '5', 'langgraph_step': 4, 'langgraph_node': 'SuperBot', 'langgraph_triggers': ('branch:to:SuperBot',), 'langgraph_path': ('__pregel_pull', 'SuperBot'), 'langgraph_checkpoint_ns': 'SuperBot:a933c887-eb90-9854-95f3-be618c384ab6', 'checkpoint_ns': 'SuperBot:a933c887-eb90-9854-95f3-be618c384ab6', 'ls_provider': 'groq', 'ls_model_name': 'meta-llama/llama-4-scout-17b-16e-instruct', 'ls_model_type': 'chat', 'ls_temperature': 0.7}, 'parent_ids': ['b2f8132b-5c31-4cfc-87ab-3f717e1c31c7', 'ef95cdeb-0b0d-4405-b4d6-e5c0784ea944']}\n",
            "{'event': 'on_chat_model_stream', 'data': {'chunk': AIMessageChunk(content=' Adam', additional_kwargs={}, response_metadata={}, id='run--08e40ddd-e285-479b-9ed1-654ef5af67fc')}, 'run_id': '08e40ddd-e285-479b-9ed1-654ef5af67fc', 'name': 'ChatGroq', 'tags': ['seq:step:1'], 'metadata': {'thread_id': '5', 'langgraph_step': 4, 'langgraph_node': 'SuperBot', 'langgraph_triggers': ('branch:to:SuperBot',), 'langgraph_path': ('__pregel_pull', 'SuperBot'), 'langgraph_checkpoint_ns': 'SuperBot:a933c887-eb90-9854-95f3-be618c384ab6', 'checkpoint_ns': 'SuperBot:a933c887-eb90-9854-95f3-be618c384ab6', 'ls_provider': 'groq', 'ls_model_name': 'meta-llama/llama-4-scout-17b-16e-instruct', 'ls_model_type': 'chat', 'ls_temperature': 0.7}, 'parent_ids': ['b2f8132b-5c31-4cfc-87ab-3f717e1c31c7', 'ef95cdeb-0b0d-4405-b4d6-e5c0784ea944']}\n",
            "{'event': 'on_chat_model_stream', 'data': {'chunk': AIMessageChunk(content=' West', additional_kwargs={}, response_metadata={}, id='run--08e40ddd-e285-479b-9ed1-654ef5af67fc')}, 'run_id': '08e40ddd-e285-479b-9ed1-654ef5af67fc', 'name': 'ChatGroq', 'tags': ['seq:step:1'], 'metadata': {'thread_id': '5', 'langgraph_step': 4, 'langgraph_node': 'SuperBot', 'langgraph_triggers': ('branch:to:SuperBot',), 'langgraph_path': ('__pregel_pull', 'SuperBot'), 'langgraph_checkpoint_ns': 'SuperBot:a933c887-eb90-9854-95f3-be618c384ab6', 'checkpoint_ns': 'SuperBot:a933c887-eb90-9854-95f3-be618c384ab6', 'ls_provider': 'groq', 'ls_model_name': 'meta-llama/llama-4-scout-17b-16e-instruct', 'ls_model_type': 'chat', 'ls_temperature': 0.7}, 'parent_ids': ['b2f8132b-5c31-4cfc-87ab-3f717e1c31c7', 'ef95cdeb-0b0d-4405-b4d6-e5c0784ea944']}\n",
            "{'event': 'on_chat_model_stream', 'data': {'chunk': AIMessageChunk(content=' show', additional_kwargs={}, response_metadata={}, id='run--08e40ddd-e285-479b-9ed1-654ef5af67fc')}, 'run_id': '08e40ddd-e285-479b-9ed1-654ef5af67fc', 'name': 'ChatGroq', 'tags': ['seq:step:1'], 'metadata': {'thread_id': '5', 'langgraph_step': 4, 'langgraph_node': 'SuperBot', 'langgraph_triggers': ('branch:to:SuperBot',), 'langgraph_path': ('__pregel_pull', 'SuperBot'), 'langgraph_checkpoint_ns': 'SuperBot:a933c887-eb90-9854-95f3-be618c384ab6', 'checkpoint_ns': 'SuperBot:a933c887-eb90-9854-95f3-be618c384ab6', 'ls_provider': 'groq', 'ls_model_name': 'meta-llama/llama-4-scout-17b-16e-instruct', 'ls_model_type': 'chat', 'ls_temperature': 0.7}, 'parent_ids': ['b2f8132b-5c31-4cfc-87ab-3f717e1c31c7', 'ef95cdeb-0b0d-4405-b4d6-e5c0784ea944']}\n",
            "{'event': 'on_chat_model_stream', 'data': {'chunk': AIMessageChunk(content=' to', additional_kwargs={}, response_metadata={}, id='run--08e40ddd-e285-479b-9ed1-654ef5af67fc')}, 'run_id': '08e40ddd-e285-479b-9ed1-654ef5af67fc', 'name': 'ChatGroq', 'tags': ['seq:step:1'], 'metadata': {'thread_id': '5', 'langgraph_step': 4, 'langgraph_node': 'SuperBot', 'langgraph_triggers': ('branch:to:SuperBot',), 'langgraph_path': ('__pregel_pull', 'SuperBot'), 'langgraph_checkpoint_ns': 'SuperBot:a933c887-eb90-9854-95f3-be618c384ab6', 'checkpoint_ns': 'SuperBot:a933c887-eb90-9854-95f3-be618c384ab6', 'ls_provider': 'groq', 'ls_model_name': 'meta-llama/llama-4-scout-17b-16e-instruct', 'ls_model_type': 'chat', 'ls_temperature': 0.7}, 'parent_ids': ['b2f8132b-5c31-4cfc-87ab-3f717e1c31c7', 'ef95cdeb-0b0d-4405-b4d6-e5c0784ea944']}\n",
            "{'event': 'on_chat_model_stream', 'data': {'chunk': AIMessageChunk(content=' the', additional_kwargs={}, response_metadata={}, id='run--08e40ddd-e285-479b-9ed1-654ef5af67fc')}, 'run_id': '08e40ddd-e285-479b-9ed1-654ef5af67fc', 'name': 'ChatGroq', 'tags': ['seq:step:1'], 'metadata': {'thread_id': '5', 'langgraph_step': 4, 'langgraph_node': 'SuperBot', 'langgraph_triggers': ('branch:to:SuperBot',), 'langgraph_path': ('__pregel_pull', 'SuperBot'), 'langgraph_checkpoint_ns': 'SuperBot:a933c887-eb90-9854-95f3-be618c384ab6', 'checkpoint_ns': 'SuperBot:a933c887-eb90-9854-95f3-be618c384ab6', 'ls_provider': 'groq', 'ls_model_name': 'meta-llama/llama-4-scout-17b-16e-instruct', 'ls_model_type': 'chat', 'ls_temperature': 0.7}, 'parent_ids': ['b2f8132b-5c31-4cfc-87ab-3f717e1c31c7', 'ef95cdeb-0b0d-4405-b4d6-e5c0784ea944']}\n",
            "{'event': 'on_chat_model_stream', 'data': {'chunk': AIMessageChunk(content=' more', additional_kwargs={}, response_metadata={}, id='run--08e40ddd-e285-479b-9ed1-654ef5af67fc')}, 'run_id': '08e40ddd-e285-479b-9ed1-654ef5af67fc', 'name': 'ChatGroq', 'tags': ['seq:step:1'], 'metadata': {'thread_id': '5', 'langgraph_step': 4, 'langgraph_node': 'SuperBot', 'langgraph_triggers': ('branch:to:SuperBot',), 'langgraph_path': ('__pregel_pull', 'SuperBot'), 'langgraph_checkpoint_ns': 'SuperBot:a933c887-eb90-9854-95f3-be618c384ab6', 'checkpoint_ns': 'SuperBot:a933c887-eb90-9854-95f3-be618c384ab6', 'ls_provider': 'groq', 'ls_model_name': 'meta-llama/llama-4-scout-17b-16e-instruct', 'ls_model_type': 'chat', 'ls_temperature': 0.7}, 'parent_ids': ['b2f8132b-5c31-4cfc-87ab-3f717e1c31c7', 'ef95cdeb-0b0d-4405-b4d6-e5c0784ea944']}\n",
            "{'event': 'on_chat_model_stream', 'data': {'chunk': AIMessageChunk(content=' recent', additional_kwargs={}, response_metadata={}, id='run--08e40ddd-e285-479b-9ed1-654ef5af67fc')}, 'run_id': '08e40ddd-e285-479b-9ed1-654ef5af67fc', 'name': 'ChatGroq', 'tags': ['seq:step:1'], 'metadata': {'thread_id': '5', 'langgraph_step': 4, 'langgraph_node': 'SuperBot', 'langgraph_triggers': ('branch:to:SuperBot',), 'langgraph_path': ('__pregel_pull', 'SuperBot'), 'langgraph_checkpoint_ns': 'SuperBot:a933c887-eb90-9854-95f3-be618c384ab6', 'checkpoint_ns': 'SuperBot:a933c887-eb90-9854-95f3-be618c384ab6', 'ls_provider': 'groq', 'ls_model_name': 'meta-llama/llama-4-scout-17b-16e-instruct', 'ls_model_type': 'chat', 'ls_temperature': 0.7}, 'parent_ids': ['b2f8132b-5c31-4cfc-87ab-3f717e1c31c7', 'ef95cdeb-0b0d-4405-b4d6-e5c0784ea944']}\n",
            "{'event': 'on_chat_model_stream', 'data': {'chunk': AIMessageChunk(content=' movies', additional_kwargs={}, response_metadata={}, id='run--08e40ddd-e285-479b-9ed1-654ef5af67fc')}, 'run_id': '08e40ddd-e285-479b-9ed1-654ef5af67fc', 'name': 'ChatGroq', 'tags': ['seq:step:1'], 'metadata': {'thread_id': '5', 'langgraph_step': 4, 'langgraph_node': 'SuperBot', 'langgraph_triggers': ('branch:to:SuperBot',), 'langgraph_path': ('__pregel_pull', 'SuperBot'), 'langgraph_checkpoint_ns': 'SuperBot:a933c887-eb90-9854-95f3-be618c384ab6', 'checkpoint_ns': 'SuperBot:a933c887-eb90-9854-95f3-be618c384ab6', 'ls_provider': 'groq', 'ls_model_name': 'meta-llama/llama-4-scout-17b-16e-instruct', 'ls_model_type': 'chat', 'ls_temperature': 0.7}, 'parent_ids': ['b2f8132b-5c31-4cfc-87ab-3f717e1c31c7', 'ef95cdeb-0b0d-4405-b4d6-e5c0784ea944']}\n",
            "{'event': 'on_chat_model_stream', 'data': {'chunk': AIMessageChunk(content=' with', additional_kwargs={}, response_metadata={}, id='run--08e40ddd-e285-479b-9ed1-654ef5af67fc')}, 'run_id': '08e40ddd-e285-479b-9ed1-654ef5af67fc', 'name': 'ChatGroq', 'tags': ['seq:step:1'], 'metadata': {'thread_id': '5', 'langgraph_step': 4, 'langgraph_node': 'SuperBot', 'langgraph_triggers': ('branch:to:SuperBot',), 'langgraph_path': ('__pregel_pull', 'SuperBot'), 'langgraph_checkpoint_ns': 'SuperBot:a933c887-eb90-9854-95f3-be618c384ab6', 'checkpoint_ns': 'SuperBot:a933c887-eb90-9854-95f3-be618c384ab6', 'ls_provider': 'groq', 'ls_model_name': 'meta-llama/llama-4-scout-17b-16e-instruct', 'ls_model_type': 'chat', 'ls_temperature': 0.7}, 'parent_ids': ['b2f8132b-5c31-4cfc-87ab-3f717e1c31c7', 'ef95cdeb-0b0d-4405-b4d6-e5c0784ea944']}\n",
            "{'event': 'on_chat_model_stream', 'data': {'chunk': AIMessageChunk(content=' Christian', additional_kwargs={}, response_metadata={}, id='run--08e40ddd-e285-479b-9ed1-654ef5af67fc')}, 'run_id': '08e40ddd-e285-479b-9ed1-654ef5af67fc', 'name': 'ChatGroq', 'tags': ['seq:step:1'], 'metadata': {'thread_id': '5', 'langgraph_step': 4, 'langgraph_node': 'SuperBot', 'langgraph_triggers': ('branch:to:SuperBot',), 'langgraph_path': ('__pregel_pull', 'SuperBot'), 'langgraph_checkpoint_ns': 'SuperBot:a933c887-eb90-9854-95f3-be618c384ab6', 'checkpoint_ns': 'SuperBot:a933c887-eb90-9854-95f3-be618c384ab6', 'ls_provider': 'groq', 'ls_model_name': 'meta-llama/llama-4-scout-17b-16e-instruct', 'ls_model_type': 'chat', 'ls_temperature': 0.7}, 'parent_ids': ['b2f8132b-5c31-4cfc-87ab-3f717e1c31c7', 'ef95cdeb-0b0d-4405-b4d6-e5c0784ea944']}\n",
            "{'event': 'on_chat_model_stream', 'data': {'chunk': AIMessageChunk(content=' Bale', additional_kwargs={}, response_metadata={}, id='run--08e40ddd-e285-479b-9ed1-654ef5af67fc')}, 'run_id': '08e40ddd-e285-479b-9ed1-654ef5af67fc', 'name': 'ChatGroq', 'tags': ['seq:step:1'], 'metadata': {'thread_id': '5', 'langgraph_step': 4, 'langgraph_node': 'SuperBot', 'langgraph_triggers': ('branch:to:SuperBot',), 'langgraph_path': ('__pregel_pull', 'SuperBot'), 'langgraph_checkpoint_ns': 'SuperBot:a933c887-eb90-9854-95f3-be618c384ab6', 'checkpoint_ns': 'SuperBot:a933c887-eb90-9854-95f3-be618c384ab6', 'ls_provider': 'groq', 'ls_model_name': 'meta-llama/llama-4-scout-17b-16e-instruct', 'ls_model_type': 'chat', 'ls_temperature': 0.7}, 'parent_ids': ['b2f8132b-5c31-4cfc-87ab-3f717e1c31c7', 'ef95cdeb-0b0d-4405-b4d6-e5c0784ea944']}\n",
            "{'event': 'on_chat_model_stream', 'data': {'chunk': AIMessageChunk(content=',', additional_kwargs={}, response_metadata={}, id='run--08e40ddd-e285-479b-9ed1-654ef5af67fc')}, 'run_id': '08e40ddd-e285-479b-9ed1-654ef5af67fc', 'name': 'ChatGroq', 'tags': ['seq:step:1'], 'metadata': {'thread_id': '5', 'langgraph_step': 4, 'langgraph_node': 'SuperBot', 'langgraph_triggers': ('branch:to:SuperBot',), 'langgraph_path': ('__pregel_pull', 'SuperBot'), 'langgraph_checkpoint_ns': 'SuperBot:a933c887-eb90-9854-95f3-be618c384ab6', 'checkpoint_ns': 'SuperBot:a933c887-eb90-9854-95f3-be618c384ab6', 'ls_provider': 'groq', 'ls_model_name': 'meta-llama/llama-4-scout-17b-16e-instruct', 'ls_model_type': 'chat', 'ls_temperature': 0.7}, 'parent_ids': ['b2f8132b-5c31-4cfc-87ab-3f717e1c31c7', 'ef95cdeb-0b0d-4405-b4d6-e5c0784ea944']}\n",
            "{'event': 'on_chat_model_stream', 'data': {'chunk': AIMessageChunk(content=' Ben', additional_kwargs={}, response_metadata={}, id='run--08e40ddd-e285-479b-9ed1-654ef5af67fc')}, 'run_id': '08e40ddd-e285-479b-9ed1-654ef5af67fc', 'name': 'ChatGroq', 'tags': ['seq:step:1'], 'metadata': {'thread_id': '5', 'langgraph_step': 4, 'langgraph_node': 'SuperBot', 'langgraph_triggers': ('branch:to:SuperBot',), 'langgraph_path': ('__pregel_pull', 'SuperBot'), 'langgraph_checkpoint_ns': 'SuperBot:a933c887-eb90-9854-95f3-be618c384ab6', 'checkpoint_ns': 'SuperBot:a933c887-eb90-9854-95f3-be618c384ab6', 'ls_provider': 'groq', 'ls_model_name': 'meta-llama/llama-4-scout-17b-16e-instruct', 'ls_model_type': 'chat', 'ls_temperature': 0.7}, 'parent_ids': ['b2f8132b-5c31-4cfc-87ab-3f717e1c31c7', 'ef95cdeb-0b0d-4405-b4d6-e5c0784ea944']}\n",
            "{'event': 'on_chat_model_stream', 'data': {'chunk': AIMessageChunk(content=' Aff', additional_kwargs={}, response_metadata={}, id='run--08e40ddd-e285-479b-9ed1-654ef5af67fc')}, 'run_id': '08e40ddd-e285-479b-9ed1-654ef5af67fc', 'name': 'ChatGroq', 'tags': ['seq:step:1'], 'metadata': {'thread_id': '5', 'langgraph_step': 4, 'langgraph_node': 'SuperBot', 'langgraph_triggers': ('branch:to:SuperBot',), 'langgraph_path': ('__pregel_pull', 'SuperBot'), 'langgraph_checkpoint_ns': 'SuperBot:a933c887-eb90-9854-95f3-be618c384ab6', 'checkpoint_ns': 'SuperBot:a933c887-eb90-9854-95f3-be618c384ab6', 'ls_provider': 'groq', 'ls_model_name': 'meta-llama/llama-4-scout-17b-16e-instruct', 'ls_model_type': 'chat', 'ls_temperature': 0.7}, 'parent_ids': ['b2f8132b-5c31-4cfc-87ab-3f717e1c31c7', 'ef95cdeb-0b0d-4405-b4d6-e5c0784ea944']}\n",
            "{'event': 'on_chat_model_stream', 'data': {'chunk': AIMessageChunk(content='leck', additional_kwargs={}, response_metadata={}, id='run--08e40ddd-e285-479b-9ed1-654ef5af67fc')}, 'run_id': '08e40ddd-e285-479b-9ed1-654ef5af67fc', 'name': 'ChatGroq', 'tags': ['seq:step:1'], 'metadata': {'thread_id': '5', 'langgraph_step': 4, 'langgraph_node': 'SuperBot', 'langgraph_triggers': ('branch:to:SuperBot',), 'langgraph_path': ('__pregel_pull', 'SuperBot'), 'langgraph_checkpoint_ns': 'SuperBot:a933c887-eb90-9854-95f3-be618c384ab6', 'checkpoint_ns': 'SuperBot:a933c887-eb90-9854-95f3-be618c384ab6', 'ls_provider': 'groq', 'ls_model_name': 'meta-llama/llama-4-scout-17b-16e-instruct', 'ls_model_type': 'chat', 'ls_temperature': 0.7}, 'parent_ids': ['b2f8132b-5c31-4cfc-87ab-3f717e1c31c7', 'ef95cdeb-0b0d-4405-b4d6-e5c0784ea944']}\n",
            "{'event': 'on_chat_model_stream', 'data': {'chunk': AIMessageChunk(content=',', additional_kwargs={}, response_metadata={}, id='run--08e40ddd-e285-479b-9ed1-654ef5af67fc')}, 'run_id': '08e40ddd-e285-479b-9ed1-654ef5af67fc', 'name': 'ChatGroq', 'tags': ['seq:step:1'], 'metadata': {'thread_id': '5', 'langgraph_step': 4, 'langgraph_node': 'SuperBot', 'langgraph_triggers': ('branch:to:SuperBot',), 'langgraph_path': ('__pregel_pull', 'SuperBot'), 'langgraph_checkpoint_ns': 'SuperBot:a933c887-eb90-9854-95f3-be618c384ab6', 'checkpoint_ns': 'SuperBot:a933c887-eb90-9854-95f3-be618c384ab6', 'ls_provider': 'groq', 'ls_model_name': 'meta-llama/llama-4-scout-17b-16e-instruct', 'ls_model_type': 'chat', 'ls_temperature': 0.7}, 'parent_ids': ['b2f8132b-5c31-4cfc-87ab-3f717e1c31c7', 'ef95cdeb-0b0d-4405-b4d6-e5c0784ea944']}\n",
            "{'event': 'on_chat_model_stream', 'data': {'chunk': AIMessageChunk(content=' and', additional_kwargs={}, response_metadata={}, id='run--08e40ddd-e285-479b-9ed1-654ef5af67fc')}, 'run_id': '08e40ddd-e285-479b-9ed1-654ef5af67fc', 'name': 'ChatGroq', 'tags': ['seq:step:1'], 'metadata': {'thread_id': '5', 'langgraph_step': 4, 'langgraph_node': 'SuperBot', 'langgraph_triggers': ('branch:to:SuperBot',), 'langgraph_path': ('__pregel_pull', 'SuperBot'), 'langgraph_checkpoint_ns': 'SuperBot:a933c887-eb90-9854-95f3-be618c384ab6', 'checkpoint_ns': 'SuperBot:a933c887-eb90-9854-95f3-be618c384ab6', 'ls_provider': 'groq', 'ls_model_name': 'meta-llama/llama-4-scout-17b-16e-instruct', 'ls_model_type': 'chat', 'ls_temperature': 0.7}, 'parent_ids': ['b2f8132b-5c31-4cfc-87ab-3f717e1c31c7', 'ef95cdeb-0b0d-4405-b4d6-e5c0784ea944']}\n",
            "{'event': 'on_chat_model_stream', 'data': {'chunk': AIMessageChunk(content=' Robert', additional_kwargs={}, response_metadata={}, id='run--08e40ddd-e285-479b-9ed1-654ef5af67fc')}, 'run_id': '08e40ddd-e285-479b-9ed1-654ef5af67fc', 'name': 'ChatGroq', 'tags': ['seq:step:1'], 'metadata': {'thread_id': '5', 'langgraph_step': 4, 'langgraph_node': 'SuperBot', 'langgraph_triggers': ('branch:to:SuperBot',), 'langgraph_path': ('__pregel_pull', 'SuperBot'), 'langgraph_checkpoint_ns': 'SuperBot:a933c887-eb90-9854-95f3-be618c384ab6', 'checkpoint_ns': 'SuperBot:a933c887-eb90-9854-95f3-be618c384ab6', 'ls_provider': 'groq', 'ls_model_name': 'meta-llama/llama-4-scout-17b-16e-instruct', 'ls_model_type': 'chat', 'ls_temperature': 0.7}, 'parent_ids': ['b2f8132b-5c31-4cfc-87ab-3f717e1c31c7', 'ef95cdeb-0b0d-4405-b4d6-e5c0784ea944']}\n",
            "{'event': 'on_chat_model_stream', 'data': {'chunk': AIMessageChunk(content=' Patt', additional_kwargs={}, response_metadata={}, id='run--08e40ddd-e285-479b-9ed1-654ef5af67fc')}, 'run_id': '08e40ddd-e285-479b-9ed1-654ef5af67fc', 'name': 'ChatGroq', 'tags': ['seq:step:1'], 'metadata': {'thread_id': '5', 'langgraph_step': 4, 'langgraph_node': 'SuperBot', 'langgraph_triggers': ('branch:to:SuperBot',), 'langgraph_path': ('__pregel_pull', 'SuperBot'), 'langgraph_checkpoint_ns': 'SuperBot:a933c887-eb90-9854-95f3-be618c384ab6', 'checkpoint_ns': 'SuperBot:a933c887-eb90-9854-95f3-be618c384ab6', 'ls_provider': 'groq', 'ls_model_name': 'meta-llama/llama-4-scout-17b-16e-instruct', 'ls_model_type': 'chat', 'ls_temperature': 0.7}, 'parent_ids': ['b2f8132b-5c31-4cfc-87ab-3f717e1c31c7', 'ef95cdeb-0b0d-4405-b4d6-e5c0784ea944']}\n",
            "{'event': 'on_chat_model_stream', 'data': {'chunk': AIMessageChunk(content='inson', additional_kwargs={}, response_metadata={}, id='run--08e40ddd-e285-479b-9ed1-654ef5af67fc')}, 'run_id': '08e40ddd-e285-479b-9ed1-654ef5af67fc', 'name': 'ChatGroq', 'tags': ['seq:step:1'], 'metadata': {'thread_id': '5', 'langgraph_step': 4, 'langgraph_node': 'SuperBot', 'langgraph_triggers': ('branch:to:SuperBot',), 'langgraph_path': ('__pregel_pull', 'SuperBot'), 'langgraph_checkpoint_ns': 'SuperBot:a933c887-eb90-9854-95f3-be618c384ab6', 'checkpoint_ns': 'SuperBot:a933c887-eb90-9854-95f3-be618c384ab6', 'ls_provider': 'groq', 'ls_model_name': 'meta-llama/llama-4-scout-17b-16e-instruct', 'ls_model_type': 'chat', 'ls_temperature': 0.7}, 'parent_ids': ['b2f8132b-5c31-4cfc-87ab-3f717e1c31c7', 'ef95cdeb-0b0d-4405-b4d6-e5c0784ea944']}\n",
            "{'event': 'on_chat_model_stream', 'data': {'chunk': AIMessageChunk(content='.\\n\\n', additional_kwargs={}, response_metadata={}, id='run--08e40ddd-e285-479b-9ed1-654ef5af67fc')}, 'run_id': '08e40ddd-e285-479b-9ed1-654ef5af67fc', 'name': 'ChatGroq', 'tags': ['seq:step:1'], 'metadata': {'thread_id': '5', 'langgraph_step': 4, 'langgraph_node': 'SuperBot', 'langgraph_triggers': ('branch:to:SuperBot',), 'langgraph_path': ('__pregel_pull', 'SuperBot'), 'langgraph_checkpoint_ns': 'SuperBot:a933c887-eb90-9854-95f3-be618c384ab6', 'checkpoint_ns': 'SuperBot:a933c887-eb90-9854-95f3-be618c384ab6', 'ls_provider': 'groq', 'ls_model_name': 'meta-llama/llama-4-scout-17b-16e-instruct', 'ls_model_type': 'chat', 'ls_temperature': 0.7}, 'parent_ids': ['b2f8132b-5c31-4cfc-87ab-3f717e1c31c7', 'ef95cdeb-0b0d-4405-b4d6-e5c0784ea944']}\n",
            "{'event': 'on_chat_model_stream', 'data': {'chunk': AIMessageChunk(content='(By', additional_kwargs={}, response_metadata={}, id='run--08e40ddd-e285-479b-9ed1-654ef5af67fc')}, 'run_id': '08e40ddd-e285-479b-9ed1-654ef5af67fc', 'name': 'ChatGroq', 'tags': ['seq:step:1'], 'metadata': {'thread_id': '5', 'langgraph_step': 4, 'langgraph_node': 'SuperBot', 'langgraph_triggers': ('branch:to:SuperBot',), 'langgraph_path': ('__pregel_pull', 'SuperBot'), 'langgraph_checkpoint_ns': 'SuperBot:a933c887-eb90-9854-95f3-be618c384ab6', 'checkpoint_ns': 'SuperBot:a933c887-eb90-9854-95f3-be618c384ab6', 'ls_provider': 'groq', 'ls_model_name': 'meta-llama/llama-4-scout-17b-16e-instruct', 'ls_model_type': 'chat', 'ls_temperature': 0.7}, 'parent_ids': ['b2f8132b-5c31-4cfc-87ab-3f717e1c31c7', 'ef95cdeb-0b0d-4405-b4d6-e5c0784ea944']}\n",
            "{'event': 'on_chat_model_stream', 'data': {'chunk': AIMessageChunk(content=' the', additional_kwargs={}, response_metadata={}, id='run--08e40ddd-e285-479b-9ed1-654ef5af67fc')}, 'run_id': '08e40ddd-e285-479b-9ed1-654ef5af67fc', 'name': 'ChatGroq', 'tags': ['seq:step:1'], 'metadata': {'thread_id': '5', 'langgraph_step': 4, 'langgraph_node': 'SuperBot', 'langgraph_triggers': ('branch:to:SuperBot',), 'langgraph_path': ('__pregel_pull', 'SuperBot'), 'langgraph_checkpoint_ns': 'SuperBot:a933c887-eb90-9854-95f3-be618c384ab6', 'checkpoint_ns': 'SuperBot:a933c887-eb90-9854-95f3-be618c384ab6', 'ls_provider': 'groq', 'ls_model_name': 'meta-llama/llama-4-scout-17b-16e-instruct', 'ls_model_type': 'chat', 'ls_temperature': 0.7}, 'parent_ids': ['b2f8132b-5c31-4cfc-87ab-3f717e1c31c7', 'ef95cdeb-0b0d-4405-b4d6-e5c0784ea944']}\n",
            "{'event': 'on_chat_model_stream', 'data': {'chunk': AIMessageChunk(content=' way', additional_kwargs={}, response_metadata={}, id='run--08e40ddd-e285-479b-9ed1-654ef5af67fc')}, 'run_id': '08e40ddd-e285-479b-9ed1-654ef5af67fc', 'name': 'ChatGroq', 'tags': ['seq:step:1'], 'metadata': {'thread_id': '5', 'langgraph_step': 4, 'langgraph_node': 'SuperBot', 'langgraph_triggers': ('branch:to:SuperBot',), 'langgraph_path': ('__pregel_pull', 'SuperBot'), 'langgraph_checkpoint_ns': 'SuperBot:a933c887-eb90-9854-95f3-be618c384ab6', 'checkpoint_ns': 'SuperBot:a933c887-eb90-9854-95f3-be618c384ab6', 'ls_provider': 'groq', 'ls_model_name': 'meta-llama/llama-4-scout-17b-16e-instruct', 'ls_model_type': 'chat', 'ls_temperature': 0.7}, 'parent_ids': ['b2f8132b-5c31-4cfc-87ab-3f717e1c31c7', 'ef95cdeb-0b0d-4405-b4d6-e5c0784ea944']}\n",
            "{'event': 'on_chat_model_stream', 'data': {'chunk': AIMessageChunk(content=',', additional_kwargs={}, response_metadata={}, id='run--08e40ddd-e285-479b-9ed1-654ef5af67fc')}, 'run_id': '08e40ddd-e285-479b-9ed1-654ef5af67fc', 'name': 'ChatGroq', 'tags': ['seq:step:1'], 'metadata': {'thread_id': '5', 'langgraph_step': 4, 'langgraph_node': 'SuperBot', 'langgraph_triggers': ('branch:to:SuperBot',), 'langgraph_path': ('__pregel_pull', 'SuperBot'), 'langgraph_checkpoint_ns': 'SuperBot:a933c887-eb90-9854-95f3-be618c384ab6', 'checkpoint_ns': 'SuperBot:a933c887-eb90-9854-95f3-be618c384ab6', 'ls_provider': 'groq', 'ls_model_name': 'meta-llama/llama-4-scout-17b-16e-instruct', 'ls_model_type': 'chat', 'ls_temperature': 0.7}, 'parent_ids': ['b2f8132b-5c31-4cfc-87ab-3f717e1c31c7', 'ef95cdeb-0b0d-4405-b4d6-e5c0784ea944']}\n",
            "{'event': 'on_chat_model_stream', 'data': {'chunk': AIMessageChunk(content=' I', additional_kwargs={}, response_metadata={}, id='run--08e40ddd-e285-479b-9ed1-654ef5af67fc')}, 'run_id': '08e40ddd-e285-479b-9ed1-654ef5af67fc', 'name': 'ChatGroq', 'tags': ['seq:step:1'], 'metadata': {'thread_id': '5', 'langgraph_step': 4, 'langgraph_node': 'SuperBot', 'langgraph_triggers': ('branch:to:SuperBot',), 'langgraph_path': ('__pregel_pull', 'SuperBot'), 'langgraph_checkpoint_ns': 'SuperBot:a933c887-eb90-9854-95f3-be618c384ab6', 'checkpoint_ns': 'SuperBot:a933c887-eb90-9854-95f3-be618c384ab6', 'ls_provider': 'groq', 'ls_model_name': 'meta-llama/llama-4-scout-17b-16e-instruct', 'ls_model_type': 'chat', 'ls_temperature': 0.7}, 'parent_ids': ['b2f8132b-5c31-4cfc-87ab-3f717e1c31c7', 'ef95cdeb-0b0d-4405-b4d6-e5c0784ea944']}\n",
            "{'event': 'on_chat_model_stream', 'data': {'chunk': AIMessageChunk(content=' noticed', additional_kwargs={}, response_metadata={}, id='run--08e40ddd-e285-479b-9ed1-654ef5af67fc')}, 'run_id': '08e40ddd-e285-479b-9ed1-654ef5af67fc', 'name': 'ChatGroq', 'tags': ['seq:step:1'], 'metadata': {'thread_id': '5', 'langgraph_step': 4, 'langgraph_node': 'SuperBot', 'langgraph_triggers': ('branch:to:SuperBot',), 'langgraph_path': ('__pregel_pull', 'SuperBot'), 'langgraph_checkpoint_ns': 'SuperBot:a933c887-eb90-9854-95f3-be618c384ab6', 'checkpoint_ns': 'SuperBot:a933c887-eb90-9854-95f3-be618c384ab6', 'ls_provider': 'groq', 'ls_model_name': 'meta-llama/llama-4-scout-17b-16e-instruct', 'ls_model_type': 'chat', 'ls_temperature': 0.7}, 'parent_ids': ['b2f8132b-5c31-4cfc-87ab-3f717e1c31c7', 'ef95cdeb-0b0d-4405-b4d6-e5c0784ea944']}\n",
            "{'event': 'on_chat_model_stream', 'data': {'chunk': AIMessageChunk(content=' you', additional_kwargs={}, response_metadata={}, id='run--08e40ddd-e285-479b-9ed1-654ef5af67fc')}, 'run_id': '08e40ddd-e285-479b-9ed1-654ef5af67fc', 'name': 'ChatGroq', 'tags': ['seq:step:1'], 'metadata': {'thread_id': '5', 'langgraph_step': 4, 'langgraph_node': 'SuperBot', 'langgraph_triggers': ('branch:to:SuperBot',), 'langgraph_path': ('__pregel_pull', 'SuperBot'), 'langgraph_checkpoint_ns': 'SuperBot:a933c887-eb90-9854-95f3-be618c384ab6', 'checkpoint_ns': 'SuperBot:a933c887-eb90-9854-95f3-be618c384ab6', 'ls_provider': 'groq', 'ls_model_name': 'meta-llama/llama-4-scout-17b-16e-instruct', 'ls_model_type': 'chat', 'ls_temperature': 0.7}, 'parent_ids': ['b2f8132b-5c31-4cfc-87ab-3f717e1c31c7', 'ef95cdeb-0b0d-4405-b4d6-e5c0784ea944']}\n",
            "{'event': 'on_chat_model_stream', 'data': {'chunk': AIMessageChunk(content=' mentioned', additional_kwargs={}, response_metadata={}, id='run--08e40ddd-e285-479b-9ed1-654ef5af67fc')}, 'run_id': '08e40ddd-e285-479b-9ed1-654ef5af67fc', 'name': 'ChatGroq', 'tags': ['seq:step:1'], 'metadata': {'thread_id': '5', 'langgraph_step': 4, 'langgraph_node': 'SuperBot', 'langgraph_triggers': ('branch:to:SuperBot',), 'langgraph_path': ('__pregel_pull', 'SuperBot'), 'langgraph_checkpoint_ns': 'SuperBot:a933c887-eb90-9854-95f3-be618c384ab6', 'checkpoint_ns': 'SuperBot:a933c887-eb90-9854-95f3-be618c384ab6', 'ls_provider': 'groq', 'ls_model_name': 'meta-llama/llama-4-scout-17b-16e-instruct', 'ls_model_type': 'chat', 'ls_temperature': 0.7}, 'parent_ids': ['b2f8132b-5c31-4cfc-87ab-3f717e1c31c7', 'ef95cdeb-0b0d-4405-b4d6-e5c0784ea944']}\n",
            "{'event': 'on_chat_model_stream', 'data': {'chunk': AIMessageChunk(content=' the', additional_kwargs={}, response_metadata={}, id='run--08e40ddd-e285-479b-9ed1-654ef5af67fc')}, 'run_id': '08e40ddd-e285-479b-9ed1-654ef5af67fc', 'name': 'ChatGroq', 'tags': ['seq:step:1'], 'metadata': {'thread_id': '5', 'langgraph_step': 4, 'langgraph_node': 'SuperBot', 'langgraph_triggers': ('branch:to:SuperBot',), 'langgraph_path': ('__pregel_pull', 'SuperBot'), 'langgraph_checkpoint_ns': 'SuperBot:a933c887-eb90-9854-95f3-be618c384ab6', 'checkpoint_ns': 'SuperBot:a933c887-eb90-9854-95f3-be618c384ab6', 'ls_provider': 'groq', 'ls_model_name': 'meta-llama/llama-4-scout-17b-16e-instruct', 'ls_model_type': 'chat', 'ls_temperature': 0.7}, 'parent_ids': ['b2f8132b-5c31-4cfc-87ab-3f717e1c31c7', 'ef95cdeb-0b0d-4405-b4d6-e5c0784ea944']}\n",
            "{'event': 'on_chat_model_stream', 'data': {'chunk': AIMessageChunk(content=' Joker', additional_kwargs={}, response_metadata={}, id='run--08e40ddd-e285-479b-9ed1-654ef5af67fc')}, 'run_id': '08e40ddd-e285-479b-9ed1-654ef5af67fc', 'name': 'ChatGroq', 'tags': ['seq:step:1'], 'metadata': {'thread_id': '5', 'langgraph_step': 4, 'langgraph_node': 'SuperBot', 'langgraph_triggers': ('branch:to:SuperBot',), 'langgraph_path': ('__pregel_pull', 'SuperBot'), 'langgraph_checkpoint_ns': 'SuperBot:a933c887-eb90-9854-95f3-be618c384ab6', 'checkpoint_ns': 'SuperBot:a933c887-eb90-9854-95f3-be618c384ab6', 'ls_provider': 'groq', 'ls_model_name': 'meta-llama/llama-4-scout-17b-16e-instruct', 'ls_model_type': 'chat', 'ls_temperature': 0.7}, 'parent_ids': ['b2f8132b-5c31-4cfc-87ab-3f717e1c31c7', 'ef95cdeb-0b0d-4405-b4d6-e5c0784ea944']}\n",
            "{'event': 'on_chat_model_stream', 'data': {'chunk': AIMessageChunk(content=' earlier', additional_kwargs={}, response_metadata={}, id='run--08e40ddd-e285-479b-9ed1-654ef5af67fc')}, 'run_id': '08e40ddd-e285-479b-9ed1-654ef5af67fc', 'name': 'ChatGroq', 'tags': ['seq:step:1'], 'metadata': {'thread_id': '5', 'langgraph_step': 4, 'langgraph_node': 'SuperBot', 'langgraph_triggers': ('branch:to:SuperBot',), 'langgraph_path': ('__pregel_pull', 'SuperBot'), 'langgraph_checkpoint_ns': 'SuperBot:a933c887-eb90-9854-95f3-be618c384ab6', 'checkpoint_ns': 'SuperBot:a933c887-eb90-9854-95f3-be618c384ab6', 'ls_provider': 'groq', 'ls_model_name': 'meta-llama/llama-4-scout-17b-16e-instruct', 'ls_model_type': 'chat', 'ls_temperature': 0.7}, 'parent_ids': ['b2f8132b-5c31-4cfc-87ab-3f717e1c31c7', 'ef95cdeb-0b0d-4405-b4d6-e5c0784ea944']}\n",
            "{'event': 'on_chat_model_stream', 'data': {'chunk': AIMessageChunk(content='.', additional_kwargs={}, response_metadata={}, id='run--08e40ddd-e285-479b-9ed1-654ef5af67fc')}, 'run_id': '08e40ddd-e285-479b-9ed1-654ef5af67fc', 'name': 'ChatGroq', 'tags': ['seq:step:1'], 'metadata': {'thread_id': '5', 'langgraph_step': 4, 'langgraph_node': 'SuperBot', 'langgraph_triggers': ('branch:to:SuperBot',), 'langgraph_path': ('__pregel_pull', 'SuperBot'), 'langgraph_checkpoint_ns': 'SuperBot:a933c887-eb90-9854-95f3-be618c384ab6', 'checkpoint_ns': 'SuperBot:a933c887-eb90-9854-95f3-be618c384ab6', 'ls_provider': 'groq', 'ls_model_name': 'meta-llama/llama-4-scout-17b-16e-instruct', 'ls_model_type': 'chat', 'ls_temperature': 0.7}, 'parent_ids': ['b2f8132b-5c31-4cfc-87ab-3f717e1c31c7', 'ef95cdeb-0b0d-4405-b4d6-e5c0784ea944']}\n",
            "{'event': 'on_chat_model_stream', 'data': {'chunk': AIMessageChunk(content=' Are', additional_kwargs={}, response_metadata={}, id='run--08e40ddd-e285-479b-9ed1-654ef5af67fc')}, 'run_id': '08e40ddd-e285-479b-9ed1-654ef5af67fc', 'name': 'ChatGroq', 'tags': ['seq:step:1'], 'metadata': {'thread_id': '5', 'langgraph_step': 4, 'langgraph_node': 'SuperBot', 'langgraph_triggers': ('branch:to:SuperBot',), 'langgraph_path': ('__pregel_pull', 'SuperBot'), 'langgraph_checkpoint_ns': 'SuperBot:a933c887-eb90-9854-95f3-be618c384ab6', 'checkpoint_ns': 'SuperBot:a933c887-eb90-9854-95f3-be618c384ab6', 'ls_provider': 'groq', 'ls_model_name': 'meta-llama/llama-4-scout-17b-16e-instruct', 'ls_model_type': 'chat', 'ls_temperature': 0.7}, 'parent_ids': ['b2f8132b-5c31-4cfc-87ab-3f717e1c31c7', 'ef95cdeb-0b0d-4405-b4d6-e5c0784ea944']}\n",
            "{'event': 'on_chat_model_stream', 'data': {'chunk': AIMessageChunk(content=' you', additional_kwargs={}, response_metadata={}, id='run--08e40ddd-e285-479b-9ed1-654ef5af67fc')}, 'run_id': '08e40ddd-e285-479b-9ed1-654ef5af67fc', 'name': 'ChatGroq', 'tags': ['seq:step:1'], 'metadata': {'thread_id': '5', 'langgraph_step': 4, 'langgraph_node': 'SuperBot', 'langgraph_triggers': ('branch:to:SuperBot',), 'langgraph_path': ('__pregel_pull', 'SuperBot'), 'langgraph_checkpoint_ns': 'SuperBot:a933c887-eb90-9854-95f3-be618c384ab6', 'checkpoint_ns': 'SuperBot:a933c887-eb90-9854-95f3-be618c384ab6', 'ls_provider': 'groq', 'ls_model_name': 'meta-llama/llama-4-scout-17b-16e-instruct', 'ls_model_type': 'chat', 'ls_temperature': 0.7}, 'parent_ids': ['b2f8132b-5c31-4cfc-87ab-3f717e1c31c7', 'ef95cdeb-0b0d-4405-b4d6-e5c0784ea944']}\n",
            "{'event': 'on_chat_model_stream', 'data': {'chunk': AIMessageChunk(content=' interested', additional_kwargs={}, response_metadata={}, id='run--08e40ddd-e285-479b-9ed1-654ef5af67fc')}, 'run_id': '08e40ddd-e285-479b-9ed1-654ef5af67fc', 'name': 'ChatGroq', 'tags': ['seq:step:1'], 'metadata': {'thread_id': '5', 'langgraph_step': 4, 'langgraph_node': 'SuperBot', 'langgraph_triggers': ('branch:to:SuperBot',), 'langgraph_path': ('__pregel_pull', 'SuperBot'), 'langgraph_checkpoint_ns': 'SuperBot:a933c887-eb90-9854-95f3-be618c384ab6', 'checkpoint_ns': 'SuperBot:a933c887-eb90-9854-95f3-be618c384ab6', 'ls_provider': 'groq', 'ls_model_name': 'meta-llama/llama-4-scout-17b-16e-instruct', 'ls_model_type': 'chat', 'ls_temperature': 0.7}, 'parent_ids': ['b2f8132b-5c31-4cfc-87ab-3f717e1c31c7', 'ef95cdeb-0b0d-4405-b4d6-e5c0784ea944']}\n",
            "{'event': 'on_chat_model_stream', 'data': {'chunk': AIMessageChunk(content=' in', additional_kwargs={}, response_metadata={}, id='run--08e40ddd-e285-479b-9ed1-654ef5af67fc')}, 'run_id': '08e40ddd-e285-479b-9ed1-654ef5af67fc', 'name': 'ChatGroq', 'tags': ['seq:step:1'], 'metadata': {'thread_id': '5', 'langgraph_step': 4, 'langgraph_node': 'SuperBot', 'langgraph_triggers': ('branch:to:SuperBot',), 'langgraph_path': ('__pregel_pull', 'SuperBot'), 'langgraph_checkpoint_ns': 'SuperBot:a933c887-eb90-9854-95f3-be618c384ab6', 'checkpoint_ns': 'SuperBot:a933c887-eb90-9854-95f3-be618c384ab6', 'ls_provider': 'groq', 'ls_model_name': 'meta-llama/llama-4-scout-17b-16e-instruct', 'ls_model_type': 'chat', 'ls_temperature': 0.7}, 'parent_ids': ['b2f8132b-5c31-4cfc-87ab-3f717e1c31c7', 'ef95cdeb-0b0d-4405-b4d6-e5c0784ea944']}\n",
            "{'event': 'on_chat_model_stream', 'data': {'chunk': AIMessageChunk(content=' the', additional_kwargs={}, response_metadata={}, id='run--08e40ddd-e285-479b-9ed1-654ef5af67fc')}, 'run_id': '08e40ddd-e285-479b-9ed1-654ef5af67fc', 'name': 'ChatGroq', 'tags': ['seq:step:1'], 'metadata': {'thread_id': '5', 'langgraph_step': 4, 'langgraph_node': 'SuperBot', 'langgraph_triggers': ('branch:to:SuperBot',), 'langgraph_path': ('__pregel_pull', 'SuperBot'), 'langgraph_checkpoint_ns': 'SuperBot:a933c887-eb90-9854-95f3-be618c384ab6', 'checkpoint_ns': 'SuperBot:a933c887-eb90-9854-95f3-be618c384ab6', 'ls_provider': 'groq', 'ls_model_name': 'meta-llama/llama-4-scout-17b-16e-instruct', 'ls_model_type': 'chat', 'ls_temperature': 0.7}, 'parent_ids': ['b2f8132b-5c31-4cfc-87ab-3f717e1c31c7', 'ef95cdeb-0b0d-4405-b4d6-e5c0784ea944']}\n",
            "{'event': 'on_chat_model_stream', 'data': {'chunk': AIMessageChunk(content=' Batman', additional_kwargs={}, response_metadata={}, id='run--08e40ddd-e285-479b-9ed1-654ef5af67fc')}, 'run_id': '08e40ddd-e285-479b-9ed1-654ef5af67fc', 'name': 'ChatGroq', 'tags': ['seq:step:1'], 'metadata': {'thread_id': '5', 'langgraph_step': 4, 'langgraph_node': 'SuperBot', 'langgraph_triggers': ('branch:to:SuperBot',), 'langgraph_path': ('__pregel_pull', 'SuperBot'), 'langgraph_checkpoint_ns': 'SuperBot:a933c887-eb90-9854-95f3-be618c384ab6', 'checkpoint_ns': 'SuperBot:a933c887-eb90-9854-95f3-be618c384ab6', 'ls_provider': 'groq', 'ls_model_name': 'meta-llama/llama-4-scout-17b-16e-instruct', 'ls_model_type': 'chat', 'ls_temperature': 0.7}, 'parent_ids': ['b2f8132b-5c31-4cfc-87ab-3f717e1c31c7', 'ef95cdeb-0b0d-4405-b4d6-e5c0784ea944']}\n",
            "{'event': 'on_chat_model_stream', 'data': {'chunk': AIMessageChunk(content='-J', additional_kwargs={}, response_metadata={}, id='run--08e40ddd-e285-479b-9ed1-654ef5af67fc')}, 'run_id': '08e40ddd-e285-479b-9ed1-654ef5af67fc', 'name': 'ChatGroq', 'tags': ['seq:step:1'], 'metadata': {'thread_id': '5', 'langgraph_step': 4, 'langgraph_node': 'SuperBot', 'langgraph_triggers': ('branch:to:SuperBot',), 'langgraph_path': ('__pregel_pull', 'SuperBot'), 'langgraph_checkpoint_ns': 'SuperBot:a933c887-eb90-9854-95f3-be618c384ab6', 'checkpoint_ns': 'SuperBot:a933c887-eb90-9854-95f3-be618c384ab6', 'ls_provider': 'groq', 'ls_model_name': 'meta-llama/llama-4-scout-17b-16e-instruct', 'ls_model_type': 'chat', 'ls_temperature': 0.7}, 'parent_ids': ['b2f8132b-5c31-4cfc-87ab-3f717e1c31c7', 'ef95cdeb-0b0d-4405-b4d6-e5c0784ea944']}\n",
            "{'event': 'on_chat_model_stream', 'data': {'chunk': AIMessageChunk(content='oker', additional_kwargs={}, response_metadata={}, id='run--08e40ddd-e285-479b-9ed1-654ef5af67fc')}, 'run_id': '08e40ddd-e285-479b-9ed1-654ef5af67fc', 'name': 'ChatGroq', 'tags': ['seq:step:1'], 'metadata': {'thread_id': '5', 'langgraph_step': 4, 'langgraph_node': 'SuperBot', 'langgraph_triggers': ('branch:to:SuperBot',), 'langgraph_path': ('__pregel_pull', 'SuperBot'), 'langgraph_checkpoint_ns': 'SuperBot:a933c887-eb90-9854-95f3-be618c384ab6', 'checkpoint_ns': 'SuperBot:a933c887-eb90-9854-95f3-be618c384ab6', 'ls_provider': 'groq', 'ls_model_name': 'meta-llama/llama-4-scout-17b-16e-instruct', 'ls_model_type': 'chat', 'ls_temperature': 0.7}, 'parent_ids': ['b2f8132b-5c31-4cfc-87ab-3f717e1c31c7', 'ef95cdeb-0b0d-4405-b4d6-e5c0784ea944']}\n",
            "{'event': 'on_chat_model_stream', 'data': {'chunk': AIMessageChunk(content=' rivalry', additional_kwargs={}, response_metadata={}, id='run--08e40ddd-e285-479b-9ed1-654ef5af67fc')}, 'run_id': '08e40ddd-e285-479b-9ed1-654ef5af67fc', 'name': 'ChatGroq', 'tags': ['seq:step:1'], 'metadata': {'thread_id': '5', 'langgraph_step': 4, 'langgraph_node': 'SuperBot', 'langgraph_triggers': ('branch:to:SuperBot',), 'langgraph_path': ('__pregel_pull', 'SuperBot'), 'langgraph_checkpoint_ns': 'SuperBot:a933c887-eb90-9854-95f3-be618c384ab6', 'checkpoint_ns': 'SuperBot:a933c887-eb90-9854-95f3-be618c384ab6', 'ls_provider': 'groq', 'ls_model_name': 'meta-llama/llama-4-scout-17b-16e-instruct', 'ls_model_type': 'chat', 'ls_temperature': 0.7}, 'parent_ids': ['b2f8132b-5c31-4cfc-87ab-3f717e1c31c7', 'ef95cdeb-0b0d-4405-b4d6-e5c0784ea944']}\n",
            "{'event': 'on_chat_model_stream', 'data': {'chunk': AIMessageChunk(content=',', additional_kwargs={}, response_metadata={}, id='run--08e40ddd-e285-479b-9ed1-654ef5af67fc')}, 'run_id': '08e40ddd-e285-479b-9ed1-654ef5af67fc', 'name': 'ChatGroq', 'tags': ['seq:step:1'], 'metadata': {'thread_id': '5', 'langgraph_step': 4, 'langgraph_node': 'SuperBot', 'langgraph_triggers': ('branch:to:SuperBot',), 'langgraph_path': ('__pregel_pull', 'SuperBot'), 'langgraph_checkpoint_ns': 'SuperBot:a933c887-eb90-9854-95f3-be618c384ab6', 'checkpoint_ns': 'SuperBot:a933c887-eb90-9854-95f3-be618c384ab6', 'ls_provider': 'groq', 'ls_model_name': 'meta-llama/llama-4-scout-17b-16e-instruct', 'ls_model_type': 'chat', 'ls_temperature': 0.7}, 'parent_ids': ['b2f8132b-5c31-4cfc-87ab-3f717e1c31c7', 'ef95cdeb-0b0d-4405-b4d6-e5c0784ea944']}\n",
            "{'event': 'on_chat_model_stream', 'data': {'chunk': AIMessageChunk(content=' or', additional_kwargs={}, response_metadata={}, id='run--08e40ddd-e285-479b-9ed1-654ef5af67fc')}, 'run_id': '08e40ddd-e285-479b-9ed1-654ef5af67fc', 'name': 'ChatGroq', 'tags': ['seq:step:1'], 'metadata': {'thread_id': '5', 'langgraph_step': 4, 'langgraph_node': 'SuperBot', 'langgraph_triggers': ('branch:to:SuperBot',), 'langgraph_path': ('__pregel_pull', 'SuperBot'), 'langgraph_checkpoint_ns': 'SuperBot:a933c887-eb90-9854-95f3-be618c384ab6', 'checkpoint_ns': 'SuperBot:a933c887-eb90-9854-95f3-be618c384ab6', 'ls_provider': 'groq', 'ls_model_name': 'meta-llama/llama-4-scout-17b-16e-instruct', 'ls_model_type': 'chat', 'ls_temperature': 0.7}, 'parent_ids': ['b2f8132b-5c31-4cfc-87ab-3f717e1c31c7', 'ef95cdeb-0b0d-4405-b4d6-e5c0784ea944']}\n",
            "{'event': 'on_chat_model_stream', 'data': {'chunk': AIMessageChunk(content=' do', additional_kwargs={}, response_metadata={}, id='run--08e40ddd-e285-479b-9ed1-654ef5af67fc')}, 'run_id': '08e40ddd-e285-479b-9ed1-654ef5af67fc', 'name': 'ChatGroq', 'tags': ['seq:step:1'], 'metadata': {'thread_id': '5', 'langgraph_step': 4, 'langgraph_node': 'SuperBot', 'langgraph_triggers': ('branch:to:SuperBot',), 'langgraph_path': ('__pregel_pull', 'SuperBot'), 'langgraph_checkpoint_ns': 'SuperBot:a933c887-eb90-9854-95f3-be618c384ab6', 'checkpoint_ns': 'SuperBot:a933c887-eb90-9854-95f3-be618c384ab6', 'ls_provider': 'groq', 'ls_model_name': 'meta-llama/llama-4-scout-17b-16e-instruct', 'ls_model_type': 'chat', 'ls_temperature': 0.7}, 'parent_ids': ['b2f8132b-5c31-4cfc-87ab-3f717e1c31c7', 'ef95cdeb-0b0d-4405-b4d6-e5c0784ea944']}\n",
            "{'event': 'on_chat_model_stream', 'data': {'chunk': AIMessageChunk(content=' you', additional_kwargs={}, response_metadata={}, id='run--08e40ddd-e285-479b-9ed1-654ef5af67fc')}, 'run_id': '08e40ddd-e285-479b-9ed1-654ef5af67fc', 'name': 'ChatGroq', 'tags': ['seq:step:1'], 'metadata': {'thread_id': '5', 'langgraph_step': 4, 'langgraph_node': 'SuperBot', 'langgraph_triggers': ('branch:to:SuperBot',), 'langgraph_path': ('__pregel_pull', 'SuperBot'), 'langgraph_checkpoint_ns': 'SuperBot:a933c887-eb90-9854-95f3-be618c384ab6', 'checkpoint_ns': 'SuperBot:a933c887-eb90-9854-95f3-be618c384ab6', 'ls_provider': 'groq', 'ls_model_name': 'meta-llama/llama-4-scout-17b-16e-instruct', 'ls_model_type': 'chat', 'ls_temperature': 0.7}, 'parent_ids': ['b2f8132b-5c31-4cfc-87ab-3f717e1c31c7', 'ef95cdeb-0b0d-4405-b4d6-e5c0784ea944']}\n",
            "{'event': 'on_chat_model_stream', 'data': {'chunk': AIMessageChunk(content=' have', additional_kwargs={}, response_metadata={}, id='run--08e40ddd-e285-479b-9ed1-654ef5af67fc')}, 'run_id': '08e40ddd-e285-479b-9ed1-654ef5af67fc', 'name': 'ChatGroq', 'tags': ['seq:step:1'], 'metadata': {'thread_id': '5', 'langgraph_step': 4, 'langgraph_node': 'SuperBot', 'langgraph_triggers': ('branch:to:SuperBot',), 'langgraph_path': ('__pregel_pull', 'SuperBot'), 'langgraph_checkpoint_ns': 'SuperBot:a933c887-eb90-9854-95f3-be618c384ab6', 'checkpoint_ns': 'SuperBot:a933c887-eb90-9854-95f3-be618c384ab6', 'ls_provider': 'groq', 'ls_model_name': 'meta-llama/llama-4-scout-17b-16e-instruct', 'ls_model_type': 'chat', 'ls_temperature': 0.7}, 'parent_ids': ['b2f8132b-5c31-4cfc-87ab-3f717e1c31c7', 'ef95cdeb-0b0d-4405-b4d6-e5c0784ea944']}\n",
            "{'event': 'on_chat_model_stream', 'data': {'chunk': AIMessageChunk(content=' a', additional_kwargs={}, response_metadata={}, id='run--08e40ddd-e285-479b-9ed1-654ef5af67fc')}, 'run_id': '08e40ddd-e285-479b-9ed1-654ef5af67fc', 'name': 'ChatGroq', 'tags': ['seq:step:1'], 'metadata': {'thread_id': '5', 'langgraph_step': 4, 'langgraph_node': 'SuperBot', 'langgraph_triggers': ('branch:to:SuperBot',), 'langgraph_path': ('__pregel_pull', 'SuperBot'), 'langgraph_checkpoint_ns': 'SuperBot:a933c887-eb90-9854-95f3-be618c384ab6', 'checkpoint_ns': 'SuperBot:a933c887-eb90-9854-95f3-be618c384ab6', 'ls_provider': 'groq', 'ls_model_name': 'meta-llama/llama-4-scout-17b-16e-instruct', 'ls_model_type': 'chat', 'ls_temperature': 0.7}, 'parent_ids': ['b2f8132b-5c31-4cfc-87ab-3f717e1c31c7', 'ef95cdeb-0b0d-4405-b4d6-e5c0784ea944']}\n",
            "{'event': 'on_chat_model_stream', 'data': {'chunk': AIMessageChunk(content=' favorite', additional_kwargs={}, response_metadata={}, id='run--08e40ddd-e285-479b-9ed1-654ef5af67fc')}, 'run_id': '08e40ddd-e285-479b-9ed1-654ef5af67fc', 'name': 'ChatGroq', 'tags': ['seq:step:1'], 'metadata': {'thread_id': '5', 'langgraph_step': 4, 'langgraph_node': 'SuperBot', 'langgraph_triggers': ('branch:to:SuperBot',), 'langgraph_path': ('__pregel_pull', 'SuperBot'), 'langgraph_checkpoint_ns': 'SuperBot:a933c887-eb90-9854-95f3-be618c384ab6', 'checkpoint_ns': 'SuperBot:a933c887-eb90-9854-95f3-be618c384ab6', 'ls_provider': 'groq', 'ls_model_name': 'meta-llama/llama-4-scout-17b-16e-instruct', 'ls_model_type': 'chat', 'ls_temperature': 0.7}, 'parent_ids': ['b2f8132b-5c31-4cfc-87ab-3f717e1c31c7', 'ef95cdeb-0b0d-4405-b4d6-e5c0784ea944']}\n",
            "{'event': 'on_chat_model_stream', 'data': {'chunk': AIMessageChunk(content=' Batman', additional_kwargs={}, response_metadata={}, id='run--08e40ddd-e285-479b-9ed1-654ef5af67fc')}, 'run_id': '08e40ddd-e285-479b-9ed1-654ef5af67fc', 'name': 'ChatGroq', 'tags': ['seq:step:1'], 'metadata': {'thread_id': '5', 'langgraph_step': 4, 'langgraph_node': 'SuperBot', 'langgraph_triggers': ('branch:to:SuperBot',), 'langgraph_path': ('__pregel_pull', 'SuperBot'), 'langgraph_checkpoint_ns': 'SuperBot:a933c887-eb90-9854-95f3-be618c384ab6', 'checkpoint_ns': 'SuperBot:a933c887-eb90-9854-95f3-be618c384ab6', 'ls_provider': 'groq', 'ls_model_name': 'meta-llama/llama-4-scout-17b-16e-instruct', 'ls_model_type': 'chat', 'ls_temperature': 0.7}, 'parent_ids': ['b2f8132b-5c31-4cfc-87ab-3f717e1c31c7', 'ef95cdeb-0b0d-4405-b4d6-e5c0784ea944']}\n",
            "{'event': 'on_chat_model_stream', 'data': {'chunk': AIMessageChunk(content=' villain', additional_kwargs={}, response_metadata={}, id='run--08e40ddd-e285-479b-9ed1-654ef5af67fc')}, 'run_id': '08e40ddd-e285-479b-9ed1-654ef5af67fc', 'name': 'ChatGroq', 'tags': ['seq:step:1'], 'metadata': {'thread_id': '5', 'langgraph_step': 4, 'langgraph_node': 'SuperBot', 'langgraph_triggers': ('branch:to:SuperBot',), 'langgraph_path': ('__pregel_pull', 'SuperBot'), 'langgraph_checkpoint_ns': 'SuperBot:a933c887-eb90-9854-95f3-be618c384ab6', 'checkpoint_ns': 'SuperBot:a933c887-eb90-9854-95f3-be618c384ab6', 'ls_provider': 'groq', 'ls_model_name': 'meta-llama/llama-4-scout-17b-16e-instruct', 'ls_model_type': 'chat', 'ls_temperature': 0.7}, 'parent_ids': ['b2f8132b-5c31-4cfc-87ab-3f717e1c31c7', 'ef95cdeb-0b0d-4405-b4d6-e5c0784ea944']}\n",
            "{'event': 'on_chat_model_stream', 'data': {'chunk': AIMessageChunk(content='?)', additional_kwargs={}, response_metadata={}, id='run--08e40ddd-e285-479b-9ed1-654ef5af67fc')}, 'run_id': '08e40ddd-e285-479b-9ed1-654ef5af67fc', 'name': 'ChatGroq', 'tags': ['seq:step:1'], 'metadata': {'thread_id': '5', 'langgraph_step': 4, 'langgraph_node': 'SuperBot', 'langgraph_triggers': ('branch:to:SuperBot',), 'langgraph_path': ('__pregel_pull', 'SuperBot'), 'langgraph_checkpoint_ns': 'SuperBot:a933c887-eb90-9854-95f3-be618c384ab6', 'checkpoint_ns': 'SuperBot:a933c887-eb90-9854-95f3-be618c384ab6', 'ls_provider': 'groq', 'ls_model_name': 'meta-llama/llama-4-scout-17b-16e-instruct', 'ls_model_type': 'chat', 'ls_temperature': 0.7}, 'parent_ids': ['b2f8132b-5c31-4cfc-87ab-3f717e1c31c7', 'ef95cdeb-0b0d-4405-b4d6-e5c0784ea944']}\n",
            "{'event': 'on_chat_model_stream', 'data': {'chunk': AIMessageChunk(content='', additional_kwargs={}, response_metadata={'finish_reason': 'stop', 'model_name': 'meta-llama/llama-4-scout-17b-16e-instruct', 'system_fingerprint': 'fp_79da0e0073'}, id='run--08e40ddd-e285-479b-9ed1-654ef5af67fc', usage_metadata={'input_tokens': 139, 'output_tokens': 151, 'total_tokens': 290})}, 'run_id': '08e40ddd-e285-479b-9ed1-654ef5af67fc', 'name': 'ChatGroq', 'tags': ['seq:step:1'], 'metadata': {'thread_id': '5', 'langgraph_step': 4, 'langgraph_node': 'SuperBot', 'langgraph_triggers': ('branch:to:SuperBot',), 'langgraph_path': ('__pregel_pull', 'SuperBot'), 'langgraph_checkpoint_ns': 'SuperBot:a933c887-eb90-9854-95f3-be618c384ab6', 'checkpoint_ns': 'SuperBot:a933c887-eb90-9854-95f3-be618c384ab6', 'ls_provider': 'groq', 'ls_model_name': 'meta-llama/llama-4-scout-17b-16e-instruct', 'ls_model_type': 'chat', 'ls_temperature': 0.7}, 'parent_ids': ['b2f8132b-5c31-4cfc-87ab-3f717e1c31c7', 'ef95cdeb-0b0d-4405-b4d6-e5c0784ea944']}\n",
            "{'event': 'on_chat_model_end', 'data': {'output': AIMessage(content=\"Nice to meet you again, Yuvraj!\\n\\nSo, you're a fan of Batman, huh? That's awesome! The Dark Knight is an iconic superhero with a rich history and a fascinating character. What do you like most about Batman? Is it his detective skills, his martial arts expertise, or his commitment to justice?\\n\\nAre you a fan of a particular Batman movie, TV show, or comic book series? There have been so many great iterations of Batman over the years, from the classic Adam West show to the more recent movies with Christian Bale, Ben Affleck, and Robert Pattinson.\\n\\n(By the way, I noticed you mentioned the Joker earlier. Are you interested in the Batman-Joker rivalry, or do you have a favorite Batman villain?)\", additional_kwargs={}, response_metadata={'finish_reason': 'stop', 'model_name': 'meta-llama/llama-4-scout-17b-16e-instruct', 'system_fingerprint': 'fp_79da0e0073'}, id='run--08e40ddd-e285-479b-9ed1-654ef5af67fc', usage_metadata={'input_tokens': 139, 'output_tokens': 151, 'total_tokens': 290}), 'input': {'messages': [[HumanMessage(content='Hi my name is yuvraj and i like joker', additional_kwargs={}, response_metadata={}, id='bb901ce7-bdb8-4620-b490-b44f5d088ca5'), AIMessage(content=\"Nice to meet you, Yuvraj!\\n\\nSo, you like the Joker, huh? That's a fascinating character! He's such an iconic villain with a complex personality. What is it about the Joker that resonates with you? Is it his unpredictability, his chaotic nature, or something else entirely?\\n\\n(By the way, are you a fan of the DC Comics universe or a particular movie/TV show featuring the Joker, like the Batman series or the Joker movie with Joaquin Phoenix?)\", additional_kwargs={}, response_metadata={'finish_reason': 'stop', 'model_name': 'meta-llama/llama-4-scout-17b-16e-instruct', 'system_fingerprint': 'fp_79da0e0073'}, id='run--1f76bc45-b5f8-4b14-9159-cd2816a5f67c', usage_metadata={'input_tokens': 22, 'output_tokens': 97, 'total_tokens': 119}), HumanMessage(content='Hi my name is yuvraj and i like batman', additional_kwargs={}, response_metadata={}, id='536ee98d-a362-4baa-a416-a09fc52060de')]]}}, 'run_id': '08e40ddd-e285-479b-9ed1-654ef5af67fc', 'name': 'ChatGroq', 'tags': ['seq:step:1'], 'metadata': {'thread_id': '5', 'langgraph_step': 4, 'langgraph_node': 'SuperBot', 'langgraph_triggers': ('branch:to:SuperBot',), 'langgraph_path': ('__pregel_pull', 'SuperBot'), 'langgraph_checkpoint_ns': 'SuperBot:a933c887-eb90-9854-95f3-be618c384ab6', 'checkpoint_ns': 'SuperBot:a933c887-eb90-9854-95f3-be618c384ab6', 'ls_provider': 'groq', 'ls_model_name': 'meta-llama/llama-4-scout-17b-16e-instruct', 'ls_model_type': 'chat', 'ls_temperature': 0.7}, 'parent_ids': ['b2f8132b-5c31-4cfc-87ab-3f717e1c31c7', 'ef95cdeb-0b0d-4405-b4d6-e5c0784ea944']}\n",
            "{'event': 'on_chain_stream', 'run_id': 'ef95cdeb-0b0d-4405-b4d6-e5c0784ea944', 'name': 'SuperBot', 'tags': ['graph:step:4'], 'metadata': {'thread_id': '5', 'langgraph_step': 4, 'langgraph_node': 'SuperBot', 'langgraph_triggers': ('branch:to:SuperBot',), 'langgraph_path': ('__pregel_pull', 'SuperBot'), 'langgraph_checkpoint_ns': 'SuperBot:a933c887-eb90-9854-95f3-be618c384ab6'}, 'data': {'chunk': {'messages': [AIMessage(content=\"Nice to meet you again, Yuvraj!\\n\\nSo, you're a fan of Batman, huh? That's awesome! The Dark Knight is an iconic superhero with a rich history and a fascinating character. What do you like most about Batman? Is it his detective skills, his martial arts expertise, or his commitment to justice?\\n\\nAre you a fan of a particular Batman movie, TV show, or comic book series? There have been so many great iterations of Batman over the years, from the classic Adam West show to the more recent movies with Christian Bale, Ben Affleck, and Robert Pattinson.\\n\\n(By the way, I noticed you mentioned the Joker earlier. Are you interested in the Batman-Joker rivalry, or do you have a favorite Batman villain?)\", additional_kwargs={}, response_metadata={'finish_reason': 'stop', 'model_name': 'meta-llama/llama-4-scout-17b-16e-instruct', 'system_fingerprint': 'fp_79da0e0073'}, id='run--08e40ddd-e285-479b-9ed1-654ef5af67fc', usage_metadata={'input_tokens': 139, 'output_tokens': 151, 'total_tokens': 290})]}}, 'parent_ids': ['b2f8132b-5c31-4cfc-87ab-3f717e1c31c7']}\n",
            "{'event': 'on_chain_end', 'data': {'output': {'messages': [AIMessage(content=\"Nice to meet you again, Yuvraj!\\n\\nSo, you're a fan of Batman, huh? That's awesome! The Dark Knight is an iconic superhero with a rich history and a fascinating character. What do you like most about Batman? Is it his detective skills, his martial arts expertise, or his commitment to justice?\\n\\nAre you a fan of a particular Batman movie, TV show, or comic book series? There have been so many great iterations of Batman over the years, from the classic Adam West show to the more recent movies with Christian Bale, Ben Affleck, and Robert Pattinson.\\n\\n(By the way, I noticed you mentioned the Joker earlier. Are you interested in the Batman-Joker rivalry, or do you have a favorite Batman villain?)\", additional_kwargs={}, response_metadata={'finish_reason': 'stop', 'model_name': 'meta-llama/llama-4-scout-17b-16e-instruct', 'system_fingerprint': 'fp_79da0e0073'}, id='run--08e40ddd-e285-479b-9ed1-654ef5af67fc', usage_metadata={'input_tokens': 139, 'output_tokens': 151, 'total_tokens': 290})]}, 'input': {'messages': [HumanMessage(content='Hi my name is yuvraj and i like joker', additional_kwargs={}, response_metadata={}, id='bb901ce7-bdb8-4620-b490-b44f5d088ca5'), AIMessage(content=\"Nice to meet you, Yuvraj!\\n\\nSo, you like the Joker, huh? That's a fascinating character! He's such an iconic villain with a complex personality. What is it about the Joker that resonates with you? Is it his unpredictability, his chaotic nature, or something else entirely?\\n\\n(By the way, are you a fan of the DC Comics universe or a particular movie/TV show featuring the Joker, like the Batman series or the Joker movie with Joaquin Phoenix?)\", additional_kwargs={}, response_metadata={'finish_reason': 'stop', 'model_name': 'meta-llama/llama-4-scout-17b-16e-instruct', 'system_fingerprint': 'fp_79da0e0073'}, id='run--1f76bc45-b5f8-4b14-9159-cd2816a5f67c', usage_metadata={'input_tokens': 22, 'output_tokens': 97, 'total_tokens': 119}), HumanMessage(content='Hi my name is yuvraj and i like batman', additional_kwargs={}, response_metadata={}, id='536ee98d-a362-4baa-a416-a09fc52060de')]}}, 'run_id': 'ef95cdeb-0b0d-4405-b4d6-e5c0784ea944', 'name': 'SuperBot', 'tags': ['graph:step:4'], 'metadata': {'thread_id': '5', 'langgraph_step': 4, 'langgraph_node': 'SuperBot', 'langgraph_triggers': ('branch:to:SuperBot',), 'langgraph_path': ('__pregel_pull', 'SuperBot'), 'langgraph_checkpoint_ns': 'SuperBot:a933c887-eb90-9854-95f3-be618c384ab6'}, 'parent_ids': ['b2f8132b-5c31-4cfc-87ab-3f717e1c31c7']}\n",
            "{'event': 'on_chain_stream', 'run_id': 'b2f8132b-5c31-4cfc-87ab-3f717e1c31c7', 'name': 'LangGraph', 'tags': [], 'metadata': {'thread_id': '5'}, 'data': {'chunk': {'SuperBot': {'messages': [AIMessage(content=\"Nice to meet you again, Yuvraj!\\n\\nSo, you're a fan of Batman, huh? That's awesome! The Dark Knight is an iconic superhero with a rich history and a fascinating character. What do you like most about Batman? Is it his detective skills, his martial arts expertise, or his commitment to justice?\\n\\nAre you a fan of a particular Batman movie, TV show, or comic book series? There have been so many great iterations of Batman over the years, from the classic Adam West show to the more recent movies with Christian Bale, Ben Affleck, and Robert Pattinson.\\n\\n(By the way, I noticed you mentioned the Joker earlier. Are you interested in the Batman-Joker rivalry, or do you have a favorite Batman villain?)\", additional_kwargs={}, response_metadata={'finish_reason': 'stop', 'model_name': 'meta-llama/llama-4-scout-17b-16e-instruct', 'system_fingerprint': 'fp_79da0e0073'}, id='run--08e40ddd-e285-479b-9ed1-654ef5af67fc', usage_metadata={'input_tokens': 139, 'output_tokens': 151, 'total_tokens': 290})]}}}, 'parent_ids': []}\n",
            "{'event': 'on_chain_end', 'data': {'output': {'messages': [HumanMessage(content='Hi my name is yuvraj and i like joker', additional_kwargs={}, response_metadata={}, id='bb901ce7-bdb8-4620-b490-b44f5d088ca5'), AIMessage(content=\"Nice to meet you, Yuvraj!\\n\\nSo, you like the Joker, huh? That's a fascinating character! He's such an iconic villain with a complex personality. What is it about the Joker that resonates with you? Is it his unpredictability, his chaotic nature, or something else entirely?\\n\\n(By the way, are you a fan of the DC Comics universe or a particular movie/TV show featuring the Joker, like the Batman series or the Joker movie with Joaquin Phoenix?)\", additional_kwargs={}, response_metadata={'finish_reason': 'stop', 'model_name': 'meta-llama/llama-4-scout-17b-16e-instruct', 'system_fingerprint': 'fp_79da0e0073'}, id='run--1f76bc45-b5f8-4b14-9159-cd2816a5f67c', usage_metadata={'input_tokens': 22, 'output_tokens': 97, 'total_tokens': 119}), HumanMessage(content='Hi my name is yuvraj and i like batman', additional_kwargs={}, response_metadata={}, id='536ee98d-a362-4baa-a416-a09fc52060de'), AIMessage(content=\"Nice to meet you again, Yuvraj!\\n\\nSo, you're a fan of Batman, huh? That's awesome! The Dark Knight is an iconic superhero with a rich history and a fascinating character. What do you like most about Batman? Is it his detective skills, his martial arts expertise, or his commitment to justice?\\n\\nAre you a fan of a particular Batman movie, TV show, or comic book series? There have been so many great iterations of Batman over the years, from the classic Adam West show to the more recent movies with Christian Bale, Ben Affleck, and Robert Pattinson.\\n\\n(By the way, I noticed you mentioned the Joker earlier. Are you interested in the Batman-Joker rivalry, or do you have a favorite Batman villain?)\", additional_kwargs={}, response_metadata={'finish_reason': 'stop', 'model_name': 'meta-llama/llama-4-scout-17b-16e-instruct', 'system_fingerprint': 'fp_79da0e0073'}, id='run--08e40ddd-e285-479b-9ed1-654ef5af67fc', usage_metadata={'input_tokens': 139, 'output_tokens': 151, 'total_tokens': 290})]}}, 'run_id': 'b2f8132b-5c31-4cfc-87ab-3f717e1c31c7', 'name': 'LangGraph', 'tags': [], 'metadata': {'thread_id': '5'}, 'parent_ids': []}\n"
          ]
        }
      ]
    },
    {
      "cell_type": "markdown",
      "source": [
        "# Human in the loop"
      ],
      "metadata": {
        "id": "ZVlFbHLLLC_O"
      }
    },
    {
      "cell_type": "code",
      "source": [],
      "metadata": {
        "id": "XxHadAXJLHnm"
      },
      "execution_count": null,
      "outputs": []
    }
  ]
}